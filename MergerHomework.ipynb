{
 "cells": [
  {
   "cell_type": "code",
   "execution_count": 1,
   "metadata": {},
   "outputs": [],
   "source": [
    "import numpy as np\n",
    "from scipy.optimize import fsolve, fixed_point\n",
    "from matplotlib import pyplot as plt\n",
    "import pyblp\n",
    "from tqdm.notebook import trange\n",
    "import statsmodels.api as sm\n",
    "import statsmodels.formula.api as smf\n",
    "import pandas as pd"
   ]
  },
  {
   "cell_type": "code",
   "execution_count": 2,
   "metadata": {},
   "outputs": [],
   "source": [
    "RNG_SEED = 8476263\n",
    "\n",
    "rng = np.random.default_rng(RNG_SEED) # this random seeding is for reproducibility"
   ]
  },
  {
   "cell_type": "code",
   "execution_count": 3,
   "metadata": {},
   "outputs": [],
   "source": [
    "# I am horrified that we have to overrun the default collinearity checks\n",
    "# however, wired and satellite dummy variables are collinear\n",
    "# so to prevent PyBLP from throwing a fit, we must do this.\n",
    "pyblp.options.collinear_rtol = 0\n",
    "pyblp.options.collinear_atol = 0"
   ]
  },
  {
   "cell_type": "code",
   "execution_count": 4,
   "metadata": {},
   "outputs": [],
   "source": [
    "# fixed parameter definitions\n",
    "\n",
    "beta1 = 1\n",
    "alpha = -2\n",
    "gamma0 = 1/2\n",
    "gamma1 = 1/4\n",
    "beta2_bar = 4\n",
    "beta3_bar = 4\n",
    "sigma2 = 1\n",
    "sigma3 = 1\n",
    "\n",
    "# markets and goods\n",
    "T = 600\n",
    "J = 4"
   ]
  },
  {
   "cell_type": "code",
   "execution_count": 5,
   "metadata": {},
   "outputs": [],
   "source": [
    "# 3.1\n",
    "\n",
    "# x_jt, w_jt are absolute value of iid standard normal variables\n",
    "x = np.absolute(rng.standard_normal(size=(J,T)))\n",
    "w = np.absolute(rng.standard_normal(size=(J,T)))\n",
    "\n",
    "unobservable_mean = [0,0]\n",
    "unobservable_cov = [[1,0.25],[0.25,1]]\n",
    "unobservables = rng.multivariate_normal(unobservable_mean, unobservable_cov, size=(J,T))\n",
    "xi = unobservables[:,:,0]\n",
    "omega = unobservables[:,:,1]"
   ]
  },
  {
   "cell_type": "code",
   "execution_count": 6,
   "metadata": {},
   "outputs": [],
   "source": [
    "# 3.2a\n",
    "# defining the market share\n",
    "\n",
    "def own_mkt_share_derivative(t, p, beta2, beta3): \n",
    "    # p should be a length J vector\n",
    "    # betas should be num_sims\n",
    "    \n",
    "    u_t = np.tile(x[:,t] + xi[:,t] + alpha*p, (len(beta2), 1)) # num_sims x J \n",
    "    for j in range(J):\n",
    "        if j < 2:\n",
    "            u_t[:,j] = u_t[:,j] + beta2\n",
    "        else:\n",
    "            u_t[:,j] = u_t[:,j] + beta3\n",
    "            \n",
    "    Z = np.tile( 1 + np.sum(np.exp(u_t),axis=-1), (J,1)).T\n",
    "    numerator = alpha*np.exp(u_t)*Z - alpha*np.square(np.exp(u_t)) # num_sims x J\n",
    "    denominator = np.square(Z)\n",
    "    \n",
    "    return np.mean(numerator / denominator, axis=0)\n",
    "\n",
    "def outside_mkt_share_derivative(t, p, beta2, beta3): \n",
    "    # p should be a length J vector\n",
    "    # betas should be num_sims\n",
    "    \n",
    "    u_t = np.tile(x[:,t] + xi[:,t] + alpha*p, (len(beta2), 1)) # num_sims x J \n",
    "    for j in range(J):\n",
    "        if j < 2:\n",
    "            u_t[:,j] = u_t[:,j] + beta2\n",
    "        else:\n",
    "            u_t[:,j] = u_t[:,j] + beta3\n",
    "            \n",
    "    Z = np.tile( 1 + np.sum(np.exp(u_t),axis=-1), (J,1)).T\n",
    "    numerator = -1*alpha*np.exp(u_t) # num_sims x J\n",
    "    denominator = np.square(Z)\n",
    "    \n",
    "    return np.mean(numerator / denominator, axis=0)  \n",
    "    \n",
    "def full_mkt_share_derivative(t, p, beta2, beta3):\n",
    "    # p should be a length J vector\n",
    "    # betas should be num_sims\n",
    "    \n",
    "    u_t = np.tile(x[:,t] + xi[:,t] + alpha*p, (len(beta2), 1)) # num_sims x J \n",
    "    for j in range(J):\n",
    "        if j < 2:\n",
    "            u_t[:,j] = u_t[:,j] + beta2\n",
    "        else:\n",
    "            u_t[:,j] = u_t[:,j] + beta3\n",
    "            \n",
    "    Z = np.tile( 1 + np.sum(np.exp(u_t),axis=-1), (J,1)).T # num_sims x J\n",
    "    \n",
    "    derivatives = np.zeros((J,J))\n",
    "    \n",
    "    own_numerator = alpha*np.exp(u_t)*Z - alpha*np.square(np.exp(u_t)) # num_sims x J\n",
    "    denominator = np.square(Z)\n",
    "    \n",
    "    for j in range(J):\n",
    "        derivatives[j,j] = np.mean(own_numerator / denominator, axis=0)[j]\n",
    "        \n",
    "    for j in range(J):\n",
    "        for k in range(J):\n",
    "            if not (j == k):\n",
    "                derivatives[j,k] = np.mean(-1*alpha*np.exp(u_t)[:,k]*np.exp(u_t)[:,j] / np.square(1 + np.sum(np.exp(u_t),axis=-1)))\n",
    "    \n",
    "    return derivatives"
   ]
  },
  {
   "cell_type": "code",
   "execution_count": 7,
   "metadata": {},
   "outputs": [],
   "source": [
    "# s_jt(p) \n",
    "def mkt_share(t, p, beta2, beta3):\n",
    "    # p should be a length J vector\n",
    "    # betas should be num_sims\n",
    "    \n",
    "    u_t = np.tile(x[:,t] + xi[:,t] + alpha*p, (len(beta2), 1)) # num_sims x J \n",
    "    for j in range(J):\n",
    "        if j < 2:\n",
    "            u_t[:,j] = u_t[:,j] + beta2\n",
    "        else:\n",
    "            u_t[:,j] = u_t[:,j] + beta3\n",
    "            \n",
    "    numerator = np.exp(u_t) \n",
    "    denominator = 1 + np.sum(np.exp(u_t),axis=-1) # num_sims\n",
    "    \n",
    "    return np.mean(numerator / (np.tile(denominator, (J, 1)).T), axis=0) \n"
   ]
  },
  {
   "cell_type": "code",
   "execution_count": 8,
   "metadata": {},
   "outputs": [
    {
     "data": {
      "application/vnd.jupyter.widget-view+json": {
       "model_id": "b57d48ebed7941ac9ad3ce3f099aee7e",
       "version_major": 2,
       "version_minor": 0
      },
      "text/plain": [
       "HBox(children=(IntProgress(value=0), HTML(value='')))"
      ]
     },
     "metadata": {},
     "output_type": "display_data"
    },
    {
     "name": "stdout",
     "output_type": "stream",
     "text": [
      "\n"
     ]
    },
    {
     "data": {
      "text/plain": [
       "(array([0.04784253, 0.15288083, 0.44046486, 0.35277411]),\n",
       " array([0.0008991 , 0.00287306, 0.00211771, 0.0016961 ]),\n",
       " array([[-0.29478105,  0.06650959,  0.2168944 ,  0.00709914],\n",
       "        [ 0.06650959, -0.16315672,  0.09183023,  0.00300568],\n",
       "        [ 0.2168944 ,  0.09183023, -0.35012373,  0.03100105],\n",
       "        [ 0.00709914,  0.00300568,  0.03100105, -0.04144621]]),\n",
       " array([[3.08401066e-03, 1.64034900e-03, 1.89106999e-03, 6.18963701e-05],\n",
       "        [1.64034900e-03, 2.14278030e-03, 8.00654110e-04, 2.62061074e-05],\n",
       "        [1.89106999e-03, 8.00654110e-04, 2.45783477e-03, 3.51894072e-04],\n",
       "        [6.18963701e-05, 2.62061074e-05, 3.51894072e-04, 2.89493485e-04]]))"
      ]
     },
     "execution_count": 8,
     "metadata": {},
     "output_type": "execute_result"
    }
   ],
   "source": [
    "# 3.2a(iv)\n",
    "# draw beta coefficients for N individuals S times, observe variation in market share derivatives\n",
    "\n",
    "S = 100\n",
    "\n",
    "all_derivatives = np.zeros((J,J,S))\n",
    "all_shares = np.zeros((J,S))\n",
    "\n",
    "N = 3000\n",
    "\n",
    "price = np.array([1,1,1,1])\n",
    "\n",
    "for s in trange(S):\n",
    "    beta2 = rng.normal(beta2_bar, sigma2, N)\n",
    "    beta3 = rng.normal(beta3_bar, sigma3, N)\n",
    "    all_derivatives[:,:,s] = full_mkt_share_derivative(0, price, beta2, beta3)\n",
    "    all_shares[:,s] = mkt_share(1, price, beta2, beta3)\n",
    "(np.mean(all_shares,axis=1), np.std(all_shares,axis=1), np.mean(all_derivatives, axis=2), np.std(all_derivatives, axis=2))"
   ]
  },
  {
   "cell_type": "code",
   "execution_count": 9,
   "metadata": {},
   "outputs": [],
   "source": [
    "mc = np.exp( gamma0 + gamma1*w + omega/8)"
   ]
  },
  {
   "cell_type": "code",
   "execution_count": 10,
   "metadata": {},
   "outputs": [],
   "source": [
    "# define function to solve\n",
    "\n",
    "def get_function_to_solve(t, beta2, beta3):\n",
    "    def F(p):\n",
    "        # p is a \n",
    "        ds_dp = own_mkt_share_derivative(t, p, beta2, beta3)\n",
    "        shares = mkt_share(t, p, beta2, beta3)\n",
    "        return p - mc[:,t] + np.reciprocal(ds_dp)*shares\n",
    "        \n",
    "    return F\n"
   ]
  },
  {
   "cell_type": "code",
   "execution_count": 11,
   "metadata": {},
   "outputs": [],
   "source": [
    "# draw betas, now compute equilibrium prices and shares\n",
    "\n",
    "beta2 = rng.normal(beta2_bar, sigma2, (N,T))\n",
    "beta3 = rng.normal(beta3_bar, sigma3, (N,T))"
   ]
  },
  {
   "cell_type": "code",
   "execution_count": 12,
   "metadata": {},
   "outputs": [
    {
     "data": {
      "application/vnd.jupyter.widget-view+json": {
       "model_id": "764a59175e4649e8b725ff383bf51791",
       "version_major": 2,
       "version_minor": 0
      },
      "text/plain": [
       "HBox(children=(IntProgress(value=0, max=600), HTML(value='')))"
      ]
     },
     "metadata": {},
     "output_type": "display_data"
    },
    {
     "name": "stdout",
     "output_type": "stream",
     "text": [
      "\n"
     ]
    },
    {
     "data": {
      "text/plain": [
       "True"
      ]
     },
     "execution_count": 12,
     "metadata": {},
     "output_type": "execute_result"
    }
   ],
   "source": [
    "\n",
    "\n",
    "# 3.2 and 3.3: compute equilibrium shares, prices\n",
    "\n",
    "# these two variables are the prices and shares\n",
    "eq_prices = np.zeros((J, T))\n",
    "eq_shares = np.zeros((J, T))\n",
    "\n",
    "flag_total = 0\n",
    "\n",
    "for t in trange(T):\n",
    "    fn = get_function_to_solve(t, beta2[:,t], beta3[:,t])\n",
    "    mkt_eq_prices, _ , flag, _ = fsolve(fn, np.array([1,1,1,1]), full_output=True)\n",
    "    flag_total += flag\n",
    "    eq_prices[:,t] = mkt_eq_prices\n",
    "    eq_shares[:, t] = mkt_share(t, mkt_eq_prices, beta2[:,t], beta3[:,t])\n",
    "    \n",
    "# this should be True iff all of the fsolves converge\n",
    "flag_total == T"
   ]
  },
  {
   "cell_type": "code",
   "execution_count": 80,
   "metadata": {},
   "outputs": [
    {
     "data": {
      "application/vnd.jupyter.widget-view+json": {
       "model_id": "0c9fe881efd44e84a50a4085ccf42586",
       "version_major": 2,
       "version_minor": 0
      },
      "text/plain": [
       "HBox(children=(IntProgress(value=0, max=600), HTML(value='')))"
      ]
     },
     "metadata": {},
     "output_type": "display_data"
    },
    {
     "name": "stdout",
     "output_type": "stream",
     "text": [
      "\n"
     ]
    },
    {
     "data": {
      "text/plain": [
       "(array([0.25669534, 0.11349968, 0.39999952, 0.08411012]),\n",
       " array([0.01557261, 0.00688554, 0.01892846, 0.00398019]),\n",
       " array([[-0.32917796,  0.04810907,  0.19157701,  0.00806251],\n",
       "        [ 0.04810907, -0.11332643,  0.04445226,  0.00187077],\n",
       "        [ 0.19157701,  0.04445226, -0.39841075,  0.02477189],\n",
       "        [ 0.00806251,  0.00187077,  0.02477189, -0.04049647]]),\n",
       " array([[1.40807281e-02, 5.50269847e-03, 7.87574330e-03, 3.31450286e-04],\n",
       "        [5.50269847e-03, 6.92407984e-03, 1.82743524e-03, 7.69075262e-05],\n",
       "        [7.87574330e-03, 1.82743524e-03, 1.02960062e-02, 1.79170411e-03],\n",
       "        [3.31450286e-04, 7.69075262e-05, 1.79170411e-03, 1.76051029e-03]]))"
      ]
     },
     "execution_count": 80,
     "metadata": {},
     "output_type": "execute_result"
    }
   ],
   "source": [
    "# TODO: check that at the equilibrium prices, the estimates for market shares and market share derivatives are precise\n",
    "#repeating the exercise of simulation with equilibrium prices, trying to get equilibrium shares\n",
    "\n",
    "S = 100\n",
    "\n",
    "all_derivatives = np.zeros((J,J,S))\n",
    "all_shares = np.zeros((J,S))\n",
    "\n",
    "N = 100\n",
    "\n",
    "for t in trange(T):\n",
    "    price = np.array(eq_prices[:,t])\n",
    "    for s in range(S):\n",
    "        beta2_s = np.random.normal(beta2_bar, sigma2, N)\n",
    "        beta3_s = np.random.normal(beta3_bar, sigma3, N)\n",
    "        all_derivatives[:,:,s] = full_mkt_share_derivative(0, price, beta2_s, beta3_s)\n",
    "        all_shares[:,s] = mkt_share(t, price, beta2_s, beta3_s)\n",
    "    \n",
    "(np.mean(all_shares,axis=1), np.std(all_shares,axis=1), np.mean(all_derivatives, axis=2), np.std(all_derivatives, axis=2))"
   ]
  },
  {
   "cell_type": "code",
   "execution_count": 14,
   "metadata": {},
   "outputs": [],
   "source": [
    "# Morrow and Skerlos (2011) Method: (see equation 27 in Conlon + Gortmaker)\n",
    "\n",
    "def get_matrices(t, p, beta2, beta3):\n",
    "    # p should be a length J vector\n",
    "    # betas should be num_sims\n",
    "    \n",
    "    u_t = np.tile(x[:,t] + xi[:,t] + alpha*p, (len(beta2), 1)) # num_sims x J \n",
    "    for j in range(J):\n",
    "        if j < 2:\n",
    "            u_t[:,j] = u_t[:,j] + beta2\n",
    "        else:\n",
    "            u_t[:,j] = u_t[:,j] + beta3\n",
    "            \n",
    "    Z = np.tile( 1 + np.sum(np.exp(u_t),axis=-1), (J,1)).T # num_sims x J\n",
    "    \n",
    "    Lambda_inv = np.zeros((J,J))\n",
    "    Gamma = np.zeros((J,J))\n",
    "    \n",
    "    own_numerator = alpha*np.exp(u_t)  # num_sims x J\n",
    "    denominator = Z\n",
    "    \n",
    "    for j in range(J):\n",
    "        Lambda_inv[j,j] = 1 / (np.mean(own_numerator / denominator, axis=0)[j])\n",
    "        \n",
    "    for j in range(J):\n",
    "        for k in range(J):\n",
    "            Gamma[j,k] = np.mean(alpha*np.exp(u_t)[:,k]*np.exp(u_t)[:,j] / np.square(1 + np.sum(np.exp(u_t),axis=-1)))\n",
    "    \n",
    "    return Lambda_inv, Gamma\n",
    "\n",
    "def get_fixed_point_function(t, beta2, beta3):\n",
    "    ownership_matrix = np.identity(J)\n",
    "    def F(p):\n",
    "        Lambda_inv, Gamma = get_matrices(t, p, beta2, beta3)\n",
    "        shares = mkt_share(t, p, beta2, beta3)\n",
    "        zeta = np.matmul(np.matmul(Lambda_inv, ownership_matrix*Gamma), (p - mc[:,t])) - np.matmul(Lambda_inv, shares)\n",
    "        return mc[:,t] + zeta\n",
    "        \n",
    "    return F\n",
    "\n"
   ]
  },
  {
   "cell_type": "code",
   "execution_count": 15,
   "metadata": {},
   "outputs": [
    {
     "data": {
      "application/vnd.jupyter.widget-view+json": {
       "model_id": "f6eb9d60ce7b4d1fb40b8193bc03c3a8",
       "version_major": 2,
       "version_minor": 0
      },
      "text/plain": [
       "HBox(children=(IntProgress(value=0, max=600), HTML(value='')))"
      ]
     },
     "metadata": {},
     "output_type": "display_data"
    },
    {
     "name": "stdout",
     "output_type": "stream",
     "text": [
      "\n"
     ]
    },
    {
     "data": {
      "text/plain": [
       "(1.373072322508051e-09, 4.207107107134789e-09)"
      ]
     },
     "execution_count": 15,
     "metadata": {},
     "output_type": "execute_result"
    }
   ],
   "source": [
    "# Simulate equilibrium using the Morrow and Skerlos (2011) method\n",
    "eq_prices_2 = np.zeros((J, T))\n",
    "eq_shares_2 = np.zeros((J, T))\n",
    "\n",
    "for t in trange(T):\n",
    "    fn = get_fixed_point_function(t, beta2[:,t], beta3[:,t])\n",
    "    mkt_eq_prices = fixed_point(fn, np.array([1,1,1,1]), method=\"iteration\")\n",
    "    eq_prices_2[:,t] = mkt_eq_prices\n",
    "    eq_shares_2[:, t] = mkt_share(t, mkt_eq_prices, beta2[:,t], beta3[:,t])\n",
    "\n",
    "# the difference between the two methods, check that this is small\n",
    "np.max(eq_prices_2 - eq_prices), np.max(eq_shares_2 - eq_shares)"
   ]
  },
  {
   "cell_type": "code",
   "execution_count": 59,
   "metadata": {},
   "outputs": [
    {
     "data": {
      "application/vnd.jupyter.widget-view+json": {
       "model_id": "8dbe3221e69e45db978bd03d96157131",
       "version_major": 2,
       "version_minor": 0
      },
      "text/plain": [
       "HBox(children=(IntProgress(value=0, max=600), HTML(value='')))"
      ]
     },
     "metadata": {},
     "output_type": "display_data"
    },
    {
     "name": "stdout",
     "output_type": "stream",
     "text": [
      "\n"
     ]
    }
   ],
   "source": [
    "# Precompute the price elasticities and diversion \n",
    "true_price_elasticities = np.zeros((J,J,T))\n",
    "true_diversion_ratios = np.zeros((J,J,T))\n",
    "\n",
    "N = 100\n",
    "\n",
    "for t in trange(T):\n",
    "    own_price_derivative = own_mkt_share_derivative(t, eq_prices[:,t], beta2[:,t], beta3[:,t])\n",
    "    derivative_matrix = full_mkt_share_derivative(t, eq_prices[:,t], beta2[:,t], beta3[:,t])\n",
    "    true_price_elasticities[:,:,t] = eq_prices[:,t]*derivative_matrix / eq_shares[:,t].T\n",
    "    derivative_matrix = full_mkt_share_derivative(t, eq_prices[:,t], beta2[:,t], beta3[:,t])\n",
    "    outside_derivatives = outside_mkt_share_derivative(t, eq_prices[:,t], beta2[:,t], beta3[:,t])\n",
    "    for j in range(J):\n",
    "        for k in range(J):\n",
    "            true_diversion_ratios[j,k,t] = -1*derivative_matrix[k,j]/derivative_matrix[j,j]\n",
    "    for j in range(J):\n",
    "        true_diversion_ratios[j,j,t] = -1*outside_derivatives[j]/derivative_matrix[j,j]"
   ]
  },
  {
   "cell_type": "code",
   "execution_count": 17,
   "metadata": {},
   "outputs": [],
   "source": [
    "\n",
    "market_ids = np.tile(np.arange(T) + 1,(J,1)).T.flatten()\n",
    "firm_ids = np.tile(np.arange(J) + 1,(T,1)).flatten()\n",
    "satellite = np.concatenate((np.ones((2,T)), np.zeros((2,T)))).T.flatten()\n",
    "wired = np.concatenate((np.zeros((2,T)), np.ones((2,T)))).T.flatten()\n",
    "observed_data = pd.DataFrame(data={\n",
    "    \"market_ids\": market_ids, \n",
    "    \"firm_ids\": firm_ids,\n",
    "    \"shares\": eq_shares.T.flatten(), \n",
    "    \"prices\": eq_prices.T.flatten(),\n",
    "    \"x\": x.T.flatten(),\n",
    "    \"satellite\": satellite,\n",
    "    \"wired\": wired,\n",
    "    \"w\": w.T.flatten()\n",
    "})\n",
    "unobserved_data = pd.DataFrame(data={\n",
    "    \"market_ids\": market_ids, \n",
    "    \"firm_ids\": firm_ids,\n",
    "    \"xi\": xi.T.flatten(),\n",
    "    \"omega\": omega.T.flatten()\n",
    "})"
   ]
  },
  {
   "cell_type": "code",
   "execution_count": 18,
   "metadata": {},
   "outputs": [],
   "source": [
    "# Instrument Analysis\n",
    "\n",
    "df1 = pd.DataFrame({'p':eq_prices[0,:]})\n",
    "df1['s'] = pd.Series(eq_shares[0,:])\n",
    "df1['x'] = pd.Series(x[0,:])\n",
    "df1['w'] = pd.Series(w[0,:])\n",
    "\n",
    "df2 = pd.DataFrame({'p':eq_prices[1,:]})\n",
    "df2['s'] = pd.Series(eq_shares[1,:])\n",
    "df2['x'] = pd.Series(x[1,:])\n",
    "df2['w'] = pd.Series(w[1,:])\n",
    "\n",
    "df3 = pd.DataFrame({'p':eq_prices[2,:]})\n",
    "df3['s'] = pd.Series(eq_shares[2,:])\n",
    "df3['x'] = pd.Series(x[2,:])\n",
    "df3['w'] = pd.Series(w[2,:])\n",
    "\n",
    "\n",
    "df4 = pd.DataFrame({'p':eq_prices[3,:]})\n",
    "df4['s'] = pd.Series(eq_shares[3,:])\n",
    "df4['x'] = pd.Series(x[3,:])\n",
    "df4['w'] = pd.Series(w[3,:])\n",
    "\n",
    "\n",
    "modelp11 = smf.ols('p ~ x +w', data=df1)\n",
    "modelp11 = modelp11.fit()\n",
    "\n",
    "modelp21 = smf.ols('p ~ x +w', data=df2)\n",
    "modelp21 = modelp21.fit()\n",
    "\n",
    "modelp31 = smf.ols('p ~ x +w', data=df3)\n",
    "modelp31 = modelp31.fit()\n",
    "\n",
    "modelp41 = smf.ols('p ~ x +w', data=df4)\n",
    "modelp41 = modelp41.fit()\n",
    "\n",
    "\n",
    "models11 = smf.ols('s ~ x +w', data=df1)\n",
    "models11 = models11.fit()\n",
    "\n",
    "models21 = smf.ols('s ~ x +w', data=df2)\n",
    "models21 = models21.fit()\n",
    "\n",
    "models31 = smf.ols('s ~ x +w', data=df3)\n",
    "models31 = models31.fit()\n",
    "\n",
    "models41 = smf.ols('s ~ x +w', data=df4)\n",
    "models41 = models41.fit()"
   ]
  },
  {
   "cell_type": "code",
   "execution_count": 19,
   "metadata": {},
   "outputs": [
    {
     "data": {
      "text/html": [
       "<table class=\"simpletable\">\n",
       "<caption>OLS Regression Results</caption>\n",
       "<tr>\n",
       "  <th>Dep. Variable:</th>            <td>p</td>        <th>  R-squared:         </th> <td>   0.473</td>\n",
       "</tr>\n",
       "<tr>\n",
       "  <th>Model:</th>                   <td>OLS</td>       <th>  Adj. R-squared:    </th> <td>   0.472</td>\n",
       "</tr>\n",
       "<tr>\n",
       "  <th>Method:</th>             <td>Least Squares</td>  <th>  F-statistic:       </th> <td>   268.4</td>\n",
       "</tr>\n",
       "<tr>\n",
       "  <th>Date:</th>             <td>Fri, 08 Oct 2021</td> <th>  Prob (F-statistic):</th> <td>6.91e-84</td>\n",
       "</tr>\n",
       "<tr>\n",
       "  <th>Time:</th>                 <td>09:31:37</td>     <th>  Log-Likelihood:    </th> <td> -77.142</td>\n",
       "</tr>\n",
       "<tr>\n",
       "  <th>No. Observations:</th>      <td>   600</td>      <th>  AIC:               </th> <td>   160.3</td>\n",
       "</tr>\n",
       "<tr>\n",
       "  <th>Df Residuals:</th>          <td>   597</td>      <th>  BIC:               </th> <td>   173.5</td>\n",
       "</tr>\n",
       "<tr>\n",
       "  <th>Df Model:</th>              <td>     2</td>      <th>                     </th>     <td> </td>   \n",
       "</tr>\n",
       "<tr>\n",
       "  <th>Covariance Type:</th>      <td>nonrobust</td>    <th>                     </th>     <td> </td>   \n",
       "</tr>\n",
       "</table>\n",
       "<table class=\"simpletable\">\n",
       "<tr>\n",
       "      <td></td>         <th>coef</th>     <th>std err</th>      <th>t</th>      <th>P>|t|</th>  <th>[0.025</th>    <th>0.975]</th>  \n",
       "</tr>\n",
       "<tr>\n",
       "  <th>Intercept</th> <td>    2.3049</td> <td>    0.023</td> <td>   98.211</td> <td> 0.000</td> <td>    2.259</td> <td>    2.351</td>\n",
       "</tr>\n",
       "<tr>\n",
       "  <th>x</th>         <td>    0.1316</td> <td>    0.019</td> <td>    6.886</td> <td> 0.000</td> <td>    0.094</td> <td>    0.169</td>\n",
       "</tr>\n",
       "<tr>\n",
       "  <th>w</th>         <td>    0.4205</td> <td>    0.020</td> <td>   21.362</td> <td> 0.000</td> <td>    0.382</td> <td>    0.459</td>\n",
       "</tr>\n",
       "</table>\n",
       "<table class=\"simpletable\">\n",
       "<tr>\n",
       "  <th>Omnibus:</th>       <td>31.151</td> <th>  Durbin-Watson:     </th> <td>   2.012</td>\n",
       "</tr>\n",
       "<tr>\n",
       "  <th>Prob(Omnibus):</th> <td> 0.000</td> <th>  Jarque-Bera (JB):  </th> <td>  37.169</td>\n",
       "</tr>\n",
       "<tr>\n",
       "  <th>Skew:</th>          <td> 0.504</td> <th>  Prob(JB):          </th> <td>8.49e-09</td>\n",
       "</tr>\n",
       "<tr>\n",
       "  <th>Kurtosis:</th>      <td> 3.688</td> <th>  Cond. No.          </th> <td>    4.04</td>\n",
       "</tr>\n",
       "</table><br/><br/>Warnings:<br/>[1] Standard Errors assume that the covariance matrix of the errors is correctly specified."
      ],
      "text/plain": [
       "<class 'statsmodels.iolib.summary.Summary'>\n",
       "\"\"\"\n",
       "                            OLS Regression Results                            \n",
       "==============================================================================\n",
       "Dep. Variable:                      p   R-squared:                       0.473\n",
       "Model:                            OLS   Adj. R-squared:                  0.472\n",
       "Method:                 Least Squares   F-statistic:                     268.4\n",
       "Date:                Fri, 08 Oct 2021   Prob (F-statistic):           6.91e-84\n",
       "Time:                        09:31:37   Log-Likelihood:                -77.142\n",
       "No. Observations:                 600   AIC:                             160.3\n",
       "Df Residuals:                     597   BIC:                             173.5\n",
       "Df Model:                           2                                         \n",
       "Covariance Type:            nonrobust                                         \n",
       "==============================================================================\n",
       "                 coef    std err          t      P>|t|      [0.025      0.975]\n",
       "------------------------------------------------------------------------------\n",
       "Intercept      2.3049      0.023     98.211      0.000       2.259       2.351\n",
       "x              0.1316      0.019      6.886      0.000       0.094       0.169\n",
       "w              0.4205      0.020     21.362      0.000       0.382       0.459\n",
       "==============================================================================\n",
       "Omnibus:                       31.151   Durbin-Watson:                   2.012\n",
       "Prob(Omnibus):                  0.000   Jarque-Bera (JB):               37.169\n",
       "Skew:                           0.504   Prob(JB):                     8.49e-09\n",
       "Kurtosis:                       3.688   Cond. No.                         4.04\n",
       "==============================================================================\n",
       "\n",
       "Warnings:\n",
       "[1] Standard Errors assume that the covariance matrix of the errors is correctly specified.\n",
       "\"\"\""
      ]
     },
     "execution_count": 19,
     "metadata": {},
     "output_type": "execute_result"
    }
   ],
   "source": [
    "modelp11.summary()"
   ]
  },
  {
   "cell_type": "markdown",
   "metadata": {},
   "source": [
    "## Part 4"
   ]
  },
  {
   "cell_type": "code",
   "execution_count": 20,
   "metadata": {},
   "outputs": [
    {
     "data": {
      "text/html": [
       "<table class=\"simpletable\">\n",
       "<caption>OLS Regression Results</caption>\n",
       "<tr>\n",
       "  <th>Dep. Variable:</th>            <td>y</td>        <th>  R-squared:         </th> <td>   0.314</td> \n",
       "</tr>\n",
       "<tr>\n",
       "  <th>Model:</th>                   <td>OLS</td>       <th>  Adj. R-squared:    </th> <td>   0.313</td> \n",
       "</tr>\n",
       "<tr>\n",
       "  <th>Method:</th>             <td>Least Squares</td>  <th>  F-statistic:       </th> <td>   365.4</td> \n",
       "</tr>\n",
       "<tr>\n",
       "  <th>Date:</th>             <td>Fri, 08 Oct 2021</td> <th>  Prob (F-statistic):</th> <td>2.09e-195</td>\n",
       "</tr>\n",
       "<tr>\n",
       "  <th>Time:</th>                 <td>09:31:37</td>     <th>  Log-Likelihood:    </th> <td> -3033.1</td> \n",
       "</tr>\n",
       "<tr>\n",
       "  <th>No. Observations:</th>      <td>  2400</td>      <th>  AIC:               </th> <td>   6074.</td> \n",
       "</tr>\n",
       "<tr>\n",
       "  <th>Df Residuals:</th>          <td>  2396</td>      <th>  BIC:               </th> <td>   6097.</td> \n",
       "</tr>\n",
       "<tr>\n",
       "  <th>Df Model:</th>              <td>     3</td>      <th>                     </th>     <td> </td>    \n",
       "</tr>\n",
       "<tr>\n",
       "  <th>Covariance Type:</th>      <td>nonrobust</td>    <th>                     </th>     <td> </td>    \n",
       "</tr>\n",
       "</table>\n",
       "<table class=\"simpletable\">\n",
       "<tr>\n",
       "      <td></td>         <th>coef</th>     <th>std err</th>      <th>t</th>      <th>P>|t|</th>  <th>[0.025</th>    <th>0.975]</th>  \n",
       "</tr>\n",
       "<tr>\n",
       "  <th>x</th>         <td>    0.8375</td> <td>    0.029</td> <td>   28.572</td> <td> 0.000</td> <td>    0.780</td> <td>    0.895</td>\n",
       "</tr>\n",
       "<tr>\n",
       "  <th>satellite</th> <td>    1.3705</td> <td>    0.122</td> <td>   11.239</td> <td> 0.000</td> <td>    1.131</td> <td>    1.610</td>\n",
       "</tr>\n",
       "<tr>\n",
       "  <th>wired</th>     <td>    1.3589</td> <td>    0.123</td> <td>   11.046</td> <td> 0.000</td> <td>    1.118</td> <td>    1.600</td>\n",
       "</tr>\n",
       "<tr>\n",
       "  <th>prices</th>    <td>   -0.9518</td> <td>    0.044</td> <td>  -21.393</td> <td> 0.000</td> <td>   -1.039</td> <td>   -0.865</td>\n",
       "</tr>\n",
       "</table>\n",
       "<table class=\"simpletable\">\n",
       "<tr>\n",
       "  <th>Omnibus:</th>       <td>41.828</td> <th>  Durbin-Watson:     </th> <td>   2.047</td>\n",
       "</tr>\n",
       "<tr>\n",
       "  <th>Prob(Omnibus):</th> <td> 0.000</td> <th>  Jarque-Bera (JB):  </th> <td>  48.815</td>\n",
       "</tr>\n",
       "<tr>\n",
       "  <th>Skew:</th>          <td>-0.263</td> <th>  Prob(JB):          </th> <td>2.51e-11</td>\n",
       "</tr>\n",
       "<tr>\n",
       "  <th>Kurtosis:</th>      <td> 3.460</td> <th>  Cond. No.          </th> <td>    30.0</td>\n",
       "</tr>\n",
       "</table><br/><br/>Warnings:<br/>[1] Standard Errors assume that the covariance matrix of the errors is correctly specified."
      ],
      "text/plain": [
       "<class 'statsmodels.iolib.summary.Summary'>\n",
       "\"\"\"\n",
       "                            OLS Regression Results                            \n",
       "==============================================================================\n",
       "Dep. Variable:                      y   R-squared:                       0.314\n",
       "Model:                            OLS   Adj. R-squared:                  0.313\n",
       "Method:                 Least Squares   F-statistic:                     365.4\n",
       "Date:                Fri, 08 Oct 2021   Prob (F-statistic):          2.09e-195\n",
       "Time:                        09:31:37   Log-Likelihood:                -3033.1\n",
       "No. Observations:                2400   AIC:                             6074.\n",
       "Df Residuals:                    2396   BIC:                             6097.\n",
       "Df Model:                           3                                         \n",
       "Covariance Type:            nonrobust                                         \n",
       "==============================================================================\n",
       "                 coef    std err          t      P>|t|      [0.025      0.975]\n",
       "------------------------------------------------------------------------------\n",
       "x              0.8375      0.029     28.572      0.000       0.780       0.895\n",
       "satellite      1.3705      0.122     11.239      0.000       1.131       1.610\n",
       "wired          1.3589      0.123     11.046      0.000       1.118       1.600\n",
       "prices        -0.9518      0.044    -21.393      0.000      -1.039      -0.865\n",
       "==============================================================================\n",
       "Omnibus:                       41.828   Durbin-Watson:                   2.047\n",
       "Prob(Omnibus):                  0.000   Jarque-Bera (JB):               48.815\n",
       "Skew:                          -0.263   Prob(JB):                     2.51e-11\n",
       "Kurtosis:                       3.460   Cond. No.                         30.0\n",
       "==============================================================================\n",
       "\n",
       "Warnings:\n",
       "[1] Standard Errors assume that the covariance matrix of the errors is correctly specified.\n",
       "\"\"\""
      ]
     },
     "execution_count": 20,
     "metadata": {},
     "output_type": "execute_result"
    }
   ],
   "source": [
    "# 4A: Logit\n",
    "outside_shares = 1 - np.sum(eq_shares, axis=0, keepdims=True)\n",
    "y = np.log(eq_shares/outside_shares).T.flatten()\n",
    "X = observed_data[[\"x\",\"satellite\",\"wired\",\"prices\"]]\n",
    "results = sm.OLS(y,X).fit()\n",
    "results.summary()"
   ]
  },
  {
   "cell_type": "markdown",
   "metadata": {},
   "source": [
    "Note that ignoring the endogeneity of prices results in underestimating the magnitudes of all the relevant parameters."
   ]
  },
  {
   "cell_type": "code",
   "execution_count": null,
   "metadata": {},
   "outputs": [],
   "source": []
  },
  {
   "cell_type": "code",
   "execution_count": null,
   "metadata": {},
   "outputs": [],
   "source": []
  },
  {
   "cell_type": "markdown",
   "metadata": {},
   "source": [
    "# Part 5"
   ]
  },
  {
   "cell_type": "markdown",
   "metadata": {},
   "source": [
    "## 5.a: Demand-side Estimation only"
   ]
  },
  {
   "cell_type": "code",
   "execution_count": 21,
   "metadata": {},
   "outputs": [
    {
     "name": "stdout",
     "output_type": "stream",
     "text": [
      "Initializing the problem ...\n",
      "Initialized the problem after 00:00:00.\n",
      "\n",
      "Dimensions:\n",
      "=======================================\n",
      " T    N     F     I     K1    K2    MD \n",
      "---  ----  ---  -----  ----  ----  ----\n",
      "600  2400   4   48600   4     2     3  \n",
      "=======================================\n",
      "\n",
      "Formulations:\n",
      "=================================================================\n",
      "       Column Indices:             0        1        2        3  \n",
      "-----------------------------  ---------  -----  ---------  -----\n",
      " X1: Linear Characteristics     prices      x    satellite  wired\n",
      "X2: Nonlinear Characteristics  satellite  wired                  \n",
      "=================================================================\n"
     ]
    }
   ],
   "source": [
    "# BLP, Demand-side estimation only\n",
    "\n",
    "demand_problem = pyblp.Problem(\n",
    "    [\n",
    "        pyblp.Formulation(\"0 + prices + x + satellite + wired\"),\n",
    "        pyblp.Formulation(\"0 + satellite + wired\"),\n",
    "        None\n",
    "    ],\n",
    "    observed_data,\n",
    "    integration=pyblp.Integration('product', size=9),\n",
    ")"
   ]
  },
  {
   "cell_type": "code",
   "execution_count": 31,
   "metadata": {},
   "outputs": [
    {
     "name": "stdout",
     "output_type": "stream",
     "text": [
      "Solving the problem ...\n",
      "\n",
      "Nonlinear Coefficient Initial Values:\n",
      "=======================================\n",
      " Sigma:      satellite        wired    \n",
      "---------  -------------  -------------\n",
      "satellite  +1.000000E+00               \n",
      "  wired    +0.000000E+00  +1.000000E+00\n",
      "=======================================\n",
      "\n",
      "Nonlinear Coefficient Lower Bounds:\n",
      "=======================================\n",
      " Sigma:      satellite        wired    \n",
      "---------  -------------  -------------\n",
      "satellite  +0.000000E+00               \n",
      "  wired    +0.000000E+00  +0.000000E+00\n",
      "=======================================\n",
      "\n",
      "Nonlinear Coefficient Upper Bounds:\n",
      "=======================================\n",
      " Sigma:      satellite        wired    \n",
      "---------  -------------  -------------\n",
      "satellite      +INF                    \n",
      "  wired    +0.000000E+00      +INF     \n",
      "=======================================\n",
      "\n",
      "Starting optimization ...\n",
      "\n",
      "GMM   Optimization   Objective   Fixed Point  Contraction  Clipped    Objective      Objective      Projected                                \n",
      "Step   Iterations   Evaluations  Iterations   Evaluations  Shares       Value       Improvement   Gradient Norm             Theta            \n",
      "----  ------------  -----------  -----------  -----------  -------  -------------  -------------  -------------  ----------------------------\n",
      " 1         0             1          4478         13776        0     +1.397861E-27                 +1.276800E-13  +1.000000E+00, +1.000000E+00\n",
      "\n",
      "Optimization completed after 00:00:02.\n",
      "Computing the Hessian and and updating the weighting matrix ...\n",
      "Computed results after 00:00:08.\n",
      "\n",
      "Problem Results Summary:\n",
      "===============================================================================================\n",
      "GMM     Objective      Projected    Reduced Hessian  Reduced Hessian  Clipped  Weighting Matrix\n",
      "Step      Value      Gradient Norm  Min Eigenvalue   Max Eigenvalue   Shares   Condition Number\n",
      "----  -------------  -------------  ---------------  ---------------  -------  ----------------\n",
      " 1    +1.397861E-27  +1.276800E-13   +1.507973E-06    +7.409371E-06      0      +1.043996E+01  \n",
      "===============================================================================================\n",
      "\n",
      "Starting optimization ...\n",
      "\n",
      "GMM   Optimization   Objective   Fixed Point  Contraction  Clipped    Objective      Objective      Projected                                \n",
      "Step   Iterations   Evaluations  Iterations   Evaluations  Shares       Value       Improvement   Gradient Norm             Theta            \n",
      "----  ------------  -----------  -----------  -----------  -------  -------------  -------------  -------------  ----------------------------\n",
      " 2         0             1            0           600         0     +1.073274E-27                 +3.029540E-13  +1.000000E+00, +1.000000E+00\n",
      "\n",
      "Optimization completed after 00:00:01.\n",
      "Computing the Hessian and estimating standard errors ...\n",
      "Computed results after 00:00:06.\n",
      "\n",
      "Problem Results Summary:\n",
      "==================================================================================================================\n",
      "GMM     Objective      Projected    Reduced Hessian  Reduced Hessian  Clipped  Weighting Matrix  Covariance Matrix\n",
      "Step      Value      Gradient Norm  Min Eigenvalue   Max Eigenvalue   Shares   Condition Number  Condition Number \n",
      "----  -------------  -------------  ---------------  ---------------  -------  ----------------  -----------------\n",
      " 2    +1.073274E-27  +3.029540E-13   -2.208656E-05    +8.266331E-06      0      +9.227456E+00      +4.366231E+17  \n",
      "==================================================================================================================\n",
      "\n",
      "Cumulative Statistics:\n",
      "===========================================================================\n",
      "Computation  Optimizer  Optimization   Objective   Fixed Point  Contraction\n",
      "   Time      Converged   Iterations   Evaluations  Iterations   Evaluations\n",
      "-----------  ---------  ------------  -----------  -----------  -----------\n",
      " 00:00:17       Yes          0             4          4478         14376   \n",
      "===========================================================================\n",
      "\n",
      "Nonlinear Coefficient Estimates (Robust SEs in Parentheses):\n",
      "===========================================\n",
      " Sigma:       satellite          wired     \n",
      "---------  ---------------  ---------------\n",
      "satellite   +1.000000E+00                  \n",
      "           (+4.410576E-03)                 \n",
      "                                           \n",
      "  wired     +0.000000E+00    +1.000000E+00 \n",
      "                            (+4.532765E-03)\n",
      "===========================================\n",
      "\n",
      "Beta Estimates (Robust SEs in Parentheses):\n",
      "==================================================================\n",
      "    prices              x            satellite          wired     \n",
      "---------------  ---------------  ---------------  ---------------\n",
      " -4.507325E-01    +8.461436E-01    -8.777418E-02    -1.191342E-01 \n",
      "(+1.126041E-02)  (+3.082421E-02)  (+1.866351E-02)  (+1.861941E-02)\n",
      "==================================================================\n",
      "Computing optimal instruments for theta ...\n",
      "Computed optimal instruments after 00:00:01.\n",
      "\n",
      "Optimal Instrument Results Summary:\n",
      "=======================\n",
      "Computation  Error Term\n",
      "   Time        Draws   \n",
      "-----------  ----------\n",
      " 00:00:01        1     \n",
      "=======================\n",
      "Re-creating the problem ...\n",
      "Re-created the problem after 00:00:00.\n",
      "\n",
      "Dimensions:\n",
      "=======================================\n",
      " T    N     F     I     K1    K2    MD \n",
      "---  ----  ---  -----  ----  ----  ----\n",
      "600  2400   4   48600   4     2     6  \n",
      "=======================================\n",
      "\n",
      "Formulations:\n",
      "=================================================================\n",
      "       Column Indices:             0        1        2        3  \n",
      "-----------------------------  ---------  -----  ---------  -----\n",
      " X1: Linear Characteristics     prices      x    satellite  wired\n",
      "X2: Nonlinear Characteristics  satellite  wired                  \n",
      "=================================================================\n"
     ]
    }
   ],
   "source": [
    "# we will assume (correctly) that the random coefficients on satellite and wired are uncorrellated\n",
    "\n",
    "# this step is going to spit out a lot of text, most of which is not meaningful yet. \n",
    "# the first iteration of .solve is only to compute the optimal instruments, and hence these first-step estimates are not very good\n",
    "\n",
    "demand_problem_w_instruments = demand_problem.solve(sigma=np.identity(2)).compute_optimal_instruments().to_problem()"
   ]
  },
  {
   "cell_type": "code",
   "execution_count": 32,
   "metadata": {},
   "outputs": [
    {
     "name": "stdout",
     "output_type": "stream",
     "text": [
      "Solving the problem ...\n",
      "\n",
      "Nonlinear Coefficient Initial Values:\n",
      "=======================================\n",
      " Sigma:      satellite        wired    \n",
      "---------  -------------  -------------\n",
      "satellite  +1.000000E+00               \n",
      "  wired    +0.000000E+00  +1.000000E+00\n",
      "=======================================\n",
      "\n",
      "Nonlinear Coefficient Lower Bounds:\n",
      "=======================================\n",
      " Sigma:      satellite        wired    \n",
      "---------  -------------  -------------\n",
      "satellite  +0.000000E+00               \n",
      "  wired    +0.000000E+00  +0.000000E+00\n",
      "=======================================\n",
      "\n",
      "Nonlinear Coefficient Upper Bounds:\n",
      "=======================================\n",
      " Sigma:      satellite        wired    \n",
      "---------  -------------  -------------\n",
      "satellite      +INF                    \n",
      "  wired    +0.000000E+00      +INF     \n",
      "=======================================\n",
      "\n",
      "Starting optimization ...\n",
      "\n",
      "GMM   Optimization   Objective   Fixed Point  Contraction  Clipped    Objective      Objective      Projected                                \n",
      "Step   Iterations   Evaluations  Iterations   Evaluations  Shares       Value       Improvement   Gradient Norm             Theta            \n",
      "----  ------------  -----------  -----------  -----------  -------  -------------  -------------  -------------  ----------------------------\n",
      " 1         0             1          4478         13776        0     -3.405574E+16                 +7.477739E+09  +1.000000E+00, +1.000000E+00\n",
      " 1         0             2          3138         9873         0     -1.614926E+16                 +4.646293E+09  +2.928932E-01, +2.928932E-01\n",
      " 1         0             3          4479         13774        0     -3.112526E+16                 +7.170115E+09  +9.999999E-01, +9.999999E-01\n",
      " 1         0             4          4478         13776        0     -3.405574E+16                 +7.477739E+09  +1.000000E+00, +1.000000E+00\n",
      " 1         0             5          4479         13770        0     -3.719706E+16  +3.141318E+15  +9.203889E+09  +1.000000E+00, +1.000000E+00\n",
      " 1         0             6          4478         13763        0     -1.673163E+16                 +1.565455E+10  +1.000000E+00, +1.000000E+00\n",
      " 1         0             7          4479         13770        0     -3.719706E+16                 +9.203889E+09  +1.000000E+00, +1.000000E+00\n",
      " 1         0             8          4478         13767        0     -5.568769E+16  +1.849063E+16  +1.328610E+10  +1.000000E+00, +1.000000E+00\n",
      " 1         0             9          4480         13771        0     -9.254591E+16  +3.685823E+16  +9.203889E+09  +1.000000E+00, +1.000000E+00\n",
      " 1         1            10            0           600         0     -4.918336E+16                 +5.388201E-08  +0.000000E+00, +0.000000E+00\n",
      " 1         1            11          4476         13755        0     -1.505351E+15                 +5.980943E+09  +9.999999E-01, +9.999999E-01\n",
      " 1         1            12          4480         13771        0     -9.254591E+16                 +9.203889E+09  +1.000000E+00, +1.000000E+00\n",
      " 1         1            13          4478         13767        0     -5.418730E+16                 +1.634694E+10  +9.999999E-01, +9.999999E-01\n",
      " 1         1            14          4480         13771        0     -9.254591E+16                 +9.203889E+09  +1.000000E+00, +1.000000E+00\n",
      " 1         1            15          4476         13757        0     -4.300528E+16                 +8.869213E+09  +9.999999E-01, +9.999999E-01\n",
      " 1         1            16          4480         13771        0     -9.254591E+16                 +9.203889E+09  +1.000000E+00, +1.000000E+00\n",
      " 1         1            17          4478         13749        0     -3.726734E+16                 +8.877591E+09  +1.000000E+00, +1.000000E+00\n",
      " 1         1            18          4480         13771        0     -9.254591E+16                 +9.203889E+09  +1.000000E+00, +1.000000E+00\n",
      " 1         1            19          4476         13769        0     -7.372143E+16                 +7.178493E+09  +1.000000E+00, +1.000000E+00\n",
      " 1         1            20          4480         13771        0     -9.254591E+16                 +9.203889E+09  +1.000000E+00, +1.000000E+00\n",
      " 1         1            21          4476         13761        0     -7.524827E+13                 +1.584179E+10  +1.000000E+00, +1.000000E+00\n",
      " 1         1            22          4480         13771        0     -9.254591E+16                 +9.203889E+09  +1.000000E+00, +1.000000E+00\n",
      " 1         1            23          4478         13759        0     -2.936130E+16                 +9.203889E+09  +1.000000E+00, +1.000000E+00\n",
      "\n",
      "The optimization routine failed to converge. This problem can sometimes be mitigated by choosing more reasonable initial parameter values, setting more conservative bounds, or configuring other optimization settings.\n",
      "\n",
      "\n",
      "Optimization failed after 00:00:38.\n",
      "Computing the Hessian and and updating the weighting matrix ...\n",
      "Computed results after 00:00:09.\n",
      "\n",
      "Problem Results Summary:\n",
      "===============================================================================================\n",
      "GMM     Objective      Projected    Reduced Hessian  Reduced Hessian  Clipped  Weighting Matrix\n",
      "Step      Value      Gradient Norm  Min Eigenvalue   Max Eigenvalue   Shares   Condition Number\n",
      "----  -------------  -------------  ---------------  ---------------  -------  ----------------\n",
      " 1    -9.254591E+16  +9.203889E+09   +2.815004E+16    +4.333131E+17      0      +8.124302E+16  \n",
      "===============================================================================================\n",
      "\n",
      "Starting optimization ...\n",
      "\n",
      "GMM   Optimization   Objective   Fixed Point  Contraction  Clipped    Objective      Objective      Projected                                \n",
      "Step   Iterations   Evaluations  Iterations   Evaluations  Shares       Value       Improvement   Gradient Norm             Theta            \n",
      "----  ------------  -----------  -----------  -----------  -------  -------------  -------------  -------------  ----------------------------\n",
      " 2         0             1            0           600         0     +5.587583E-13                 +2.529328E-12  +1.000000E+00, +1.000000E+00\n",
      "\n",
      "Optimization completed after 00:00:01.\n",
      "Computing the Hessian and estimating standard errors ...\n",
      "Computed results after 00:00:07.\n",
      "\n",
      "Problem Results Summary:\n",
      "==================================================================================================================\n",
      "GMM     Objective      Projected    Reduced Hessian  Reduced Hessian  Clipped  Weighting Matrix  Covariance Matrix\n",
      "Step      Value      Gradient Norm  Min Eigenvalue   Max Eigenvalue   Shares   Condition Number  Condition Number \n",
      "----  -------------  -------------  ---------------  ---------------  -------  ----------------  -----------------\n",
      " 2    +5.587583E-13  +2.529328E-12   -2.221919E-13    +1.115538E-11      0      +2.152606E+17      +1.901645E+18  \n",
      "==================================================================================================================\n",
      "\n",
      "Cumulative Statistics:\n",
      "===========================================================================\n",
      "Computation  Optimizer  Optimization   Objective   Fixed Point  Contraction\n",
      "   Time      Converged   Iterations   Evaluations  Iterations   Evaluations\n",
      "-----------  ---------  ------------  -----------  -----------  -----------\n",
      " 00:00:53       No           1            26          97185       300183   \n",
      "===========================================================================\n",
      "\n",
      "Nonlinear Coefficient Estimates (Robust SEs in Parentheses):\n",
      "===========================================\n",
      " Sigma:       satellite          wired     \n",
      "---------  ---------------  ---------------\n",
      "satellite   +1.000000E+00                  \n",
      "           (+3.071605E-01)                 \n",
      "                                           \n",
      "  wired     +0.000000E+00    +1.000000E+00 \n",
      "                            (+3.172754E-01)\n",
      "===========================================\n",
      "\n",
      "Beta Estimates (Robust SEs in Parentheses):\n",
      "==================================================================\n",
      "    prices              x            satellite          wired     \n",
      "---------------  ---------------  ---------------  ---------------\n",
      " -1.852408E+00    +9.872258E-01    +3.615042E+00    +3.622520E+00 \n",
      "(+1.867589E-02)  (+4.741592E-02)  (+4.524844E-02)  (+4.691815E-02)\n",
      "==================================================================\n"
     ]
    }
   ],
   "source": [
    "# now we resolve the problem given the optimal instruments\n",
    "demand_problem_results = demand_problem_w_instruments.solve(sigma=np.identity(2))"
   ]
  },
  {
   "cell_type": "markdown",
   "metadata": {},
   "source": [
    "These estimates are not bad."
   ]
  },
  {
   "cell_type": "markdown",
   "metadata": {},
   "source": [
    "## 5.a: Demand and Supply Estimation"
   ]
  },
  {
   "cell_type": "code",
   "execution_count": 33,
   "metadata": {
    "scrolled": true
   },
   "outputs": [
    {
     "name": "stdout",
     "output_type": "stream",
     "text": [
      "Initializing the problem ...\n",
      "Initialized the problem after 00:00:00.\n",
      "\n",
      "Dimensions:\n",
      "===================================================\n",
      " T    N     F     I     K1    K2    K3    MD    MS \n",
      "---  ----  ---  -----  ----  ----  ----  ----  ----\n",
      "600  2400   4   48600   4     2     2     3     2  \n",
      "===================================================\n",
      "\n",
      "Formulations:\n",
      "=================================================================\n",
      "       Column Indices:             0        1        2        3  \n",
      "-----------------------------  ---------  -----  ---------  -----\n",
      " X1: Linear Characteristics     prices      x    satellite  wired\n",
      "X2: Nonlinear Characteristics  satellite  wired                  \n",
      "X3: Log Cost Characteristics       1        w                    \n",
      "=================================================================\n"
     ]
    }
   ],
   "source": [
    "full_problem = pyblp.Problem(\n",
    "    [\n",
    "        pyblp.Formulation(\"0 + prices + x + satellite + wired\"),\n",
    "        pyblp.Formulation(\"0 + satellite + wired\"),\n",
    "        pyblp.Formulation(\"1 + w\")\n",
    "    ],\n",
    "    product_data = observed_data,\n",
    "    integration=pyblp.Integration('product', size=9),\n",
    "    costs_type=\"log\"\n",
    ")"
   ]
  },
  {
   "cell_type": "code",
   "execution_count": 34,
   "metadata": {},
   "outputs": [
    {
     "name": "stdout",
     "output_type": "stream",
     "text": [
      "Solving the problem ...\n",
      "\n",
      "Nonlinear Coefficient Initial Values:\n",
      "=======================================\n",
      " Sigma:      satellite        wired    \n",
      "---------  -------------  -------------\n",
      "satellite  +1.000000E+00               \n",
      "  wired    +0.000000E+00  +1.000000E+00\n",
      "=======================================\n",
      "\n",
      "Beta Initial Values:\n",
      "==========================================================\n",
      "   prices            x          satellite        wired    \n",
      "-------------  -------------  -------------  -------------\n",
      "-1.000000E+00       NAN            NAN            NAN     \n",
      "==========================================================\n",
      "\n",
      "Nonlinear Coefficient Lower Bounds:\n",
      "=======================================\n",
      " Sigma:      satellite        wired    \n",
      "---------  -------------  -------------\n",
      "satellite  +0.000000E+00               \n",
      "  wired    +0.000000E+00  +0.000000E+00\n",
      "=======================================\n",
      "\n",
      "Beta Lower Bounds:\n",
      "==========================================================\n",
      "   prices            x          satellite        wired    \n",
      "-------------  -------------  -------------  -------------\n",
      "    -INF           -INF           -INF           -INF     \n",
      "==========================================================\n",
      "\n",
      "Nonlinear Coefficient Upper Bounds:\n",
      "=======================================\n",
      " Sigma:      satellite        wired    \n",
      "---------  -------------  -------------\n",
      "satellite      +INF                    \n",
      "  wired    +0.000000E+00      +INF     \n",
      "=======================================\n",
      "\n",
      "Beta Upper Bounds:\n",
      "==========================================================\n",
      "   prices            x          satellite        wired    \n",
      "-------------  -------------  -------------  -------------\n",
      "    +INF           +INF           +INF           +INF     \n",
      "==========================================================\n",
      "\n",
      "Starting optimization ...\n",
      "\n",
      "GMM   Optimization   Objective   Fixed Point  Contraction  Clipped    Objective      Objective      Projected                                               \n",
      "Step   Iterations   Evaluations  Iterations   Evaluations  Shares       Value       Improvement   Gradient Norm                     Theta                   \n",
      "----  ------------  -----------  -----------  -----------  -------  -------------  -------------  -------------  -------------------------------------------\n",
      " 1         0             1          4478         13776        0     +1.420645E-26                 +2.916005E-11  +1.000000E+00, +1.000000E+00, -1.000000E+00\n",
      "\n",
      "Optimization completed after 00:00:03.\n",
      "Computing the Hessian and and updating the weighting matrix ...\n",
      "Computed results after 00:00:19.\n",
      "\n",
      "Problem Results Summary:\n",
      "===============================================================================================\n",
      "GMM     Objective      Projected    Reduced Hessian  Reduced Hessian  Clipped  Weighting Matrix\n",
      "Step      Value      Gradient Norm  Min Eigenvalue   Max Eigenvalue   Shares   Condition Number\n",
      "----  -------------  -------------  ---------------  ---------------  -------  ----------------\n",
      " 1    +1.420645E-26  +2.916005E-11   -5.950660E-04    +7.196896E-04      0      +1.338489E+01  \n",
      "===============================================================================================\n",
      "\n",
      "Starting optimization ...\n",
      "\n",
      "GMM   Optimization   Objective   Fixed Point  Contraction  Clipped    Objective      Objective      Projected                                               \n",
      "Step   Iterations   Evaluations  Iterations   Evaluations  Shares       Value       Improvement   Gradient Norm                     Theta                   \n",
      "----  ------------  -----------  -----------  -----------  -------  -------------  -------------  -------------  -------------------------------------------\n",
      " 2         0             1            0           600         0     +1.213500E-25                 +1.303812E-11  +1.000000E+00, +1.000000E+00, -1.000000E+00\n",
      "\n",
      "Optimization completed after 00:00:02.\n",
      "Computing the Hessian and estimating standard errors ...\n",
      "Computed results after 00:00:14.\n",
      "\n",
      "Problem Results Summary:\n",
      "==================================================================================================================\n",
      "GMM     Objective      Projected    Reduced Hessian  Reduced Hessian  Clipped  Weighting Matrix  Covariance Matrix\n",
      "Step      Value      Gradient Norm  Min Eigenvalue   Max Eigenvalue   Shares   Condition Number  Condition Number \n",
      "----  -------------  -------------  ---------------  ---------------  -------  ----------------  -----------------\n",
      " 2    +1.213500E-25  +1.303812E-11   -6.052454E-03    +5.830682E-04      0      +7.176547E+01      +1.366273E+18  \n",
      "==================================================================================================================\n",
      "\n",
      "Cumulative Statistics:\n",
      "===========================================================================\n",
      "Computation  Optimizer  Optimization   Objective   Fixed Point  Contraction\n",
      "   Time      Converged   Iterations   Evaluations  Iterations   Evaluations\n",
      "-----------  ---------  ------------  -----------  -----------  -----------\n",
      " 00:00:37       Yes          0             4          4478         14376   \n",
      "===========================================================================\n",
      "\n",
      "Nonlinear Coefficient Estimates (Robust SEs in Parentheses):\n",
      "===========================================\n",
      " Sigma:       satellite          wired     \n",
      "---------  ---------------  ---------------\n",
      "satellite   +1.000000E+00                  \n",
      "           (+4.250962E-03)                 \n",
      "                                           \n",
      "  wired     +0.000000E+00    +1.000000E+00 \n",
      "                            (+4.192555E-03)\n",
      "===========================================\n",
      "\n",
      "Beta Estimates (Robust SEs in Parentheses):\n",
      "==================================================================\n",
      "    prices              x            satellite          wired     \n",
      "---------------  ---------------  ---------------  ---------------\n",
      " -1.000000E+00    +9.090737E-01    +1.357618E+00    +1.341006E+00 \n",
      "(+8.317201E-03)  (+3.059498E-02)  (+2.117336E-02)  (+2.108796E-02)\n",
      "==================================================================\n",
      "\n",
      "Gamma Estimates (Robust SEs in Parentheses):\n",
      "================================\n",
      "       1                w       \n",
      "---------------  ---------------\n",
      " -1.406974E-01    +4.680814E-01 \n",
      "(+1.955098E-02)  (+1.085774E-02)\n",
      "================================\n",
      "Computing optimal instruments for theta ...\n",
      "Computed optimal instruments after 00:00:04.\n",
      "\n",
      "Optimal Instrument Results Summary:\n",
      "=================================================\n",
      "Computation  Error Term  Fixed Point  Contraction\n",
      "   Time        Draws     Iterations   Evaluations\n",
      "-----------  ----------  -----------  -----------\n",
      " 00:00:04        1          9494         9494    \n",
      "=================================================\n",
      "Re-creating the problem ...\n",
      "Re-created the problem after 00:00:00.\n",
      "\n",
      "Dimensions:\n",
      "===================================================\n",
      " T    N     F     I     K1    K2    K3    MD    MS \n",
      "---  ----  ---  -----  ----  ----  ----  ----  ----\n",
      "600  2400   4   48600   4     2     2     7     8  \n",
      "===================================================\n",
      "\n",
      "Formulations:\n",
      "=================================================================\n",
      "       Column Indices:             0        1        2        3  \n",
      "-----------------------------  ---------  -----  ---------  -----\n",
      " X1: Linear Characteristics     prices      x    satellite  wired\n",
      "X2: Nonlinear Characteristics  satellite  wired                  \n",
      "X3: Log Cost Characteristics       1        w                    \n",
      "=================================================================\n"
     ]
    }
   ],
   "source": [
    "# once again, we construct optimal instruments\n",
    "full_problem_w_instruments = full_problem.solve(sigma=np.identity(2),beta=[-1,None,None,None]).compute_optimal_instruments().to_problem()"
   ]
  },
  {
   "cell_type": "code",
   "execution_count": 35,
   "metadata": {},
   "outputs": [
    {
     "name": "stdout",
     "output_type": "stream",
     "text": [
      "Solving the problem ...\n",
      "\n",
      "Nonlinear Coefficient Initial Values:\n",
      "=======================================\n",
      " Sigma:      satellite        wired    \n",
      "---------  -------------  -------------\n",
      "satellite  +1.000000E+00               \n",
      "  wired    +0.000000E+00  +1.000000E+00\n",
      "=======================================\n",
      "\n",
      "Beta Initial Values:\n",
      "==========================================================\n",
      "   prices            x          satellite        wired    \n",
      "-------------  -------------  -------------  -------------\n",
      "-1.000000E+00       NAN            NAN            NAN     \n",
      "==========================================================\n",
      "\n",
      "Nonlinear Coefficient Lower Bounds:\n",
      "=======================================\n",
      " Sigma:      satellite        wired    \n",
      "---------  -------------  -------------\n",
      "satellite  +0.000000E+00               \n",
      "  wired    +0.000000E+00  +0.000000E+00\n",
      "=======================================\n",
      "\n",
      "Beta Lower Bounds:\n",
      "==========================================================\n",
      "   prices            x          satellite        wired    \n",
      "-------------  -------------  -------------  -------------\n",
      "    -INF           -INF           -INF           -INF     \n",
      "==========================================================\n",
      "\n",
      "Nonlinear Coefficient Upper Bounds:\n",
      "=======================================\n",
      " Sigma:      satellite        wired    \n",
      "---------  -------------  -------------\n",
      "satellite      +INF                    \n",
      "  wired    +0.000000E+00      +INF     \n",
      "=======================================\n",
      "\n",
      "Beta Upper Bounds:\n",
      "==========================================================\n",
      "   prices            x          satellite        wired    \n",
      "-------------  -------------  -------------  -------------\n",
      "    +INF           +INF           +INF           +INF     \n",
      "==========================================================\n",
      "\n",
      "Starting optimization ...\n",
      "\n",
      "GMM   Optimization   Objective   Fixed Point  Contraction  Clipped    Objective      Objective      Projected                                               \n",
      "Step   Iterations   Evaluations  Iterations   Evaluations  Shares       Value       Improvement   Gradient Norm                     Theta                   \n",
      "----  ------------  -----------  -----------  -----------  -------  -------------  -------------  -------------  -------------------------------------------\n",
      " 1         0             1          4478         13776        0     -2.303928E+02                 +4.943997E+03  +1.000000E+00, +1.000000E+00, -1.000000E+00\n",
      " 1         0             2          4474         13772        0     +2.505302E+03                 +1.349077E+03  +9.997977E-01, +9.997977E-01, -2.000000E+00\n",
      " 1         0             3          4475         13763        0     +1.461934E+03                 +6.073673E+03  +9.999703E-01, +9.999703E-01, -1.146654E+00\n",
      " 1         0             4          4477         13768        0     -8.511104E+02  +6.207176E+02  +8.758020E+03  +9.999985E-01, +9.999985E-01, -1.007562E+00\n",
      " 1         0             5          4478         13767        0     +9.600038E+02                 +1.130879E+04  +9.999967E-01, +9.999967E-01, -1.016403E+00\n",
      " 1         0             6          4478         13763        0     +3.053133E+02                 +8.739553E+03  +9.999985E-01, +9.999985E-01, -1.007622E+00\n",
      " 1         0             7          4477         13768        0     -8.511104E+02                 +8.758020E+03  +9.999985E-01, +9.999985E-01, -1.007562E+00\n",
      "\n",
      "At least one error was encountered. As long as the optimization routine does not get stuck at values of theta that give rise to errors, this is not necessarily a problem. If the errors persist or seem to be impacting the optimization results, consider setting an error punishment or following any of the other suggestions below:\n",
      "The fixed point computation of delta failed to converge. This problem can sometimes be mitigated by increasing the maximum number of fixed point iterations, increasing the fixed point tolerance, choosing more reasonable initial parameter values, setting more conservative parameter or share bounds, or using different iteration or optimization configurations.\n",
      "Encountered a numerical error when computing delta. This problem is often due to prior problems, overflow, or nonpositive shares, and can sometimes be mitigated by choosing smaller initial parameter values, setting more conservative bounds on parameters or shares, rescaling data, removing outliers, changing the floating point precision, or using different optimization, iteration, or integration configurations. Errors encountered: divide by zero.\n",
      "Encountered nonpositive marginal costs in a log-linear specification. This problem can sometimes be mitigated by bounding costs from below, choosing more reasonable initial parameter values, setting more conservative parameter bounds, or using a linear costs specification.\n",
      "Reverted problematic marginal costs. Number of reverted elements: 5 out of 2400.\n",
      "\n",
      " 1         1             8          44463       133936       15     +1.087079E+39                 +3.696289E+20  +1.531313E+02, +0.000000E+00, -8.759027E+03\n",
      " 1         1             9          4477         13768        0     -8.511104E+02                 +8.758020E+03  +9.999985E-01, +9.999985E-01, -1.007562E+00\n",
      "\n",
      "Optimization completed after 00:00:34.\n",
      "Computing the Hessian and and updating the weighting matrix ...\n",
      "Computed results after 00:00:19.\n",
      "\n",
      "Problem Results Summary:\n",
      "===============================================================================================\n",
      "GMM     Objective      Projected    Reduced Hessian  Reduced Hessian  Clipped  Weighting Matrix\n",
      "Step      Value      Gradient Norm  Min Eigenvalue   Max Eigenvalue   Shares   Condition Number\n",
      "----  -------------  -------------  ---------------  ---------------  -------  ----------------\n",
      " 1    -8.511104E+02  +8.758020E+03   -5.601043E+10    +1.949674E+11      0      +5.553615E+18  \n",
      "===============================================================================================\n",
      "\n",
      "Starting optimization ...\n",
      "\n",
      "GMM   Optimization   Objective   Fixed Point  Contraction  Clipped    Objective      Objective      Projected                                               \n",
      "Step   Iterations   Evaluations  Iterations   Evaluations  Shares       Value       Improvement   Gradient Norm                     Theta                   \n",
      "----  ------------  -----------  -----------  -----------  -------  -------------  -------------  -------------  -------------------------------------------\n",
      " 2         0             1            0           600         0     +2.789615E+02                 +1.111807E+03  +9.999985E-01, +9.999985E-01, -1.007562E+00\n",
      " 2         0             2          3769         11622        0     +4.451416E+00  +2.745101E+02  +8.773454E+00  +9.990990E-01, +9.990990E-01, -2.007561E+00\n",
      " 2         1             3          3889         11989        0     +4.311732E+00  +1.396847E-01  +8.190477E+00  +1.004937E+00, +1.005754E+00, -2.001763E+00\n",
      " 2         2             4          4203         12888        0     +3.727326E+00  +5.844057E-01  +9.516333E+00  +1.054397E+00, +1.061918E+00, -1.980188E+00\n",
      " 2         3             5          4366         13368        0     +3.423829E+00  +3.034974E-01  +1.187465E+01  +1.092358E+00, +1.104579E+00, -1.984691E+00\n",
      " 2         4             6          4572         13967        0     +2.969141E+00  +4.546876E-01  +5.507234E+00  +1.172697E+00, +1.191220E+00, -2.020967E+00\n",
      " 2         5             7          4576         13995        0     +2.933883E+00  +3.525856E-02  +6.793658E-01  +1.178806E+00, +1.194498E+00, -2.033366E+00\n",
      " 2         6             8          4567         13940        0     +2.933297E+00  +5.853620E-04  +6.827845E-03  +1.178137E+00, +1.193272E+00, -2.034683E+00\n",
      " 2         7             9          4569         13954        0     +2.933297E+00  +1.915194E-07  +4.235738E-03  +1.178109E+00, +1.193216E+00, -2.034676E+00\n",
      " 2         8            10          4565         13963        0     +2.933297E+00  +2.165133E-07  +2.533963E-04  +1.178163E+00, +1.193166E+00, -2.034674E+00\n",
      " 2         9            11          4561         13942        0     +2.933297E+00  +5.510077E-10  +2.545052E-07  +1.178167E+00, +1.193164E+00, -2.034674E+00\n",
      " 2         10           12          4564         13936        0     +2.933297E+00                 +3.130269E-09  +1.178167E+00, +1.193165E+00, -2.034674E+00\n",
      "\n",
      "Optimization completed after 00:00:34.\n",
      "Computing the Hessian and estimating standard errors ...\n"
     ]
    },
    {
     "name": "stdout",
     "output_type": "stream",
     "text": [
      "Computed results after 00:00:21.\n",
      "\n",
      "Problem Results Summary:\n",
      "==================================================================================================================\n",
      "GMM     Objective      Projected    Reduced Hessian  Reduced Hessian  Clipped  Weighting Matrix  Covariance Matrix\n",
      "Step      Value      Gradient Norm  Min Eigenvalue   Max Eigenvalue   Shares   Condition Number  Condition Number \n",
      "----  -------------  -------------  ---------------  ---------------  -------  ----------------  -----------------\n",
      " 2    +2.933297E+00  +3.130269E-09   +4.288831E+01    +4.496468E+02      0      +6.945432E+16      +2.287690E+04  \n",
      "==================================================================================================================\n",
      "\n",
      "Cumulative Statistics:\n",
      "===========================================================================\n",
      "Computation  Optimizer  Optimization   Objective   Fixed Point  Contraction\n",
      "   Time      Converged   Iterations   Evaluations  Iterations   Evaluations\n",
      "-----------  ---------  ------------  -----------  -----------  -----------\n",
      " 00:01:48       Yes          13           23         128478       392245   \n",
      "===========================================================================\n",
      "\n",
      "Nonlinear Coefficient Estimates (Robust SEs in Parentheses):\n",
      "===========================================\n",
      " Sigma:       satellite          wired     \n",
      "---------  ---------------  ---------------\n",
      "satellite   +1.178167E+00                  \n",
      "           (+2.196345E-01)                 \n",
      "                                           \n",
      "  wired     +0.000000E+00    +1.193165E+00 \n",
      "                            (+2.107924E-01)\n",
      "===========================================\n",
      "\n",
      "Beta Estimates (Robust SEs in Parentheses):\n",
      "==================================================================\n",
      "    prices              x            satellite          wired     \n",
      "---------------  ---------------  ---------------  ---------------\n",
      " -2.034674E+00    +1.056753E+00    +4.036137E+00    +4.044354E+00 \n",
      "(+8.583792E-02)  (+4.541882E-02)  (+2.110963E-01)  (+2.130545E-01)\n",
      "==================================================================\n",
      "\n",
      "Gamma Estimates (Robust SEs in Parentheses):\n",
      "================================\n",
      "       1                w       \n",
      "---------------  ---------------\n",
      " +4.911190E-01    +2.538102E-01 \n",
      "(+1.772041E-02)  (+9.116901E-03)\n",
      "================================\n"
     ]
    }
   ],
   "source": [
    "# and here are the estimation results\n",
    "full_problem_results = full_problem_w_instruments.solve(sigma=np.identity(2),beta=[-1,None,None,None])"
   ]
  },
  {
   "cell_type": "markdown",
   "metadata": {},
   "source": [
    "These estimates are even better than the previous section. We'll use these in the coming sections."
   ]
  },
  {
   "cell_type": "markdown",
   "metadata": {},
   "source": [
    "## 5.b Own-price Elasticities, Diversion Ratios"
   ]
  },
  {
   "cell_type": "code",
   "execution_count": 36,
   "metadata": {},
   "outputs": [
    {
     "name": "stdout",
     "output_type": "stream",
     "text": [
      "Computing elasticities with respect to prices ...\n",
      "Finished after 00:00:01.\n",
      "\n"
     ]
    }
   ],
   "source": [
    "estimated_price_elasticities = full_problem_results.compute_elasticities()"
   ]
  },
  {
   "cell_type": "code",
   "execution_count": 37,
   "metadata": {},
   "outputs": [
    {
     "name": "stdout",
     "output_type": "stream",
     "text": [
      "Computing diversion ratios with respect to prices ...\n",
      "Finished after 00:00:01.\n",
      "\n"
     ]
    }
   ],
   "source": [
    "estimated_diversion_ratios = full_problem_results.compute_diversion_ratios()"
   ]
  },
  {
   "cell_type": "code",
   "execution_count": 41,
   "metadata": {},
   "outputs": [],
   "source": [
    "estimated_own_price_elasticities = estimated_price_elasticities.reshape(T,J,J).mean(axis=0)"
   ]
  },
  {
   "cell_type": "code",
   "execution_count": 60,
   "metadata": {},
   "outputs": [
    {
     "data": {
      "text/plain": [
       "(array([[-4.06535006,  1.38543391,  0.80172334,  0.7895892 ],\n",
       "        [ 1.27934133, -4.16553436,  0.71112989,  0.71512854],\n",
       "        [ 0.73928313,  0.74163481, -4.17726162,  1.3416553 ],\n",
       "        [ 0.72070405,  0.7189693 ,  1.30923805, -4.18978309]]),\n",
       " array([[-4.0525488 ,  1.36872713,  0.69795227,  0.66555876],\n",
       "        [ 1.50752786, -4.15853012,  0.69795227,  0.66555876],\n",
       "        [ 0.7352649 ,  0.65591371, -4.16252984,  1.39588237],\n",
       "        [ 0.7352649 ,  0.65591371,  1.4547649 , -4.17736646]]))"
      ]
     },
     "execution_count": 60,
     "metadata": {},
     "output_type": "execute_result"
    }
   ],
   "source": [
    "true_price_elasticities.mean(axis=2), estimated_own_price_elasticities"
   ]
  },
  {
   "cell_type": "markdown",
   "metadata": {},
   "source": [
    "The estimates are pretty close to the true values"
   ]
  },
  {
   "cell_type": "code",
   "execution_count": 63,
   "metadata": {},
   "outputs": [
    {
     "data": {
      "text/plain": [
       "array([[0.32908096, 0.32674409, 0.1743611 , 0.16981386],\n",
       "       [0.34688774, 0.31879102, 0.16981928, 0.16450196],\n",
       "       [0.18220138, 0.16573254, 0.32424023, 0.32782585],\n",
       "       [0.18083009, 0.16332965, 0.33517888, 0.32066138]])"
      ]
     },
     "execution_count": 63,
     "metadata": {},
     "output_type": "execute_result"
    }
   ],
   "source": [
    "estimated_diversion_ratios.reshape((T,J,J)).mean(axis=0)"
   ]
  },
  {
   "cell_type": "code",
   "execution_count": 64,
   "metadata": {},
   "outputs": [
    {
     "data": {
      "text/plain": [
       "array([[0.33115087, 0.30335128, 0.18522023, 0.18027762],\n",
       "       [0.32317153, 0.32122579, 0.18063565, 0.17496703],\n",
       "       [0.19329289, 0.17575241, 0.32765373, 0.30330097],\n",
       "       [0.19192008, 0.17341037, 0.31037504, 0.32429451]])"
      ]
     },
     "execution_count": 64,
     "metadata": {},
     "output_type": "execute_result"
    }
   ],
   "source": [
    "true_diversion_ratios.mean(axis=2)"
   ]
  },
  {
   "cell_type": "markdown",
   "metadata": {},
   "source": [
    "These look reasonably close as well."
   ]
  },
  {
   "cell_type": "markdown",
   "metadata": {},
   "source": [
    "# Part 6"
   ]
  },
  {
   "cell_type": "code",
   "execution_count": 65,
   "metadata": {},
   "outputs": [],
   "source": [
    "# merge firms 1 and 2\n",
    "observed_data['merger_1_ids'] = observed_data['firm_ids'].replace(2, 1)\n",
    "\n",
    "# merge firms 1 and 3\n",
    "observed_data['merger_2_ids'] = observed_data['firm_ids'].replace(3, 1)"
   ]
  },
  {
   "cell_type": "code",
   "execution_count": 66,
   "metadata": {},
   "outputs": [
    {
     "name": "stdout",
     "output_type": "stream",
     "text": [
      "Computing marginal costs ...\n",
      "Finished after 00:00:01.\n",
      "\n",
      "Solving for equilibrium prices ...\n",
      "Finished after 00:00:02.\n",
      "\n",
      "Solving for equilibrium prices ...\n",
      "Finished after 00:00:02.\n",
      "\n"
     ]
    }
   ],
   "source": [
    "marginal_costs = full_problem_results.compute_costs()\n",
    "\n",
    "merger_1_prices = full_problem_results.compute_prices(\n",
    "    firm_ids=observed_data['merger_1_ids'],\n",
    "    costs=marginal_costs\n",
    ")\n",
    "\n",
    "merger_2_prices = full_problem_results.compute_prices(\n",
    "    firm_ids=observed_data['merger_2_ids'],\n",
    "    costs=marginal_costs\n",
    ")"
   ]
  },
  {
   "cell_type": "code",
   "execution_count": 70,
   "metadata": {},
   "outputs": [
    {
     "data": {
      "text/plain": [
       "array([2.73266213, 2.71653207, 2.76078363, 2.73913598])"
      ]
     },
     "execution_count": 70,
     "metadata": {},
     "output_type": "execute_result"
    }
   ],
   "source": [
    "np.mean(eq_prices, axis=1)"
   ]
  },
  {
   "cell_type": "code",
   "execution_count": 74,
   "metadata": {},
   "outputs": [
    {
     "data": {
      "text/plain": [
       "array([2.98076192, 2.99491833, 2.77124866, 2.74875183])"
      ]
     },
     "execution_count": 74,
     "metadata": {},
     "output_type": "execute_result"
    }
   ],
   "source": [
    "# relative price changes, merging 1 and 2\n",
    "np.mean(merger_1_prices.reshape((T,J)),axis=0)  "
   ]
  },
  {
   "cell_type": "code",
   "execution_count": 68,
   "metadata": {},
   "outputs": [
    {
     "data": {
      "text/plain": [
       "array([2.84644941, 2.72849847, 2.88261994, 2.75138542])"
      ]
     },
     "execution_count": 68,
     "metadata": {},
     "output_type": "execute_result"
    }
   ],
   "source": [
    "# relative price changes, merging 1 and 3\n",
    "np.mean(merger_2_prices.reshape((T,J)),axis=0)"
   ]
  },
  {
   "cell_type": "code",
   "execution_count": 71,
   "metadata": {},
   "outputs": [
    {
     "name": "stdout",
     "output_type": "stream",
     "text": [
      "Solving for equilibrium prices ...\n",
      "Finished after 00:00:03.\n",
      "\n"
     ]
    }
   ],
   "source": [
    "reduction_factors = np.concatenate([0.85*np.ones([T,2]),np.ones([T,2])],axis=1).reshape((T*J,1))\n",
    "reduced_costs = marginal_costs * reduction_factors\n",
    "\n",
    "\n",
    "merger_1_prices_w_cost_reduction = full_problem_results.compute_prices(\n",
    "    firm_ids=observed_data['merger_1_ids'],\n",
    "    costs=reduced_costs\n",
    ")\n"
   ]
  },
  {
   "cell_type": "code",
   "execution_count": 72,
   "metadata": {},
   "outputs": [
    {
     "data": {
      "text/plain": [
       "array([2.78332681, 2.79535976, 2.76117594, 2.73907293])"
      ]
     },
     "execution_count": 72,
     "metadata": {},
     "output_type": "execute_result"
    }
   ],
   "source": [
    "# post-merger relative price changes, 1 and 2 with marginal cost reduction\n",
    "np.mean(merger_1_prices_w_cost_reduction.reshape((T,J)),axis=0)"
   ]
  },
  {
   "cell_type": "code",
   "execution_count": 75,
   "metadata": {},
   "outputs": [
    {
     "name": "stdout",
     "output_type": "stream",
     "text": [
      "Computing consumer surpluses with the equation that assumes away nonlinear income effects ...\n",
      "Finished after 00:00:01.\n",
      "\n",
      "Computing consumer surpluses with the equation that assumes away nonlinear income effects ...\n",
      "Finished after 00:00:00.\n",
      "\n"
     ]
    }
   ],
   "source": [
    "pre_merger_surpluses = full_problem_results.compute_consumer_surpluses()\n",
    "post_merger_surpluses = full_problem_results.compute_consumer_surpluses(prices=merger_1_prices_w_cost_reduction)"
   ]
  },
  {
   "cell_type": "code",
   "execution_count": 76,
   "metadata": {},
   "outputs": [
    {
     "data": {
      "text/plain": [
       "-6.838416907825487"
      ]
     },
     "execution_count": 76,
     "metadata": {},
     "output_type": "execute_result"
    }
   ],
   "source": [
    "# assuming measure of consumers in each market is 1, the net surpluses are just the sums\n",
    "# this is the net effect on consumer welfare\n",
    "np.sum(post_merger_surpluses - pre_merger_surpluses)"
   ]
  },
  {
   "cell_type": "code",
   "execution_count": 77,
   "metadata": {},
   "outputs": [
    {
     "name": "stdout",
     "output_type": "stream",
     "text": [
      "Computing shares ...\n",
      "Finished after 00:00:00.\n",
      "\n",
      "Computing profits ...\n",
      "Finished after 00:00:01.\n",
      "\n",
      "Computing profits ...\n",
      "Finished after 00:00:00.\n",
      "\n"
     ]
    }
   ],
   "source": [
    "post_merger_shares = full_problem_results.compute_shares(merger_1_prices_w_cost_reduction)\n",
    "pre_merger_profits = full_problem_results.compute_profits()\n",
    "post_merger_profits = full_problem_results.compute_profits(merger_1_prices_w_cost_reduction, post_merger_shares, reduced_costs)"
   ]
  },
  {
   "cell_type": "code",
   "execution_count": 78,
   "metadata": {},
   "outputs": [
    {
     "data": {
      "text/plain": [
       "69.32302854307048"
      ]
     },
     "execution_count": 78,
     "metadata": {},
     "output_type": "execute_result"
    }
   ],
   "source": [
    "# once again assuming measure 1 of consumers in each market\n",
    "# net change in profits\n",
    "np.sum(post_merger_profits - pre_merger_profits) "
   ]
  },
  {
   "cell_type": "code",
   "execution_count": 79,
   "metadata": {},
   "outputs": [
    {
     "data": {
      "text/plain": [
       "62.48461163524499"
      ]
     },
     "execution_count": 79,
     "metadata": {},
     "output_type": "execute_result"
    }
   ],
   "source": [
    "# welfare change\n",
    "np.sum(post_merger_surpluses - pre_merger_surpluses) + np.sum(post_merger_profits - pre_merger_profits) "
   ]
  },
  {
   "cell_type": "code",
   "execution_count": null,
   "metadata": {},
   "outputs": [],
   "source": []
  },
  {
   "cell_type": "code",
   "execution_count": null,
   "metadata": {},
   "outputs": [],
   "source": []
  }
 ],
 "metadata": {
  "kernelspec": {
   "display_name": "Python 3",
   "language": "python",
   "name": "python3"
  },
  "language_info": {
   "codemirror_mode": {
    "name": "ipython",
    "version": 3
   },
   "file_extension": ".py",
   "mimetype": "text/x-python",
   "name": "python",
   "nbconvert_exporter": "python",
   "pygments_lexer": "ipython3",
   "version": "3.7.4"
  }
 },
 "nbformat": 4,
 "nbformat_minor": 2
}
