{
 "cells": [
  {
   "cell_type": "code",
   "execution_count": 1,
   "metadata": {},
   "outputs": [],
   "source": [
    "import numpy as np\n",
    "from scipy.optimize import fsolve, fixed_point\n",
    "from matplotlib import pyplot as plt\n",
    "import pyblp\n",
    "from tqdm.notebook import trange\n",
    "import statsmodels.api as sm\n",
    "import statsmodels.formula.api as smf\n",
    "import pandas as pd"
   ]
  },
  {
   "cell_type": "code",
   "execution_count": 2,
   "metadata": {},
   "outputs": [],
   "source": [
    "RNG_SEED = 8476263\n",
    "\n",
    "rng = np.random.default_rng(RNG_SEED) # this random seeding is for reproducibility"
   ]
  },
  {
   "cell_type": "code",
   "execution_count": 3,
   "metadata": {},
   "outputs": [],
   "source": [
    "# I am horrified that we have to overrun the default collinearity checks\n",
    "# however, wired and satellite dummy variables are collinear\n",
    "# so to prevent PyBLP from throwing a fit, we must do this.\n",
    "pyblp.options.collinear_rtol = 0\n",
    "pyblp.options.collinear_atol = 0"
   ]
  },
  {
   "cell_type": "code",
   "execution_count": 4,
   "metadata": {},
   "outputs": [],
   "source": [
    "# fixed parameter definitions\n",
    "\n",
    "beta1 = 1\n",
    "alpha = -2\n",
    "gamma0 = 1/2\n",
    "gamma1 = 1/4\n",
    "beta2_bar = 4\n",
    "beta3_bar = 4\n",
    "sigma2 = 1\n",
    "sigma3 = 1\n",
    "\n",
    "# markets and goods\n",
    "T = 600\n",
    "J = 4"
   ]
  },
  {
   "cell_type": "code",
   "execution_count": 5,
   "metadata": {},
   "outputs": [],
   "source": [
    "# 3.1\n",
    "\n",
    "# x_jt, w_jt are absolute value of iid standard normal variables\n",
    "x = np.absolute(rng.standard_normal(size=(J,T)))\n",
    "w = np.absolute(rng.standard_normal(size=(J,T)))\n",
    "\n",
    "unobservable_mean = [0,0]\n",
    "unobservable_cov = [[1,0.25],[0.25,1]]\n",
    "unobservables = rng.multivariate_normal(unobservable_mean, unobservable_cov, size=(J,T))\n",
    "xi = unobservables[:,:,0]\n",
    "omega = unobservables[:,:,1]"
   ]
  },
  {
   "cell_type": "code",
   "execution_count": 6,
   "metadata": {},
   "outputs": [],
   "source": [
    "# 3.2a\n",
    "# defining the market share\n",
    "\n",
    "def own_mkt_share_derivative(t, p, beta2, beta3): \n",
    "    # p should be a length J vector\n",
    "    # betas should be num_sims\n",
    "    \n",
    "    u_t = np.tile(x[:,t] + xi[:,t] + alpha*p, (len(beta2), 1)) # num_sims x J \n",
    "    for j in range(J):\n",
    "        if j < 2:\n",
    "            u_t[:,j] = u_t[:,j] + beta2\n",
    "        else:\n",
    "            u_t[:,j] = u_t[:,j] + beta3\n",
    "            \n",
    "    Z = np.tile( 1 + np.sum(np.exp(u_t),axis=-1), (J,1)).T\n",
    "    numerator = alpha*np.exp(u_t)*Z - alpha*np.square(np.exp(u_t)) # num_sims x J\n",
    "    denominator = np.square(Z)\n",
    "    \n",
    "    return np.mean(numerator / denominator, axis=0)\n",
    "\n",
    "    \n",
    "    \n",
    "def full_mkt_share_derivative(t, p, beta2, beta3):\n",
    "    # p should be a length J vector\n",
    "    # betas should be num_sims\n",
    "    \n",
    "    u_t = np.tile(x[:,t] + xi[:,t] + alpha*p, (len(beta2), 1)) # num_sims x J \n",
    "    for j in range(J):\n",
    "        if j < 2:\n",
    "            u_t[:,j] = u_t[:,j] + beta2\n",
    "        else:\n",
    "            u_t[:,j] = u_t[:,j] + beta3\n",
    "            \n",
    "    Z = np.tile( 1 + np.sum(np.exp(u_t),axis=-1), (J,1)).T # num_sims x J\n",
    "    \n",
    "    derivatives = np.zeros((J,J))\n",
    "    \n",
    "    own_numerator = alpha*np.exp(u_t)*Z - alpha*np.square(np.exp(u_t)) # num_sims x J\n",
    "    denominator = np.square(Z)\n",
    "    \n",
    "    for j in range(J):\n",
    "        derivatives[j,j] = np.mean(own_numerator / denominator, axis=0)[j]\n",
    "        \n",
    "    for j in range(J):\n",
    "        for k in range(J):\n",
    "            if not (j == k):\n",
    "                derivatives[j,k] = np.mean(-1*alpha*np.exp(u_t)[:,k]*np.exp(u_t)[:,j] / np.square(1 + np.sum(np.exp(u_t),axis=-1)))\n",
    "    \n",
    "    return derivatives"
   ]
  },
  {
   "cell_type": "code",
   "execution_count": 7,
   "metadata": {},
   "outputs": [],
   "source": [
    "# s_jt(p) \n",
    "def mkt_share(t, p, beta2, beta3):\n",
    "    # p should be a length J vector\n",
    "    # betas should be num_sims\n",
    "    \n",
    "    u_t = np.tile(x[:,t] + xi[:,t] + alpha*p, (len(beta2), 1)) # num_sims x J \n",
    "    for j in range(J):\n",
    "        if j < 2:\n",
    "            u_t[:,j] = u_t[:,j] + beta2\n",
    "        else:\n",
    "            u_t[:,j] = u_t[:,j] + beta3\n",
    "            \n",
    "    numerator = np.exp(u_t) \n",
    "    denominator = 1 + np.sum(np.exp(u_t),axis=-1) # num_sims\n",
    "    \n",
    "    return np.mean(numerator / (np.tile(denominator, (J, 1)).T), axis=0) \n"
   ]
  },
  {
   "cell_type": "code",
   "execution_count": 8,
   "metadata": {},
   "outputs": [
    {
     "data": {
      "application/vnd.jupyter.widget-view+json": {
       "model_id": "d7e0713537ca42a7ba690ea6cf319db1",
       "version_major": 2,
       "version_minor": 0
      },
      "text/plain": [
       "HBox(children=(IntProgress(value=0), HTML(value='')))"
      ]
     },
     "metadata": {},
     "output_type": "display_data"
    },
    {
     "name": "stdout",
     "output_type": "stream",
     "text": [
      "\n"
     ]
    },
    {
     "data": {
      "text/plain": [
       "(array([0.04784253, 0.15288083, 0.44046486, 0.35277411]),\n",
       " array([0.0008991 , 0.00287306, 0.00211771, 0.0016961 ]),\n",
       " array([[-0.29478105,  0.06650959,  0.2168944 ,  0.00709914],\n",
       "        [ 0.06650959, -0.16315672,  0.09183023,  0.00300568],\n",
       "        [ 0.2168944 ,  0.09183023, -0.35012373,  0.03100105],\n",
       "        [ 0.00709914,  0.00300568,  0.03100105, -0.04144621]]),\n",
       " array([[3.08401066e-03, 1.64034900e-03, 1.89106999e-03, 6.18963701e-05],\n",
       "        [1.64034900e-03, 2.14278030e-03, 8.00654110e-04, 2.62061074e-05],\n",
       "        [1.89106999e-03, 8.00654110e-04, 2.45783477e-03, 3.51894072e-04],\n",
       "        [6.18963701e-05, 2.62061074e-05, 3.51894072e-04, 2.89493485e-04]]))"
      ]
     },
     "execution_count": 8,
     "metadata": {},
     "output_type": "execute_result"
    }
   ],
   "source": [
    "# 3.2a(iv)\n",
    "# draw beta coefficients for N individuals S times, observe variation in market share derivatives\n",
    "\n",
    "S = 100\n",
    "\n",
    "all_derivatives = np.zeros((J,J,S))\n",
    "all_shares = np.zeros((J,S))\n",
    "\n",
    "N = 3000\n",
    "\n",
    "price = np.array([1,1,1,1])\n",
    "\n",
    "for s in trange(S):\n",
    "    beta2 = rng.normal(beta2_bar, sigma2, N)\n",
    "    beta3 = rng.normal(beta3_bar, sigma3, N)\n",
    "    all_derivatives[:,:,s] = full_mkt_share_derivative(0, price, beta2, beta3)\n",
    "    all_shares[:,s] = mkt_share(1, price, beta2, beta3)\n",
    "(np.mean(all_shares,axis=1), np.std(all_shares,axis=1), np.mean(all_derivatives, axis=2), np.std(all_derivatives, axis=2))"
   ]
  },
  {
   "cell_type": "code",
   "execution_count": 9,
   "metadata": {},
   "outputs": [],
   "source": [
    "mc = np.exp( gamma0 + gamma1*w + omega/8)"
   ]
  },
  {
   "cell_type": "code",
   "execution_count": 10,
   "metadata": {},
   "outputs": [],
   "source": [
    "# define function to solve\n",
    "\n",
    "def get_function_to_solve(t, beta2, beta3):\n",
    "    def F(p):\n",
    "        # p is a \n",
    "        ds_dp = own_mkt_share_derivative(t, p, beta2, beta3)\n",
    "        shares = mkt_share(t, p, beta2, beta3)\n",
    "        return p - mc[:,t] + np.reciprocal(ds_dp)*shares\n",
    "        \n",
    "    return F\n"
   ]
  },
  {
   "cell_type": "code",
   "execution_count": 11,
   "metadata": {},
   "outputs": [],
   "source": [
    "# draw betas, now compute equilibrium prices and shares\n",
    "\n",
    "beta2 = rng.normal(beta2_bar, sigma2, N)\n",
    "beta3 = rng.normal(beta3_bar, sigma3, N)"
   ]
  },
  {
   "cell_type": "code",
   "execution_count": 12,
   "metadata": {},
   "outputs": [
    {
     "data": {
      "application/vnd.jupyter.widget-view+json": {
       "model_id": "867fe04ad2d6431ead2df3f61d0498f1",
       "version_major": 2,
       "version_minor": 0
      },
      "text/plain": [
       "HBox(children=(IntProgress(value=0, max=600), HTML(value='')))"
      ]
     },
     "metadata": {},
     "output_type": "display_data"
    },
    {
     "name": "stdout",
     "output_type": "stream",
     "text": [
      "\n"
     ]
    },
    {
     "data": {
      "text/plain": [
       "True"
      ]
     },
     "execution_count": 12,
     "metadata": {},
     "output_type": "execute_result"
    }
   ],
   "source": [
    "\n",
    "\n",
    "# 3.2 and 3.3: compute equilibrium shares, prices\n",
    "\n",
    "# these two variables are the prices and shares\n",
    "eq_prices = np.zeros((J, T))\n",
    "eq_shares = np.zeros((J, T))\n",
    "\n",
    "flag_total = 0\n",
    "\n",
    "for t in trange(T):\n",
    "    fn = get_function_to_solve(t, beta2, beta3)\n",
    "    mkt_eq_prices, _ , flag, _ = fsolve(fn, np.array([1,1,1,1]), full_output=True)\n",
    "    flag_total += flag\n",
    "    eq_prices[:,t] = mkt_eq_prices\n",
    "    eq_shares[:, t] = mkt_share(t, mkt_eq_prices, beta2, beta3)\n",
    "    \n",
    "# this should be True iff all of the fsolves converge\n",
    "flag_total == T"
   ]
  },
  {
   "cell_type": "code",
   "execution_count": null,
   "metadata": {},
   "outputs": [],
   "source": [
    "# TODO: check that at the equilibrium prices, the estimates for market shares and market share derivatives are precise\n",
    "#repeating the exercise of simulation with equilibrium prices, trying to get equilibrium shares\n",
    "\n",
    "S = 100\n",
    "\n",
    "all_derivatives = np.zeros((J,J,S))\n",
    "all_shares = np.zeros((J,S))\n",
    "\n",
    "N = 100\n",
    "\n",
    "for t in range(T):\n",
    "    price = np.array(eq_prices[:,t])\n",
    "    for s in range(S):\n",
    "        beta2_s = np.random.normal(beta2_bar, sigma2, N)\n",
    "        beta3_s = np.random.normal(beta3_bar, sigma3, N)\n",
    "        all_derivatives[:,:,s] = full_mkt_share_derivative(0, price, beta2_s, beta3_s)\n",
    "        all_shares[:,s] = mkt_share(1, price, beta2_s, beta3_s)\n",
    "    \n",
    "(np.mean(all_shares,axis=1), np.std(all_shares,axis=1), np.mean(all_derivatives, axis=2), np.std(all_derivatives, axis=2))"
   ]
  },
  {
   "cell_type": "code",
   "execution_count": null,
   "metadata": {},
   "outputs": [],
   "source": [
    "# Morrow and Skerlos (2011) Method: (see equation 27 in Conlon + Gortmaker)\n",
    "\n",
    "def get_matrices(t, p, beta2, beta3):\n",
    "    # p should be a length J vector\n",
    "    # betas should be num_sims\n",
    "    \n",
    "    u_t = np.tile(x[:,t] + xi[:,t] + alpha*p, (len(beta2), 1)) # num_sims x J \n",
    "    for j in range(J):\n",
    "        if j < 2:\n",
    "            u_t[:,j] = u_t[:,j] + beta2\n",
    "        else:\n",
    "            u_t[:,j] = u_t[:,j] + beta3\n",
    "            \n",
    "    Z = np.tile( 1 + np.sum(np.exp(u_t),axis=-1), (J,1)).T # num_sims x J\n",
    "    \n",
    "    Lambda_inv = np.zeros((J,J))\n",
    "    Gamma = np.zeros((J,J))\n",
    "    \n",
    "    own_numerator = alpha*np.exp(u_t)  # num_sims x J\n",
    "    denominator = Z\n",
    "    \n",
    "    for j in range(J):\n",
    "        Lambda_inv[j,j] = 1 / (np.mean(own_numerator / denominator, axis=0)[j])\n",
    "        \n",
    "    for j in range(J):\n",
    "        for k in range(J):\n",
    "            Gamma[j,k] = np.mean(alpha*np.exp(u_t)[:,k]*np.exp(u_t)[:,j] / np.square(1 + np.sum(np.exp(u_t),axis=-1)))\n",
    "    \n",
    "    return Lambda_inv, Gamma\n",
    "\n",
    "def get_fixed_point_function(t, beta2, beta3):\n",
    "    ownership_matrix = np.identity(J)\n",
    "    def F(p):\n",
    "        Lambda_inv, Gamma = get_matrices(t, p, beta2, beta3)\n",
    "        shares = mkt_share(t, p, beta2, beta3)\n",
    "        zeta = np.matmul(np.matmul(Lambda_inv, ownership_matrix*Gamma), (p - mc[:,t])) - np.matmul(Lambda_inv, shares)\n",
    "        return mc[:,t] + zeta\n",
    "        \n",
    "    return F\n",
    "\n"
   ]
  },
  {
   "cell_type": "code",
   "execution_count": null,
   "metadata": {},
   "outputs": [],
   "source": [
    "# Simulate equilibrium using the Morrow and Skerlos (2011) method\n",
    "eq_prices_2 = np.zeros((J, T))\n",
    "eq_shares_2 = np.zeros((J, T))\n",
    "\n",
    "for t in trange(T):\n",
    "    fn = get_fixed_point_function(t, beta2, beta3)\n",
    "    mkt_eq_prices = fixed_point(fn, np.array([1,1,1,1]), method=\"iteration\")\n",
    "    eq_prices_2[:,t] = mkt_eq_prices\n",
    "    eq_shares_2[:, t] = mkt_share(t, mkt_eq_prices, beta2, beta3)\n",
    "\n",
    "# the difference between the two methods, check that this is small\n",
    "np.max(eq_prices_2 - eq_prices), np.max(eq_shares_2 - eq_shares)"
   ]
  },
  {
   "cell_type": "code",
   "execution_count": null,
   "metadata": {},
   "outputs": [],
   "source": [
    "# Pick the results from the fsolve method (slightly faster)\n",
    "market_ids = np.tile(np.arange(T) + 1,(J,1)).T.flatten()\n",
    "firm_ids = np.tile(np.arange(J) + 1,(T,1)).flatten()\n",
    "satellite = np.concatenate((np.ones((2,T)), np.zeros((2,T)))).T.flatten()\n",
    "wired = np.concatenate((np.zeros((2,T)), np.ones((2,T)))).T.flatten()\n",
    "observed_data = pd.DataFrame(data={\n",
    "    \"market_ids\": market_ids, \n",
    "    \"firm_ids\": firm_ids,\n",
    "    \"shares\": eq_shares.T.flatten(), \n",
    "    \"prices\": eq_prices.T.flatten(),\n",
    "    \"x\": x.T.flatten(),\n",
    "    \"satellite\": satellite,\n",
    "    \"wired\": wired,\n",
    "    \"w\": w.T.flatten()\n",
    "})\n",
    "unobserved_data = pd.DataFrame(data={\n",
    "    \"market_ids\": market_ids, \n",
    "    \"firm_ids\": firm_ids,\n",
    "    \"xi\": xi.T.flatten(),\n",
    "    \"omega\": omega.T.flatten()\n",
    "})"
   ]
  },
  {
   "cell_type": "code",
   "execution_count": null,
   "metadata": {},
   "outputs": [],
   "source": [
    "# Instrument Analysis\n",
    "\n",
    "df1 = pd.DataFrame({'p':eq_prices[0,:]})\n",
    "df1['s'] = pd.Series(eq_shares[0,:])\n",
    "df1['x'] = pd.Series(x[0,:])\n",
    "df1['w'] = pd.Series(w[0,:])\n",
    "\n",
    "df2 = pd.DataFrame({'p':eq_prices[1,:]})\n",
    "df2['s'] = pd.Series(eq_shares[1,:])\n",
    "df2['x'] = pd.Series(x[1,:])\n",
    "df2['w'] = pd.Series(w[1,:])\n",
    "\n",
    "df3 = pd.DataFrame({'p':eq_prices[2,:]})\n",
    "df3['s'] = pd.Series(eq_shares[2,:])\n",
    "df3['x'] = pd.Series(x[2,:])\n",
    "df3['w'] = pd.Series(w[2,:])\n",
    "\n",
    "\n",
    "df4 = pd.DataFrame({'p':eq_prices[3,:]})\n",
    "df4['s'] = pd.Series(eq_shares[3,:])\n",
    "df4['x'] = pd.Series(x[3,:])\n",
    "df4['w'] = pd.Series(w[3,:])\n",
    "\n",
    "\n",
    "modelp11 = smf.ols('p ~ x +w', data=df1)\n",
    "modelp11 = modelp11.fit()\n",
    "\n",
    "modelp21 = smf.ols('p ~ x +w', data=df2)\n",
    "modelp21 = modelp21.fit()\n",
    "\n",
    "modelp31 = smf.ols('p ~ x +w', data=df3)\n",
    "modelp31 = modelp31.fit()\n",
    "\n",
    "modelp41 = smf.ols('p ~ x +w', data=df4)\n",
    "modelp41 = modelp41.fit()\n",
    "\n",
    "\n",
    "models11 = smf.ols('s ~ x +w', data=df1)\n",
    "models11 = models11.fit()\n",
    "\n",
    "models21 = smf.ols('s ~ x +w', data=df2)\n",
    "models21 = models21.fit()\n",
    "\n",
    "models31 = smf.ols('s ~ x +w', data=df3)\n",
    "models31 = models31.fit()\n",
    "\n",
    "models41 = smf.ols('s ~ x +w', data=df4)\n",
    "models41 = models41.fit()"
   ]
  },
  {
   "cell_type": "code",
   "execution_count": null,
   "metadata": {},
   "outputs": [],
   "source": [
    "modelp11.summary()"
   ]
  },
  {
   "cell_type": "markdown",
   "metadata": {},
   "source": [
    "## Part 4"
   ]
  },
  {
   "cell_type": "code",
   "execution_count": null,
   "metadata": {},
   "outputs": [],
   "source": [
    "# 4A: Logit\n",
    "outside_shares = 1 - np.sum(eq_shares, axis=0, keepdims=True)\n",
    "y = np.log(eq_shares/outside_shares).T.flatten()\n",
    "X = observed_data[[\"x\",\"satellite\",\"wired\",\"prices\"]]\n",
    "results = sm.OLS(y,X).fit()\n",
    "results.summary()"
   ]
  },
  {
   "cell_type": "markdown",
   "metadata": {},
   "source": [
    "Note that ignoring the endogeneity of prices results in underestimating the magnitudes of all the relevant parameters."
   ]
  },
  {
   "cell_type": "code",
   "execution_count": null,
   "metadata": {},
   "outputs": [],
   "source": []
  },
  {
   "cell_type": "code",
   "execution_count": null,
   "metadata": {},
   "outputs": [],
   "source": []
  },
  {
   "cell_type": "markdown",
   "metadata": {},
   "source": [
    "## Part 5"
   ]
  },
  {
   "cell_type": "code",
   "execution_count": null,
   "metadata": {},
   "outputs": [],
   "source": [
    "# BLP, Demand-side estimation only\n",
    "\n",
    "pyblp_problem = pyblp.Problem(\n",
    "    [\n",
    "        pyblp.Formulation(\"0 + prices + x + satellite + wired\"),\n",
    "        pyblp.Formulation(\"0 + satellite + wired\"),\n",
    "        None\n",
    "    ],\n",
    "    observed_data,\n",
    "    integration=pyblp.Integration('product', size=5),\n",
    ")"
   ]
  },
  {
   "cell_type": "code",
   "execution_count": null,
   "metadata": {},
   "outputs": [],
   "source": []
  },
  {
   "cell_type": "code",
   "execution_count": null,
   "metadata": {},
   "outputs": [],
   "source": []
  },
  {
   "cell_type": "code",
   "execution_count": null,
   "metadata": {},
   "outputs": [],
   "source": []
  },
  {
   "cell_type": "code",
   "execution_count": null,
   "metadata": {},
   "outputs": [],
   "source": []
  },
  {
   "cell_type": "code",
   "execution_count": null,
   "metadata": {
    "scrolled": true
   },
   "outputs": [],
   "source": [
    "sim = pyblp.Simulation(\n",
    "    product_formulations=[\n",
    "        pyblp.Formulation(\"0 + prices + x + satellite + wired\"),\n",
    "        pyblp.Formulation(\"0 + satellite + wired\"),\n",
    "        pyblp.Formulation(\"1 + w\")\n",
    "    ],\n",
    "    beta=[alpha, beta1, beta2_bar, beta3_bar],\n",
    "    sigma=[[sigma2, 0],[0, sigma3]],\n",
    "    gamma=[gamma0, gamma1],\n",
    "    product_data = observed_data[[\"market_ids\",\"firm_ids\",\"x\",\"satellite\",\"wired\",\"w\"]],\n",
    "    integration=pyblp.Integration('product', size=9),\n",
    "    xi = unobserved_data.xi,\n",
    "    omega = unobserved_data.omega/8,\n",
    "    costs_type=\"log\"\n",
    ")"
   ]
  },
  {
   "cell_type": "code",
   "execution_count": null,
   "metadata": {},
   "outputs": [],
   "source": []
  },
  {
   "cell_type": "code",
   "execution_count": null,
   "metadata": {},
   "outputs": [],
   "source": []
  },
  {
   "cell_type": "code",
   "execution_count": null,
   "metadata": {},
   "outputs": [],
   "source": []
  },
  {
   "cell_type": "code",
   "execution_count": null,
   "metadata": {},
   "outputs": [],
   "source": []
  },
  {
   "cell_type": "code",
   "execution_count": null,
   "metadata": {},
   "outputs": [],
   "source": []
  },
  {
   "cell_type": "code",
   "execution_count": null,
   "metadata": {},
   "outputs": [],
   "source": []
  },
  {
   "cell_type": "code",
   "execution_count": null,
   "metadata": {},
   "outputs": [],
   "source": []
  }
 ],
 "metadata": {
  "kernelspec": {
   "display_name": "Python 3",
   "language": "python",
   "name": "python3"
  },
  "language_info": {
   "codemirror_mode": {
    "name": "ipython",
    "version": 3
   },
   "file_extension": ".py",
   "mimetype": "text/x-python",
   "name": "python",
   "nbconvert_exporter": "python",
   "pygments_lexer": "ipython3",
   "version": "3.7.4"
  }
 },
 "nbformat": 4,
 "nbformat_minor": 2
}
