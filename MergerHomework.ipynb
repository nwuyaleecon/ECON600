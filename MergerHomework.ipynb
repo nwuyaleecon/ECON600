{
 "cells": [
  {
   "cell_type": "code",
   "execution_count": 1,
   "metadata": {},
   "outputs": [],
   "source": [
    "import numpy as np\n",
    "from scipy.optimize import fsolve, fixed_point\n",
    "from matplotlib import pyplot as plt\n",
    "import pyblp\n",
    "from tqdm.notebook import trange\n",
    "import statsmodels.api as sm\n",
    "import statsmodels.formula.api as smf\n",
    "from linearmodels.iv import IV2SLS\n",
    "import pandas as pd"
   ]
  },
  {
   "cell_type": "code",
   "execution_count": 2,
   "metadata": {},
   "outputs": [],
   "source": [
    "RNG_SEED = 8476263\n",
    "\n",
    "rng = np.random.default_rng(RNG_SEED) # this random seeding is for reproducibility"
   ]
  },
  {
   "cell_type": "code",
   "execution_count": 3,
   "metadata": {},
   "outputs": [],
   "source": [
    "# I am horrified that we have to overrun the default collinearity checks\n",
    "# however, wired and satellite dummy variables are collinear\n",
    "# so to prevent PyBLP from throwing a fit, we must do this.\n",
    "pyblp.options.collinear_rtol = 0\n",
    "pyblp.options.collinear_atol = 0"
   ]
  },
  {
   "cell_type": "code",
   "execution_count": 4,
   "metadata": {},
   "outputs": [],
   "source": [
    "# fixed parameter definitions\n",
    "\n",
    "beta1 = 1\n",
    "alpha = -2\n",
    "gamma0 = 1/2\n",
    "gamma1 = 1/4\n",
    "beta2_bar = 4\n",
    "beta3_bar = 4\n",
    "sigma2 = 1\n",
    "sigma3 = 1\n",
    "\n",
    "# markets and goods\n",
    "T = 600\n",
    "J = 4"
   ]
  },
  {
   "cell_type": "code",
   "execution_count": 5,
   "metadata": {},
   "outputs": [],
   "source": [
    "# 3.1\n",
    "\n",
    "# x_jt, w_jt are absolute value of iid standard normal variables\n",
    "x = np.absolute(rng.standard_normal(size=(J,T)))\n",
    "w = np.absolute(rng.standard_normal(size=(J,T)))\n",
    "\n",
    "unobservable_mean = [0,0]\n",
    "unobservable_cov = [[1,0.25],[0.25,1]]\n",
    "unobservables = rng.multivariate_normal(unobservable_mean, unobservable_cov, size=(J,T))\n",
    "xi = unobservables[:,:,0]\n",
    "omega = unobservables[:,:,1]"
   ]
  },
  {
   "cell_type": "code",
   "execution_count": 6,
   "metadata": {},
   "outputs": [],
   "source": [
    "# 3.2a\n",
    "# defining the market share\n",
    "\n",
    "def own_mkt_share_derivative(t, p, beta2, beta3): \n",
    "    # p should be a length J vector\n",
    "    # betas should be num_sims\n",
    "    \n",
    "    u_t = np.tile(x[:,t] + xi[:,t] + alpha*p, (len(beta2), 1)) # num_sims x J \n",
    "    for j in range(J):\n",
    "        if j < 2:\n",
    "            u_t[:,j] = u_t[:,j] + beta2\n",
    "        else:\n",
    "            u_t[:,j] = u_t[:,j] + beta3\n",
    "            \n",
    "    Z = np.tile( 1 + np.sum(np.exp(u_t),axis=-1), (J,1)).T\n",
    "    numerator = alpha*np.exp(u_t)*Z - alpha*np.square(np.exp(u_t)) # num_sims x J\n",
    "    denominator = np.square(Z)\n",
    "    \n",
    "    return np.mean(numerator / denominator, axis=0)\n",
    "\n",
    "def outside_mkt_share_derivative(t, p, beta2, beta3): \n",
    "    # p should be a length J vector\n",
    "    # betas should be num_sims\n",
    "    \n",
    "    u_t = np.tile(x[:,t] + xi[:,t] + alpha*p, (len(beta2), 1)) # num_sims x J \n",
    "    for j in range(J):\n",
    "        if j < 2:\n",
    "            u_t[:,j] = u_t[:,j] + beta2\n",
    "        else:\n",
    "            u_t[:,j] = u_t[:,j] + beta3\n",
    "            \n",
    "    Z = np.tile( 1 + np.sum(np.exp(u_t),axis=-1), (J,1)).T\n",
    "    numerator = -1*alpha*np.exp(u_t) # num_sims x J\n",
    "    denominator = np.square(Z)\n",
    "    \n",
    "    return np.mean(numerator / denominator, axis=0)  \n",
    "    \n",
    "def full_mkt_share_derivative(t, p, beta2, beta3):\n",
    "    # p should be a length J vector\n",
    "    # betas should be num_sims\n",
    "    \n",
    "    u_t = np.tile(x[:,t] + xi[:,t] + alpha*p, (len(beta2), 1)) # num_sims x J \n",
    "    for j in range(J):\n",
    "        if j < 2:\n",
    "            u_t[:,j] = u_t[:,j] + beta2\n",
    "        else:\n",
    "            u_t[:,j] = u_t[:,j] + beta3\n",
    "            \n",
    "    Z = np.tile( 1 + np.sum(np.exp(u_t),axis=-1), (J,1)).T # num_sims x J\n",
    "    \n",
    "    derivatives = np.zeros((J,J))\n",
    "    \n",
    "    own_numerator = alpha*np.exp(u_t)*Z - alpha*np.square(np.exp(u_t)) # num_sims x J\n",
    "    denominator = np.square(Z)\n",
    "    \n",
    "    for j in range(J):\n",
    "        derivatives[j,j] = np.mean(own_numerator / denominator, axis=0)[j]\n",
    "        \n",
    "    for j in range(J):\n",
    "        for k in range(J):\n",
    "            if not (j == k):\n",
    "                derivatives[j,k] = np.mean(-1*alpha*np.exp(u_t)[:,k]*np.exp(u_t)[:,j] / np.square(1 + np.sum(np.exp(u_t),axis=-1)))\n",
    "    \n",
    "    return derivatives"
   ]
  },
  {
   "cell_type": "code",
   "execution_count": 7,
   "metadata": {},
   "outputs": [],
   "source": [
    "# s_jt(p) \n",
    "def mkt_share(t, p, beta2, beta3):\n",
    "    # p should be a length J vector\n",
    "    # betas should be num_sims\n",
    "    \n",
    "    u_t = np.tile(x[:,t] + xi[:,t] + alpha*p, (len(beta2), 1)) # num_sims x J \n",
    "    for j in range(J):\n",
    "        if j < 2:\n",
    "            u_t[:,j] = u_t[:,j] + beta2\n",
    "        else:\n",
    "            u_t[:,j] = u_t[:,j] + beta3\n",
    "            \n",
    "    numerator = np.exp(u_t) \n",
    "    denominator = 1 + np.sum(np.exp(u_t),axis=-1) # num_sims\n",
    "    \n",
    "    return np.mean(numerator / (np.tile(denominator, (J, 1)).T), axis=0) \n"
   ]
  },
  {
   "cell_type": "code",
   "execution_count": 8,
   "metadata": {},
   "outputs": [
    {
     "data": {
      "application/vnd.jupyter.widget-view+json": {
       "model_id": "46b90c31df1c429db53d3e16880d52e4",
       "version_major": 2,
       "version_minor": 0
      },
      "text/plain": [
       "HBox(children=(IntProgress(value=0), HTML(value='')))"
      ]
     },
     "metadata": {},
     "output_type": "display_data"
    },
    {
     "name": "stdout",
     "output_type": "stream",
     "text": [
      "\n"
     ]
    },
    {
     "data": {
      "text/plain": [
       "(array([0.04784253, 0.15288083, 0.44046486, 0.35277411]),\n",
       " array([0.0008991 , 0.00287306, 0.00211771, 0.0016961 ]),\n",
       " array([[-0.29478105,  0.06650959,  0.2168944 ,  0.00709914],\n",
       "        [ 0.06650959, -0.16315672,  0.09183023,  0.00300568],\n",
       "        [ 0.2168944 ,  0.09183023, -0.35012373,  0.03100105],\n",
       "        [ 0.00709914,  0.00300568,  0.03100105, -0.04144621]]),\n",
       " array([[3.08401066e-03, 1.64034900e-03, 1.89106999e-03, 6.18963701e-05],\n",
       "        [1.64034900e-03, 2.14278030e-03, 8.00654110e-04, 2.62061074e-05],\n",
       "        [1.89106999e-03, 8.00654110e-04, 2.45783477e-03, 3.51894072e-04],\n",
       "        [6.18963701e-05, 2.62061074e-05, 3.51894072e-04, 2.89493485e-04]]))"
      ]
     },
     "execution_count": 8,
     "metadata": {},
     "output_type": "execute_result"
    }
   ],
   "source": [
    "# 3.2a(iv)\n",
    "# draw beta coefficients for N individuals S times, observe variation in market share derivatives\n",
    "\n",
    "S = 100\n",
    "\n",
    "all_derivatives = np.zeros((J,J,S))\n",
    "all_shares = np.zeros((J,S))\n",
    "\n",
    "N = 3000\n",
    "\n",
    "price = np.array([1,1,1,1])\n",
    "\n",
    "for s in trange(S):\n",
    "    beta2 = rng.normal(beta2_bar, sigma2, N)\n",
    "    beta3 = rng.normal(beta3_bar, sigma3, N)\n",
    "    all_derivatives[:,:,s] = full_mkt_share_derivative(0, price, beta2, beta3)\n",
    "    all_shares[:,s] = mkt_share(1, price, beta2, beta3)\n",
    "(np.mean(all_shares,axis=1), np.std(all_shares,axis=1), np.mean(all_derivatives, axis=2), np.std(all_derivatives, axis=2))"
   ]
  },
  {
   "cell_type": "code",
   "execution_count": 9,
   "metadata": {},
   "outputs": [],
   "source": [
    "mc = np.exp( gamma0 + gamma1*w + omega/8)"
   ]
  },
  {
   "cell_type": "code",
   "execution_count": 10,
   "metadata": {},
   "outputs": [],
   "source": [
    "# define function to solve\n",
    "\n",
    "def get_function_to_solve(t, beta2, beta3):\n",
    "    def F(p):\n",
    "        # p is a \n",
    "        ds_dp = own_mkt_share_derivative(t, p, beta2, beta3)\n",
    "        shares = mkt_share(t, p, beta2, beta3)\n",
    "        return p - mc[:,t] + np.reciprocal(ds_dp)*shares\n",
    "        \n",
    "    return F\n"
   ]
  },
  {
   "cell_type": "code",
   "execution_count": 11,
   "metadata": {},
   "outputs": [],
   "source": [
    "# draw betas, now compute equilibrium prices and shares\n",
    "\n",
    "beta2 = rng.normal(beta2_bar, sigma2, (N,T))\n",
    "beta3 = rng.normal(beta3_bar, sigma3, (N,T))"
   ]
  },
  {
   "cell_type": "code",
   "execution_count": 12,
   "metadata": {},
   "outputs": [
    {
     "data": {
      "application/vnd.jupyter.widget-view+json": {
       "model_id": "a50b49b49c224dae819485eac86a3b35",
       "version_major": 2,
       "version_minor": 0
      },
      "text/plain": [
       "HBox(children=(IntProgress(value=0, max=600), HTML(value='')))"
      ]
     },
     "metadata": {},
     "output_type": "display_data"
    },
    {
     "name": "stdout",
     "output_type": "stream",
     "text": [
      "\n"
     ]
    },
    {
     "data": {
      "text/plain": [
       "True"
      ]
     },
     "execution_count": 12,
     "metadata": {},
     "output_type": "execute_result"
    }
   ],
   "source": [
    "\n",
    "\n",
    "# 3.2 and 3.3: compute equilibrium shares, prices\n",
    "\n",
    "# these two variables are the prices and shares\n",
    "eq_prices = np.zeros((J, T))\n",
    "eq_shares = np.zeros((J, T))\n",
    "\n",
    "flag_total = 0\n",
    "\n",
    "for t in trange(T):\n",
    "    fn = get_function_to_solve(t, beta2[:,t], beta3[:,t])\n",
    "    mkt_eq_prices, _ , flag, _ = fsolve(fn, np.array([1,1,1,1]), full_output=True)\n",
    "    flag_total += flag\n",
    "    eq_prices[:,t] = mkt_eq_prices\n",
    "    eq_shares[:, t] = mkt_share(t, mkt_eq_prices, beta2[:,t], beta3[:,t])\n",
    "    \n",
    "# this should be True iff all of the fsolves converge\n",
    "flag_total == T"
   ]
  },
  {
   "cell_type": "code",
   "execution_count": 13,
   "metadata": {},
   "outputs": [
    {
     "data": {
      "application/vnd.jupyter.widget-view+json": {
       "model_id": "5f41ca1c3819454b80530071d2fbd88c",
       "version_major": 2,
       "version_minor": 0
      },
      "text/plain": [
       "HBox(children=(IntProgress(value=0, max=600), HTML(value='')))"
      ]
     },
     "metadata": {},
     "output_type": "display_data"
    },
    {
     "name": "stdout",
     "output_type": "stream",
     "text": [
      "\n"
     ]
    },
    {
     "data": {
      "text/plain": [
       "(array([0.25507194, 0.11278189, 0.40064946, 0.08424679]),\n",
       " array([0.01488757, 0.00658265, 0.0197216 , 0.00414697]),\n",
       " array([[-0.32679671,  0.04788997,  0.18986696,  0.00799054],\n",
       "        [ 0.04788997, -0.11260564,  0.04405547,  0.00185407],\n",
       "        [ 0.18986696,  0.04405547, -0.39812249,  0.02482909],\n",
       "        [ 0.00799054,  0.00185407,  0.02482909, -0.04053913]]),\n",
       " array([[1.43467614e-02, 5.21389120e-03, 8.04643656e-03, 3.38633904e-04],\n",
       "        [5.21389120e-03, 6.62030404e-03, 1.86704177e-03, 7.85743652e-05],\n",
       "        [8.04643656e-03, 1.86704177e-03, 1.17833364e-02, 1.96219771e-03],\n",
       "        [3.38633904e-04, 7.85743652e-05, 1.96219771e-03, 1.82593864e-03]]))"
      ]
     },
     "execution_count": 13,
     "metadata": {},
     "output_type": "execute_result"
    }
   ],
   "source": [
    "# check that at the equilibrium prices, the estimates for market shares and market share derivatives are precise\n",
    "# repeating the exercise of simulation with equilibrium prices, trying to get equilibrium shares\n",
    "\n",
    "S = 100\n",
    "\n",
    "all_derivatives = np.zeros((J,J,S))\n",
    "all_shares = np.zeros((J,S))\n",
    "\n",
    "N = 100\n",
    "\n",
    "for t in trange(T):\n",
    "    price = np.array(eq_prices[:,t])\n",
    "    for s in range(S):\n",
    "        beta2_s = np.random.normal(beta2_bar, sigma2, N)\n",
    "        beta3_s = np.random.normal(beta3_bar, sigma3, N)\n",
    "        all_derivatives[:,:,s] = full_mkt_share_derivative(0, price, beta2_s, beta3_s)\n",
    "        all_shares[:,s] = mkt_share(t, price, beta2_s, beta3_s)\n",
    "    \n",
    "(np.mean(all_shares,axis=1), np.std(all_shares,axis=1), np.mean(all_derivatives, axis=2), np.std(all_derivatives, axis=2))"
   ]
  },
  {
   "cell_type": "code",
   "execution_count": 14,
   "metadata": {},
   "outputs": [],
   "source": [
    "# Morrow and Skerlos (2011) Method: (see equation 27 in Conlon + Gortmaker)\n",
    "\n",
    "def get_matrices(t, p, beta2, beta3):\n",
    "    # p should be a length J vector\n",
    "    # betas should be num_sims\n",
    "    \n",
    "    u_t = np.tile(x[:,t] + xi[:,t] + alpha*p, (len(beta2), 1)) # num_sims x J \n",
    "    for j in range(J):\n",
    "        if j < 2:\n",
    "            u_t[:,j] = u_t[:,j] + beta2\n",
    "        else:\n",
    "            u_t[:,j] = u_t[:,j] + beta3\n",
    "            \n",
    "    Z = np.tile( 1 + np.sum(np.exp(u_t),axis=-1), (J,1)).T # num_sims x J\n",
    "    \n",
    "    Lambda_inv = np.zeros((J,J))\n",
    "    Gamma = np.zeros((J,J))\n",
    "    \n",
    "    own_numerator = alpha*np.exp(u_t)  # num_sims x J\n",
    "    denominator = Z\n",
    "    \n",
    "    for j in range(J):\n",
    "        Lambda_inv[j,j] = 1 / (np.mean(own_numerator / denominator, axis=0)[j])\n",
    "        \n",
    "    for j in range(J):\n",
    "        for k in range(J):\n",
    "            Gamma[j,k] = np.mean(alpha*np.exp(u_t)[:,k]*np.exp(u_t)[:,j] / np.square(1 + np.sum(np.exp(u_t),axis=-1)))\n",
    "    \n",
    "    return Lambda_inv, Gamma\n",
    "\n",
    "def get_fixed_point_function(t, beta2, beta3):\n",
    "    ownership_matrix = np.identity(J)\n",
    "    def F(p):\n",
    "        Lambda_inv, Gamma = get_matrices(t, p, beta2, beta3)\n",
    "        shares = mkt_share(t, p, beta2, beta3)\n",
    "        zeta = np.matmul(np.matmul(Lambda_inv, ownership_matrix*Gamma), (p - mc[:,t])) - np.matmul(Lambda_inv, shares)\n",
    "        return mc[:,t] + zeta\n",
    "        \n",
    "    return F\n",
    "\n"
   ]
  },
  {
   "cell_type": "code",
   "execution_count": 15,
   "metadata": {},
   "outputs": [
    {
     "data": {
      "application/vnd.jupyter.widget-view+json": {
       "model_id": "64e9ad895b1e469b840fde0623beb37f",
       "version_major": 2,
       "version_minor": 0
      },
      "text/plain": [
       "HBox(children=(IntProgress(value=0, max=600), HTML(value='')))"
      ]
     },
     "metadata": {},
     "output_type": "display_data"
    },
    {
     "name": "stdout",
     "output_type": "stream",
     "text": [
      "\n"
     ]
    },
    {
     "data": {
      "text/plain": [
       "(1.373072322508051e-09, 4.207107107134789e-09)"
      ]
     },
     "execution_count": 15,
     "metadata": {},
     "output_type": "execute_result"
    }
   ],
   "source": [
    "# Simulate equilibrium using the Morrow and Skerlos (2011) method\n",
    "eq_prices_2 = np.zeros((J, T))\n",
    "eq_shares_2 = np.zeros((J, T))\n",
    "\n",
    "for t in trange(T):\n",
    "    fn = get_fixed_point_function(t, beta2[:,t], beta3[:,t])\n",
    "    mkt_eq_prices = fixed_point(fn, np.array([1,1,1,1]), method=\"iteration\")\n",
    "    eq_prices_2[:,t] = mkt_eq_prices\n",
    "    eq_shares_2[:, t] = mkt_share(t, mkt_eq_prices, beta2[:,t], beta3[:,t])\n",
    "\n",
    "# the difference between the two methods, check that this is small\n",
    "np.max(eq_prices_2 - eq_prices), np.max(eq_shares_2 - eq_shares)"
   ]
  },
  {
   "cell_type": "code",
   "execution_count": 16,
   "metadata": {},
   "outputs": [
    {
     "data": {
      "application/vnd.jupyter.widget-view+json": {
       "model_id": "77f82498d6b048fca1ec5f8c52014839",
       "version_major": 2,
       "version_minor": 0
      },
      "text/plain": [
       "HBox(children=(IntProgress(value=0, max=600), HTML(value='')))"
      ]
     },
     "metadata": {},
     "output_type": "display_data"
    },
    {
     "name": "stdout",
     "output_type": "stream",
     "text": [
      "\n"
     ]
    }
   ],
   "source": [
    "# Precompute the price elasticities and diversion \n",
    "# What PyBLP does, and what we will do, is replace the diagonal of the diversion ratio matrix with the outside option diversion ratio (instead of -1)\n",
    "true_price_elasticities = np.zeros((J,J,T))\n",
    "true_diversion_ratios = np.zeros((J,J,T))\n",
    "\n",
    "N = 100\n",
    "\n",
    "for t in trange(T):\n",
    "    own_price_derivative = own_mkt_share_derivative(t, eq_prices[:,t], beta2[:,t], beta3[:,t])\n",
    "    derivative_matrix = full_mkt_share_derivative(t, eq_prices[:,t], beta2[:,t], beta3[:,t])\n",
    "    true_price_elasticities[:,:,t] = eq_prices[:,t]*derivative_matrix / eq_shares[:,t].T\n",
    "    derivative_matrix = full_mkt_share_derivative(t, eq_prices[:,t], beta2[:,t], beta3[:,t])\n",
    "    outside_derivatives = outside_mkt_share_derivative(t, eq_prices[:,t], beta2[:,t], beta3[:,t])\n",
    "    for j in range(J):\n",
    "        for k in range(J):\n",
    "            true_diversion_ratios[j,k,t] = -1*derivative_matrix[k,j]/derivative_matrix[j,j]\n",
    "    for j in range(J):\n",
    "        true_diversion_ratios[j,j,t] = -1*outside_derivatives[j]/derivative_matrix[j,j]"
   ]
  },
  {
   "cell_type": "code",
   "execution_count": 17,
   "metadata": {},
   "outputs": [],
   "source": [
    "\n",
    "market_ids = np.tile(np.arange(T) + 1,(J,1)).T.flatten()\n",
    "firm_ids = np.tile(np.arange(J) + 1,(T,1)).flatten()\n",
    "satellite = np.concatenate((np.ones((2,T)), np.zeros((2,T)))).T.flatten()\n",
    "wired = np.concatenate((np.zeros((2,T)), np.ones((2,T)))).T.flatten()\n",
    "observed_data = pd.DataFrame(data={\n",
    "    \"market_ids\": market_ids, \n",
    "    \"firm_ids\": firm_ids,\n",
    "    \"shares\": eq_shares.T.flatten(), \n",
    "    \"prices\": eq_prices.T.flatten(),\n",
    "    \"x\": x.T.flatten(),\n",
    "    \"satellite\": satellite,\n",
    "    \"wired\": wired,\n",
    "    \"w\": w.T.flatten()\n",
    "})\n",
    "unobserved_data = pd.DataFrame(data={\n",
    "    \"market_ids\": market_ids, \n",
    "    \"firm_ids\": firm_ids,\n",
    "    \"xi\": xi.T.flatten(),\n",
    "    \"omega\": omega.T.flatten()\n",
    "})"
   ]
  },
  {
   "cell_type": "code",
   "execution_count": 18,
   "metadata": {},
   "outputs": [],
   "source": [
    "# Instrument Analysis\n",
    "\n",
    "df1 = pd.DataFrame({\n",
    "    'p1':eq_prices[0,:],\n",
    "    \"s1\":eq_shares[0,:],\n",
    "    'p2':eq_prices[1,:],\n",
    "    \"s2\":eq_shares[1,:],\n",
    "    'p3':eq_prices[2,:],\n",
    "    \"s3\":eq_shares[2,:],\n",
    "    'p4':eq_prices[3,:],\n",
    "    \"s4\":eq_shares[3,:],\n",
    "    'x1':pd.Series(x[0,:]),\n",
    "    'w1':pd.Series(w[0,:]),\n",
    "    'x2':pd.Series(x[1,:]),\n",
    "    'w2':pd.Series(w[1,:]),\n",
    "    'x3':pd.Series(x[2,:]),\n",
    "    'w3':pd.Series(w[2,:]),\n",
    "    'x4':pd.Series(x[3,:]),\n",
    "    'w4':pd.Series(w[3,:]),\n",
    "    \n",
    "})\n",
    "\n",
    "X = df1[[\"x1\",\"x2\",\"x3\",\"x4\",\"w1\",\"w2\",\"w3\",\"w4\"]]\n",
    "# regress prices on observables \n",
    "\n",
    "modelp1 = sm.OLS(df1[\"p1\"],X).fit()\n",
    "modelp2 = sm.OLS(df1[\"p2\"],X).fit()\n",
    "modelp3 = sm.OLS(df1[\"p3\"],X).fit()\n",
    "modelp4 = sm.OLS(df1[\"p4\"],X).fit()\n",
    "models1 = sm.OLS(df1[\"s1\"],X).fit()\n",
    "models2 = sm.OLS(df1[\"s2\"],X).fit()\n",
    "models3 = sm.OLS(df1[\"s3\"],X).fit()\n",
    "models4 = sm.OLS(df1[\"s4\"],X).fit()"
   ]
  },
  {
   "cell_type": "code",
   "execution_count": 19,
   "metadata": {},
   "outputs": [
    {
     "data": {
      "text/plain": [
       "(0.9435061522877474,\n",
       " 0.9480775331245905,\n",
       " 0.9468682020346536,\n",
       " 0.9477482549660268)"
      ]
     },
     "execution_count": 19,
     "metadata": {},
     "output_type": "execute_result"
    }
   ],
   "source": [
    "modelp1.rsquared_adj, modelp2.rsquared_adj, modelp3.rsquared_adj, modelp4.rsquared_adj"
   ]
  },
  {
   "cell_type": "code",
   "execution_count": 20,
   "metadata": {},
   "outputs": [
    {
     "data": {
      "text/plain": [
       "(0.7644818350345643,\n",
       " 0.7983742915490801,\n",
       " 0.7648735858119549,\n",
       " 0.7737755052449837)"
      ]
     },
     "execution_count": 20,
     "metadata": {},
     "output_type": "execute_result"
    }
   ],
   "source": [
    "models1.rsquared_adj, models2.rsquared_adj, models3.rsquared_adj, models4.rsquared_adj"
   ]
  },
  {
   "cell_type": "markdown",
   "metadata": {},
   "source": [
    "## Part 4"
   ]
  },
  {
   "cell_type": "code",
   "execution_count": 21,
   "metadata": {},
   "outputs": [],
   "source": [
    "model_data = observed_data.copy()\n",
    "model_data[\"x_other\"] = np.stack([\n",
    "    x[1,:]+x[2,:]+x[3,:], \n",
    "    x[0,:]+x[2,:]+x[3,:], \n",
    "    x[0,:]+x[1,:]+x[3,:], \n",
    "    x[0,:]+x[1,:]+x[2,:]]).T.flatten()\n",
    "model_data[\"w_other\"] = np.stack(\n",
    "    [w[1,:]+w[2,:]+w[3,:],\n",
    "     w[0,:]+w[2,:]+w[3,:], \n",
    "     w[0,:]+w[1,:]+w[3,:], \n",
    "     w[0,:]+w[1,:]+w[2,:]]).T.flatten()\n"
   ]
  },
  {
   "cell_type": "code",
   "execution_count": 22,
   "metadata": {},
   "outputs": [
    {
     "data": {
      "text/html": [
       "<table class=\"simpletable\">\n",
       "<caption>OLS Regression Results</caption>\n",
       "<tr>\n",
       "  <th>Dep. Variable:</th>            <td>y</td>        <th>  R-squared:         </th> <td>   0.314</td> \n",
       "</tr>\n",
       "<tr>\n",
       "  <th>Model:</th>                   <td>OLS</td>       <th>  Adj. R-squared:    </th> <td>   0.313</td> \n",
       "</tr>\n",
       "<tr>\n",
       "  <th>Method:</th>             <td>Least Squares</td>  <th>  F-statistic:       </th> <td>   365.4</td> \n",
       "</tr>\n",
       "<tr>\n",
       "  <th>Date:</th>             <td>Wed, 13 Oct 2021</td> <th>  Prob (F-statistic):</th> <td>2.09e-195</td>\n",
       "</tr>\n",
       "<tr>\n",
       "  <th>Time:</th>                 <td>21:46:41</td>     <th>  Log-Likelihood:    </th> <td> -3033.1</td> \n",
       "</tr>\n",
       "<tr>\n",
       "  <th>No. Observations:</th>      <td>  2400</td>      <th>  AIC:               </th> <td>   6074.</td> \n",
       "</tr>\n",
       "<tr>\n",
       "  <th>Df Residuals:</th>          <td>  2396</td>      <th>  BIC:               </th> <td>   6097.</td> \n",
       "</tr>\n",
       "<tr>\n",
       "  <th>Df Model:</th>              <td>     3</td>      <th>                     </th>     <td> </td>    \n",
       "</tr>\n",
       "<tr>\n",
       "  <th>Covariance Type:</th>      <td>nonrobust</td>    <th>                     </th>     <td> </td>    \n",
       "</tr>\n",
       "</table>\n",
       "<table class=\"simpletable\">\n",
       "<tr>\n",
       "      <td></td>         <th>coef</th>     <th>std err</th>      <th>t</th>      <th>P>|t|</th>  <th>[0.025</th>    <th>0.975]</th>  \n",
       "</tr>\n",
       "<tr>\n",
       "  <th>x</th>         <td>    0.8375</td> <td>    0.029</td> <td>   28.572</td> <td> 0.000</td> <td>    0.780</td> <td>    0.895</td>\n",
       "</tr>\n",
       "<tr>\n",
       "  <th>satellite</th> <td>    1.3705</td> <td>    0.122</td> <td>   11.239</td> <td> 0.000</td> <td>    1.131</td> <td>    1.610</td>\n",
       "</tr>\n",
       "<tr>\n",
       "  <th>wired</th>     <td>    1.3589</td> <td>    0.123</td> <td>   11.046</td> <td> 0.000</td> <td>    1.118</td> <td>    1.600</td>\n",
       "</tr>\n",
       "<tr>\n",
       "  <th>prices</th>    <td>   -0.9518</td> <td>    0.044</td> <td>  -21.393</td> <td> 0.000</td> <td>   -1.039</td> <td>   -0.865</td>\n",
       "</tr>\n",
       "</table>\n",
       "<table class=\"simpletable\">\n",
       "<tr>\n",
       "  <th>Omnibus:</th>       <td>41.828</td> <th>  Durbin-Watson:     </th> <td>   2.047</td>\n",
       "</tr>\n",
       "<tr>\n",
       "  <th>Prob(Omnibus):</th> <td> 0.000</td> <th>  Jarque-Bera (JB):  </th> <td>  48.815</td>\n",
       "</tr>\n",
       "<tr>\n",
       "  <th>Skew:</th>          <td>-0.263</td> <th>  Prob(JB):          </th> <td>2.51e-11</td>\n",
       "</tr>\n",
       "<tr>\n",
       "  <th>Kurtosis:</th>      <td> 3.460</td> <th>  Cond. No.          </th> <td>    30.0</td>\n",
       "</tr>\n",
       "</table><br/><br/>Notes:<br/>[1] Standard Errors assume that the covariance matrix of the errors is correctly specified."
      ],
      "text/plain": [
       "<class 'statsmodels.iolib.summary.Summary'>\n",
       "\"\"\"\n",
       "                            OLS Regression Results                            \n",
       "==============================================================================\n",
       "Dep. Variable:                      y   R-squared:                       0.314\n",
       "Model:                            OLS   Adj. R-squared:                  0.313\n",
       "Method:                 Least Squares   F-statistic:                     365.4\n",
       "Date:                Wed, 13 Oct 2021   Prob (F-statistic):          2.09e-195\n",
       "Time:                        21:46:41   Log-Likelihood:                -3033.1\n",
       "No. Observations:                2400   AIC:                             6074.\n",
       "Df Residuals:                    2396   BIC:                             6097.\n",
       "Df Model:                           3                                         \n",
       "Covariance Type:            nonrobust                                         \n",
       "==============================================================================\n",
       "                 coef    std err          t      P>|t|      [0.025      0.975]\n",
       "------------------------------------------------------------------------------\n",
       "x              0.8375      0.029     28.572      0.000       0.780       0.895\n",
       "satellite      1.3705      0.122     11.239      0.000       1.131       1.610\n",
       "wired          1.3589      0.123     11.046      0.000       1.118       1.600\n",
       "prices        -0.9518      0.044    -21.393      0.000      -1.039      -0.865\n",
       "==============================================================================\n",
       "Omnibus:                       41.828   Durbin-Watson:                   2.047\n",
       "Prob(Omnibus):                  0.000   Jarque-Bera (JB):               48.815\n",
       "Skew:                          -0.263   Prob(JB):                     2.51e-11\n",
       "Kurtosis:                       3.460   Cond. No.                         30.0\n",
       "==============================================================================\n",
       "\n",
       "Notes:\n",
       "[1] Standard Errors assume that the covariance matrix of the errors is correctly specified.\n",
       "\"\"\""
      ]
     },
     "execution_count": 22,
     "metadata": {},
     "output_type": "execute_result"
    }
   ],
   "source": [
    "# 4A: Logit\n",
    "outside_shares = 1 - np.sum(eq_shares, axis=0, keepdims=True)\n",
    "y = np.log(eq_shares/outside_shares).T.flatten()\n",
    "X = model_data[[\"x\",\"satellite\",\"wired\",\"prices\"]]\n",
    "results = sm.OLS(y,X).fit()\n",
    "results.summary()"
   ]
  },
  {
   "cell_type": "markdown",
   "metadata": {},
   "source": [
    "Note that ignoring the endogeneity of prices results in underestimating the magnitudes of all the relevant parameters."
   ]
  },
  {
   "cell_type": "code",
   "execution_count": 23,
   "metadata": {},
   "outputs": [
    {
     "data": {
      "text/html": [
       "<table class=\"simpletable\">\n",
       "<caption>IV-2SLS Estimation Summary</caption>\n",
       "<tr>\n",
       "  <th>Dep. Variable:</th>        <td>dependent</td>    <th>  R-squared:         </th> <td>0.1841</td> \n",
       "</tr>\n",
       "<tr>\n",
       "  <th>Estimator:</th>             <td>IV-2SLS</td>     <th>  Adj. R-squared:    </th> <td>0.1831</td> \n",
       "</tr>\n",
       "<tr>\n",
       "  <th>No. Observations:</th>       <td>2400</td>       <th>  F-statistic:       </th> <td>2007.7</td> \n",
       "</tr>\n",
       "<tr>\n",
       "  <th>Date:</th>             <td>Wed, Oct 13 2021</td> <th>  P-value (F-stat)   </th> <td>0.0000</td> \n",
       "</tr>\n",
       "<tr>\n",
       "  <th>Time:</th>                 <td>21:46:41</td>     <th>  Distribution:      </th> <td>chi2(4)</td>\n",
       "</tr>\n",
       "<tr>\n",
       "  <th>Cov. Estimator:</th>        <td>robust</td>      <th>                     </th>    <td></td>    \n",
       "</tr>\n",
       "<tr>\n",
       "  <th></th>                          <td></td>         <th>                     </th>    <td></td>    \n",
       "</tr>\n",
       "</table>\n",
       "<table class=\"simpletable\">\n",
       "<caption>Parameter Estimates</caption>\n",
       "<tr>\n",
       "      <td></td>      <th>Parameter</th> <th>Std. Err.</th> <th>T-stat</th>  <th>P-value</th> <th>Lower CI</th> <th>Upper CI</th>\n",
       "</tr>\n",
       "<tr>\n",
       "  <th>x</th>          <td>0.9461</td>    <td>0.0331</td>   <td>28.609</td>  <td>0.0000</td>   <td>0.8813</td>   <td>1.0109</td> \n",
       "</tr>\n",
       "<tr>\n",
       "  <th>satellite</th>  <td>3.8635</td>    <td>0.1878</td>   <td>20.575</td>  <td>0.0000</td>   <td>3.4955</td>   <td>4.2315</td> \n",
       "</tr>\n",
       "<tr>\n",
       "  <th>wired</th>      <td>3.8774</td>    <td>0.1880</td>   <td>20.628</td>  <td>0.0000</td>   <td>3.5090</td>   <td>4.2458</td> \n",
       "</tr>\n",
       "<tr>\n",
       "  <th>prices</th>     <td>-1.8992</td>   <td>0.0700</td>   <td>-27.132</td> <td>0.0000</td>   <td>-2.0364</td>  <td>-1.7620</td>\n",
       "</tr>\n",
       "</table><br/><br/>Endogenous: prices<br/>Instruments: w, x_other, w_other<br/>Robust Covariance (Heteroskedastic)<br/>Debiased: False"
      ],
      "text/plain": [
       "<class 'linearmodels.compat.statsmodels.Summary'>\n",
       "\"\"\"\n",
       "                          IV-2SLS Estimation Summary                          \n",
       "==============================================================================\n",
       "Dep. Variable:              dependent   R-squared:                      0.1841\n",
       "Estimator:                    IV-2SLS   Adj. R-squared:                 0.1831\n",
       "No. Observations:                2400   F-statistic:                    2007.7\n",
       "Date:                Wed, Oct 13 2021   P-value (F-stat)                0.0000\n",
       "Time:                        21:46:41   Distribution:                  chi2(4)\n",
       "Cov. Estimator:                robust                                         \n",
       "                                                                              \n",
       "                             Parameter Estimates                              \n",
       "==============================================================================\n",
       "            Parameter  Std. Err.     T-stat    P-value    Lower CI    Upper CI\n",
       "------------------------------------------------------------------------------\n",
       "x              0.9461     0.0331     28.609     0.0000      0.8813      1.0109\n",
       "satellite      3.8635     0.1878     20.575     0.0000      3.4955      4.2315\n",
       "wired          3.8774     0.1880     20.628     0.0000      3.5090      4.2458\n",
       "prices        -1.8992     0.0700    -27.132     0.0000     -2.0364     -1.7620\n",
       "==============================================================================\n",
       "\n",
       "Endogenous: prices\n",
       "Instruments: w, x_other, w_other\n",
       "Robust Covariance (Heteroskedastic)\n",
       "Debiased: False\n",
       "\"\"\""
      ]
     },
     "execution_count": 23,
     "metadata": {},
     "output_type": "execute_result"
    }
   ],
   "source": [
    "#6: IV-2SLS\n",
    "X_exog = model_data[[\"x\", \"satellite\", \"wired\"]].astype(float)\n",
    "X_endog = model_data[[\"prices\"]].astype(float)\n",
    "Z = model_data[[\"w\", \"x_other\", \"w_other\"]].astype(float)\n",
    "# we'll just instrument for prices with w and x of the own-product; it seems good enough here\n",
    "iv_model = IV2SLS(y, X_exog, X_endog, Z).fit()\n",
    "iv_model.summary"
   ]
  },
  {
   "cell_type": "code",
   "execution_count": 24,
   "metadata": {},
   "outputs": [
    {
     "data": {
      "text/html": [
       "<table class=\"simpletable\">\n",
       "<caption>IV-2SLS Estimation Summary</caption>\n",
       "<tr>\n",
       "  <th>Dep. Variable:</th>        <td>dependent</td>    <th>  R-squared:         </th> <td>0.3589</td> \n",
       "</tr>\n",
       "<tr>\n",
       "  <th>Estimator:</th>             <td>IV-2SLS</td>     <th>  Adj. R-squared:    </th> <td>0.3576</td> \n",
       "</tr>\n",
       "<tr>\n",
       "  <th>No. Observations:</th>       <td>2400</td>       <th>  F-statistic:       </th> <td>2635.4</td> \n",
       "</tr>\n",
       "<tr>\n",
       "  <th>Date:</th>             <td>Wed, Oct 13 2021</td> <th>  P-value (F-stat)   </th> <td>0.0000</td> \n",
       "</tr>\n",
       "<tr>\n",
       "  <th>Time:</th>                 <td>21:46:41</td>     <th>  Distribution:      </th> <td>chi2(6)</td>\n",
       "</tr>\n",
       "<tr>\n",
       "  <th>Cov. Estimator:</th>        <td>robust</td>      <th>                     </th>    <td></td>    \n",
       "</tr>\n",
       "<tr>\n",
       "  <th></th>                          <td></td>         <th>                     </th>    <td></td>    \n",
       "</tr>\n",
       "</table>\n",
       "<table class=\"simpletable\">\n",
       "<caption>Parameter Estimates</caption>\n",
       "<tr>\n",
       "             <td></td>             <th>Parameter</th> <th>Std. Err.</th> <th>T-stat</th>  <th>P-value</th> <th>Lower CI</th> <th>Upper CI</th>\n",
       "</tr>\n",
       "<tr>\n",
       "  <th>x</th>                        <td>0.8483</td>    <td>0.0377</td>   <td>22.479</td>  <td>0.0000</td>   <td>0.7743</td>   <td>0.9223</td> \n",
       "</tr>\n",
       "<tr>\n",
       "  <th>satellite</th>                <td>3.4995</td>    <td>0.1923</td>   <td>18.200</td>  <td>0.0000</td>   <td>3.1226</td>   <td>3.8763</td> \n",
       "</tr>\n",
       "<tr>\n",
       "  <th>wired</th>                    <td>3.4881</td>    <td>0.1825</td>   <td>19.111</td>  <td>0.0000</td>   <td>3.1303</td>   <td>3.8458</td> \n",
       "</tr>\n",
       "<tr>\n",
       "  <th>prices</th>                   <td>-1.6649</td>   <td>0.0784</td>   <td>-21.241</td> <td>0.0000</td>   <td>-1.8185</td>  <td>-1.5112</td>\n",
       "</tr>\n",
       "<tr>\n",
       "  <th>within_satellite_shares</th>  <td>0.2173</td>    <td>0.0770</td>   <td>2.8237</td>  <td>0.0047</td>   <td>0.0665</td>   <td>0.3681</td> \n",
       "</tr>\n",
       "<tr>\n",
       "  <th>within_wired_shares</th>      <td>0.1944</td>    <td>0.0714</td>   <td>2.7237</td>  <td>0.0065</td>   <td>0.0545</td>   <td>0.3342</td> \n",
       "</tr>\n",
       "</table><br/><br/>Endogenous: prices, within_satellite_shares, within_wired_shares<br/>Instruments: w, x_other, w_other, x_other_satellite, w_other_satellite, x_other_wired, w_other_wired<br/>Robust Covariance (Heteroskedastic)<br/>Debiased: False"
      ],
      "text/plain": [
       "<class 'linearmodels.compat.statsmodels.Summary'>\n",
       "\"\"\"\n",
       "                          IV-2SLS Estimation Summary                          \n",
       "==============================================================================\n",
       "Dep. Variable:              dependent   R-squared:                      0.3589\n",
       "Estimator:                    IV-2SLS   Adj. R-squared:                 0.3576\n",
       "No. Observations:                2400   F-statistic:                    2635.4\n",
       "Date:                Wed, Oct 13 2021   P-value (F-stat)                0.0000\n",
       "Time:                        21:46:41   Distribution:                  chi2(6)\n",
       "Cov. Estimator:                robust                                         \n",
       "                                                                              \n",
       "                                    Parameter Estimates                                    \n",
       "===========================================================================================\n",
       "                         Parameter  Std. Err.     T-stat    P-value    Lower CI    Upper CI\n",
       "-------------------------------------------------------------------------------------------\n",
       "x                           0.8483     0.0377     22.479     0.0000      0.7743      0.9223\n",
       "satellite                   3.4995     0.1923     18.200     0.0000      3.1226      3.8763\n",
       "wired                       3.4881     0.1825     19.111     0.0000      3.1303      3.8458\n",
       "prices                     -1.6649     0.0784    -21.241     0.0000     -1.8185     -1.5112\n",
       "within_satellite_shares     0.2173     0.0770     2.8237     0.0047      0.0665      0.3681\n",
       "within_wired_shares         0.1944     0.0714     2.7237     0.0065      0.0545      0.3342\n",
       "===========================================================================================\n",
       "\n",
       "Endogenous: prices, within_satellite_shares, within_wired_shares\n",
       "Instruments: w, x_other, w_other, x_other_satellite, w_other_satellite, x_other_wired, w_other_wired\n",
       "Robust Covariance (Heteroskedastic)\n",
       "Debiased: False\n",
       "\"\"\""
      ]
     },
     "execution_count": 24,
     "metadata": {},
     "output_type": "execute_result"
    }
   ],
   "source": [
    "#4.7 nested logit\n",
    "\n",
    "# construct log of within group share\n",
    "satellite_share= eq_shares[0,:] + eq_shares[1,:]\n",
    "wired_share= eq_shares[2,:] + eq_shares[3,:]\n",
    "model_data[\"within_satellite_shares\"] = model_data[\"satellite\"]*np.log(eq_shares / satellite_share).T.flatten()\n",
    "model_data[\"within_wired_shares\"] = model_data[\"wired\"]*np.log(eq_shares / wired_share).T.flatten()\n",
    "model_data[\"within_group_shares\"] = model_data[\"within_wired_shares\"] + model_data[\"within_satellite_shares\"]\n",
    "\n",
    "# now use the other in-group firm's characteristics as instruments\n",
    "model_data[\"x_other_satellite\"] = np.stack([x[1,:], x[0,:], x[3,:], x[2,:]]).T.flatten()*model_data[\"satellite\"]\n",
    "model_data[\"w_other_satellite\"] = np.stack([w[1,:], w[0,:], w[3,:], w[2,:]]).T.flatten()*model_data[\"satellite\"]\n",
    "model_data[\"x_other_wired\"] = np.stack([x[1,:], x[0,:], x[3,:], x[2,:]]).T.flatten()*model_data[\"wired\"]\n",
    "model_data[\"w_other_wired\"] = np.stack([w[1,:], w[0,:], w[3,:], w[2,:]]).T.flatten()*model_data[\"wired\"]\n",
    "\n",
    "X_exog = model_data[[\"x\",\"satellite\",\"wired\"]]\n",
    "X_endog = model_data[[\"prices\", \"within_satellite_shares\", \"within_wired_shares\" ]]\n",
    "Z = model_data[[\"w\", \"x_other\", \"w_other\", \"x_other_satellite\", \"w_other_satellite\", \"x_other_wired\", \"w_other_wired\"]]\n",
    "iv_model = IV2SLS(y, X_exog, X_endog, Z).fit()\n",
    "iv_model.summary"
   ]
  },
  {
   "cell_type": "code",
   "execution_count": 25,
   "metadata": {},
   "outputs": [],
   "source": [
    "# define functions for derivatives and shares in the nested logit\n",
    "\n",
    "def full_mkt_share_derivative_nested(t, p, pars):\n",
    "    \n",
    "    XX =  [x[:,t], [1,1,0,0], [0,0,1,1], p  ]\n",
    "        \n",
    "    v_t = pars[0:4]  @ XX\n",
    "    \n",
    "    sigma_1 = pars[4]\n",
    "    \n",
    "    sigma_2 = pars[5]\n",
    "    \n",
    "    theta_2 = pars[3]\n",
    "   \n",
    "            \n",
    "    D1 = np.exp(v_t[0]/(1- sigma_1)) + np.exp(v_t[1]/(1- sigma_1)) \n",
    "    \n",
    "    D2 = np.exp(v_t[2]/(1- sigma_2)) + np.exp(v_t[3]/(1- sigma_2)) \n",
    "            \n",
    "    Z = 1 + np.power(D1, (1- sigma_1)) + np.power(D2, (1- sigma_2))\n",
    "    \n",
    "    \n",
    "    derivatives = np.zeros((J,J))\n",
    "    \n",
    "    for j in range(J):\n",
    "        if j < 2:\n",
    "            derivatives[j,j] = (theta_2/(1 - sigma_1))*( np.exp(v_t[j]/(1- sigma_1))*np.power(D1, sigma_1)*Z -  np.exp((2*v_t[j])/(1- sigma_1))*(   sigma_1*np.power(D1, sigma_1 -1)*Z + (1- sigma_1)) )  / np.square((np.power(D1, sigma_1)*Z))\n",
    "        else:\n",
    "            derivatives[j,j] = (theta_2/(1 - sigma_2))*( np.exp(v_t[j]/(1- sigma_2))*np.power(D2, sigma_2)*Z -  np.exp((2*v_t[j])/(1- sigma_2))*(   sigma_2*np.power(D2, sigma_2 -1)*Z + (1- sigma_2)) )  / np.square((np.power(D2, sigma_2)*Z))\n",
    "            \n",
    "    \n",
    "    for j in range(J):\n",
    "        for k in range(J):\n",
    "            if not (j == k):\n",
    "                if j < 2 and k < 2:\n",
    "                    derivatives[j,k] = (-theta_2/(1 - sigma_1))*np.exp(v_t[j]/(1- sigma_1))*np.exp(v_t[k]/(1- sigma_1))*( sigma_1*np.power(D1,sigma_1-1)*Z + (1- sigma_1)   )  / np.square((np.power(D1, sigma_1)*Z))\n",
    "                if j >= 2 and k >= 2:\n",
    "                    derivatives[j,k] = (-theta_2/(1 - sigma_2))*np.exp(v_t[j]/(1- sigma_2))*np.exp(v_t[k]/(1- sigma_2))*( sigma_1*np.power(D2,sigma_2-1)*Z + (1- sigma_2)   )  / np.square((np.power(D2, sigma_2)*Z))\n",
    "                if j < 2 and k >= 2:    \n",
    "                    derivatives[j,k] = (-theta_2/(1 - sigma_2))*np.exp(v_t[j]/(1- sigma_1))*np.exp(v_t[k]/(1- sigma_2))*(1-sigma_2)*np.power(D2, - sigma_2)*np.power(D1, sigma_1) / np.square((np.power(D1, sigma_1)*Z))\n",
    "                if j >= 2 and k < 2:    \n",
    "                    derivatives[j,k] = (-theta_2/(1 - sigma_1))*np.exp(v_t[j]/(1- sigma_2))*np.exp(v_t[k]/(1- sigma_1))*(1-sigma_1)*np.power(D1, - sigma_1)*np.power(D2, sigma_2) / np.square((np.power(D2, sigma_2)*Z))\n",
    "                    \n",
    "                    \n",
    "    estimated_shares = mkt_share_nested(t, p, pars)\n",
    "    return derivatives, -1*theta_2*estimated_shares*(1 - estimated_shares.sum())\n",
    "            \n",
    "def mkt_share_nested(t, p, pars):\n",
    "    \n",
    "    XX =  [x[:,t], [1,1,0,0], [0,0,1,1], p  ]\n",
    "        \n",
    "    v_t = pars[0:4] @XX\n",
    "    \n",
    "    sigma_1 = pars[4]\n",
    "    \n",
    "    sigma_2 = pars[5]\n",
    "    \n",
    "    theta_2 = pars[3]\n",
    "   \n",
    "\n",
    "    D1 = np.exp(v_t[0]/(1- sigma_1)) + np.exp(v_t[1]/(1- sigma_1)) \n",
    "    \n",
    "    D2 = np.exp(v_t[2]/(1- sigma_2)) + np.exp(v_t[3]/(1- sigma_2)) \n",
    "            \n",
    "    Z = 1 + np.power(D1, (1- sigma_1)) + np.power(D2, (1- sigma_2))\n",
    "    \n",
    "    \n",
    "    shares = np.zeros((J,1))\n",
    "    \n",
    "    for j in range(J):\n",
    "        if j < 2:\n",
    "            shares[j] = (np.exp(v_t[j]/(1-sigma_1))) /  (np.power(D1, sigma_1)*Z)\n",
    "        else:\n",
    "            shares[j] = (np.exp(v_t[j]/(1-sigma_2))) /  (np.power(D2, sigma_2)*Z)\n",
    "\n",
    "       \n",
    "    return shares\n",
    "    \n"
   ]
  },
  {
   "cell_type": "code",
   "execution_count": 26,
   "metadata": {},
   "outputs": [
    {
     "data": {
      "application/vnd.jupyter.widget-view+json": {
       "model_id": "afc53ae1f9fe4479b3b2578e22aea143",
       "version_major": 2,
       "version_minor": 0
      },
      "text/plain": [
       "HBox(children=(IntProgress(value=0, max=600), HTML(value='')))"
      ]
     },
     "metadata": {},
     "output_type": "display_data"
    },
    {
     "name": "stdout",
     "output_type": "stream",
     "text": [
      "\n"
     ]
    }
   ],
   "source": [
    "# Precompute the price elasticities and diversion \n",
    "nested_logit_price_elasticities = np.zeros((J,J,T))\n",
    "nested_logit_diversion_ratios = np.zeros((J,J,T))\n",
    "\n",
    "N = 100\n",
    "\n",
    "for t in trange(T):\n",
    "    derivative_matrix, outside_derivative = full_mkt_share_derivative_nested(t, eq_prices[:,t], iv_model.params)\n",
    "    nested_logit_price_elasticities[:,:,t] = eq_prices[:,t]*derivative_matrix / eq_shares[:,t].T\n",
    "    estimated_shares = mkt_share_nested(t, eq_prices[:,t], iv_model.params)\n",
    "    for j in range(J):\n",
    "        for k in range(J):\n",
    "            nested_logit_diversion_ratios[j,k,t] = -1*derivative_matrix[k,j]/derivative_matrix[j,j]\n",
    "        nested_logit_diversion_ratios[j,j,t] = -1*outside_derivative[j]/derivative_matrix[j,j]"
   ]
  },
  {
   "cell_type": "code",
   "execution_count": 27,
   "metadata": {},
   "outputs": [
    {
     "data": {
      "text/plain": [
       "(array([[-6.12190672,  1.99361387,  1.14721285,  1.16871821],\n",
       "        [ 1.94980523, -6.22209392,  1.23343822,  1.28434919],\n",
       "        [ 1.18472154,  1.16184628, -6.06022182,  2.04574024],\n",
       "        [ 1.15410091,  1.21673082,  1.99322672, -6.28818366]]),\n",
       " array([[-4.06535006,  1.38543391,  0.80172334,  0.7895892 ],\n",
       "        [ 1.27934133, -4.16553436,  0.71112989,  0.71512854],\n",
       "        [ 0.73928313,  0.74163481, -4.17726162,  1.3416553 ],\n",
       "        [ 0.72070405,  0.7189693 ,  1.30923805, -4.18978309]]))"
      ]
     },
     "execution_count": 27,
     "metadata": {},
     "output_type": "execute_result"
    }
   ],
   "source": [
    "nested_logit_price_elasticities.mean(axis=2), true_price_elasticities.mean(axis=2)"
   ]
  },
  {
   "cell_type": "code",
   "execution_count": 28,
   "metadata": {},
   "outputs": [
    {
     "data": {
      "text/plain": [
       "(array([[0.28479711, 0.33297753, 0.19134439, 0.19088096],\n",
       "        [0.32541291, 0.28728495, 0.19641401, 0.19088814],\n",
       "        [0.19547647, 0.20791738, 0.28870153, 0.32231153],\n",
       "        [0.19719596, 0.20488804, 0.32444768, 0.28792372]]),\n",
       " array([[0.33115087, 0.30335128, 0.18522023, 0.18027762],\n",
       "        [0.32317153, 0.32122579, 0.18063565, 0.17496703],\n",
       "        [0.19329289, 0.17575241, 0.32765373, 0.30330097],\n",
       "        [0.19192008, 0.17341037, 0.31037504, 0.32429451]]))"
      ]
     },
     "execution_count": 28,
     "metadata": {},
     "output_type": "execute_result"
    }
   ],
   "source": [
    "nested_logit_diversion_ratios.mean(axis=2), true_diversion_ratios.mean(axis=2)"
   ]
  },
  {
   "cell_type": "markdown",
   "metadata": {},
   "source": [
    "# Part 5"
   ]
  },
  {
   "cell_type": "markdown",
   "metadata": {},
   "source": [
    "## 5.a: Demand-side Estimation only"
   ]
  },
  {
   "cell_type": "code",
   "execution_count": 29,
   "metadata": {},
   "outputs": [
    {
     "name": "stdout",
     "output_type": "stream",
     "text": [
      "Initializing the problem ...\n",
      "Initialized the problem after 00:00:00.\n",
      "\n",
      "Dimensions:\n",
      "=======================================\n",
      " T    N     F     I     K1    K2    MD \n",
      "---  ----  ---  -----  ----  ----  ----\n",
      "600  2400   4   48600   4     2     3  \n",
      "=======================================\n",
      "\n",
      "Formulations:\n",
      "=================================================================\n",
      "       Column Indices:             0        1        2        3  \n",
      "-----------------------------  ---------  -----  ---------  -----\n",
      " X1: Linear Characteristics     prices      x    satellite  wired\n",
      "X2: Nonlinear Characteristics  satellite  wired                  \n",
      "=================================================================\n"
     ]
    }
   ],
   "source": [
    "# BLP, Demand-side estimation only\n",
    "\n",
    "demand_problem = pyblp.Problem(\n",
    "    [\n",
    "        pyblp.Formulation(\"0 + prices + x + satellite + wired\"),\n",
    "        pyblp.Formulation(\"0 + satellite + wired\")\n",
    "    ],\n",
    "    observed_data[[\n",
    "        \"market_ids\", \n",
    "        \"firm_ids\",\n",
    "        \"shares\", \n",
    "        \"prices\",\n",
    "        \"x\",\n",
    "        \"satellite\",\n",
    "        \"wired\"]],\n",
    "    integration=pyblp.Integration('product', size=9),\n",
    ")"
   ]
  },
  {
   "cell_type": "code",
   "execution_count": 30,
   "metadata": {},
   "outputs": [
    {
     "name": "stdout",
     "output_type": "stream",
     "text": [
      "Solving the problem ...\n",
      "\n",
      "Nonlinear Coefficient Initial Values:\n",
      "=======================================\n",
      " Sigma:      satellite        wired    \n",
      "---------  -------------  -------------\n",
      "satellite  +1.000000E+00               \n",
      "  wired    +0.000000E+00  +1.000000E+00\n",
      "=======================================\n",
      "\n",
      "Nonlinear Coefficient Lower Bounds:\n",
      "=======================================\n",
      " Sigma:      satellite        wired    \n",
      "---------  -------------  -------------\n",
      "satellite  +0.000000E+00               \n",
      "  wired    +0.000000E+00  +0.000000E+00\n",
      "=======================================\n",
      "\n",
      "Nonlinear Coefficient Upper Bounds:\n",
      "=======================================\n",
      " Sigma:      satellite        wired    \n",
      "---------  -------------  -------------\n",
      "satellite      +INF                    \n",
      "  wired    +0.000000E+00      +INF     \n",
      "=======================================\n",
      "\n",
      "Starting optimization ...\n",
      "\n",
      "GMM   Optimization   Objective   Fixed Point  Contraction  Clipped    Objective      Objective      Projected                                \n",
      "Step   Iterations   Evaluations  Iterations   Evaluations  Shares       Value       Improvement   Gradient Norm             Theta            \n",
      "----  ------------  -----------  -----------  -----------  -------  -------------  -------------  -------------  ----------------------------\n",
      " 1         0             1          4478         13776        0     +1.397861E-27                 +1.276800E-13  +1.000000E+00, +1.000000E+00\n",
      "\n",
      "Optimization completed after 00:00:02.\n",
      "Computing the Hessian and and updating the weighting matrix ...\n",
      "Computed results after 00:00:09.\n",
      "\n",
      "Problem Results Summary:\n",
      "===============================================================================================\n",
      "GMM     Objective      Projected    Reduced Hessian  Reduced Hessian  Clipped  Weighting Matrix\n",
      "Step      Value      Gradient Norm  Min Eigenvalue   Max Eigenvalue   Shares   Condition Number\n",
      "----  -------------  -------------  ---------------  ---------------  -------  ----------------\n",
      " 1    +1.397861E-27  +1.276800E-13   +1.507973E-06    +7.409371E-06      0      +1.043996E+01  \n",
      "===============================================================================================\n",
      "\n",
      "Starting optimization ...\n",
      "\n",
      "GMM   Optimization   Objective   Fixed Point  Contraction  Clipped    Objective      Objective      Projected                                \n",
      "Step   Iterations   Evaluations  Iterations   Evaluations  Shares       Value       Improvement   Gradient Norm             Theta            \n",
      "----  ------------  -----------  -----------  -----------  -------  -------------  -------------  -------------  ----------------------------\n",
      " 2         0             1            0           600         0     +1.073274E-27                 +3.029540E-13  +1.000000E+00, +1.000000E+00\n",
      "\n",
      "Optimization completed after 00:00:01.\n",
      "Computing the Hessian and estimating standard errors ...\n",
      "Computed results after 00:00:06.\n",
      "\n",
      "Problem Results Summary:\n",
      "==================================================================================================================\n",
      "GMM     Objective      Projected    Reduced Hessian  Reduced Hessian  Clipped  Weighting Matrix  Covariance Matrix\n",
      "Step      Value      Gradient Norm  Min Eigenvalue   Max Eigenvalue   Shares   Condition Number  Condition Number \n",
      "----  -------------  -------------  ---------------  ---------------  -------  ----------------  -----------------\n",
      " 2    +1.073274E-27  +3.029540E-13   -2.208656E-05    +8.266331E-06      0      +9.227456E+00      +4.366231E+17  \n",
      "==================================================================================================================\n",
      "\n",
      "Cumulative Statistics:\n",
      "===========================================================================\n",
      "Computation  Optimizer  Optimization   Objective   Fixed Point  Contraction\n",
      "   Time      Converged   Iterations   Evaluations  Iterations   Evaluations\n",
      "-----------  ---------  ------------  -----------  -----------  -----------\n",
      " 00:00:19       Yes          0             4          4478         14376   \n",
      "===========================================================================\n",
      "\n",
      "Nonlinear Coefficient Estimates (Robust SEs in Parentheses):\n",
      "===========================================\n",
      " Sigma:       satellite          wired     \n",
      "---------  ---------------  ---------------\n",
      "satellite   +1.000000E+00                  \n",
      "           (+4.410576E-03)                 \n",
      "                                           \n",
      "  wired     +0.000000E+00    +1.000000E+00 \n",
      "                            (+4.532765E-03)\n",
      "===========================================\n",
      "\n",
      "Beta Estimates (Robust SEs in Parentheses):\n",
      "==================================================================\n",
      "    prices              x            satellite          wired     \n",
      "---------------  ---------------  ---------------  ---------------\n",
      " -4.507325E-01    +8.461436E-01    -8.777418E-02    -1.191342E-01 \n",
      "(+1.126041E-02)  (+3.082421E-02)  (+1.866351E-02)  (+1.861941E-02)\n",
      "==================================================================\n",
      "Computing optimal instruments for theta ...\n",
      "Computed optimal instruments after 00:00:01.\n",
      "\n",
      "Optimal Instrument Results Summary:\n",
      "=======================\n",
      "Computation  Error Term\n",
      "   Time        Draws   \n",
      "-----------  ----------\n",
      " 00:00:01        1     \n",
      "=======================\n",
      "Re-creating the problem ...\n",
      "Re-created the problem after 00:00:00.\n",
      "\n",
      "Dimensions:\n",
      "=======================================\n",
      " T    N     F     I     K1    K2    MD \n",
      "---  ----  ---  -----  ----  ----  ----\n",
      "600  2400   4   48600   4     2     6  \n",
      "=======================================\n",
      "\n",
      "Formulations:\n",
      "=================================================================\n",
      "       Column Indices:             0        1        2        3  \n",
      "-----------------------------  ---------  -----  ---------  -----\n",
      " X1: Linear Characteristics     prices      x    satellite  wired\n",
      "X2: Nonlinear Characteristics  satellite  wired                  \n",
      "=================================================================\n"
     ]
    }
   ],
   "source": [
    "# we will assume that the random coefficients on satellite and wired are uncorrellated\n",
    "\n",
    "# this step is going to spit out a lot of text, most of which is not meaningful yet. \n",
    "# the first iteration of .solve is only to compute the optimal instruments, and hence these first-step estimates are not very good\n",
    "\n",
    "demand_problem_w_instruments = demand_problem.solve(sigma=np.identity(2)).compute_optimal_instruments().to_problem()\n"
   ]
  },
  {
   "cell_type": "code",
   "execution_count": 31,
   "metadata": {},
   "outputs": [
    {
     "name": "stdout",
     "output_type": "stream",
     "text": [
      "Solving the problem ...\n",
      "\n",
      "Nonlinear Coefficient Initial Values:\n",
      "=======================================\n",
      " Sigma:      satellite        wired    \n",
      "---------  -------------  -------------\n",
      "satellite  +1.000000E+00               \n",
      "  wired    +0.000000E+00  +1.000000E+00\n",
      "=======================================\n",
      "\n",
      "Nonlinear Coefficient Lower Bounds:\n",
      "=======================================\n",
      " Sigma:      satellite        wired    \n",
      "---------  -------------  -------------\n",
      "satellite  +0.000000E+00               \n",
      "  wired    +0.000000E+00  +0.000000E+00\n",
      "=======================================\n",
      "\n",
      "Nonlinear Coefficient Upper Bounds:\n",
      "=======================================\n",
      " Sigma:      satellite        wired    \n",
      "---------  -------------  -------------\n",
      "satellite      +INF                    \n",
      "  wired    +0.000000E+00      +INF     \n",
      "=======================================\n",
      "\n",
      "Starting optimization ...\n",
      "\n",
      "GMM   Optimization   Objective   Fixed Point  Contraction  Clipped    Objective      Objective      Projected                                \n",
      "Step   Iterations   Evaluations  Iterations   Evaluations  Shares       Value       Improvement   Gradient Norm             Theta            \n",
      "----  ------------  -----------  -----------  -----------  -------  -------------  -------------  -------------  ----------------------------\n",
      " 1         0             1          4478         13776        0     -3.405574E+16                 +7.477739E+09  +1.000000E+00, +1.000000E+00\n",
      " 1         0             2          3138         9873         0     -1.614926E+16                 +4.646293E+09  +2.928932E-01, +2.928932E-01\n",
      " 1         0             3          4479         13774        0     -3.112526E+16                 +7.170115E+09  +9.999999E-01, +9.999999E-01\n",
      " 1         0             4          4478         13776        0     -3.405574E+16                 +7.477739E+09  +1.000000E+00, +1.000000E+00\n",
      " 1         0             5          4479         13770        0     -3.719706E+16  +3.141318E+15  +9.203889E+09  +1.000000E+00, +1.000000E+00\n",
      " 1         0             6          4478         13763        0     -1.673163E+16                 +1.565455E+10  +1.000000E+00, +1.000000E+00\n",
      " 1         0             7          4479         13770        0     -3.719706E+16                 +9.203889E+09  +1.000000E+00, +1.000000E+00\n",
      " 1         0             8          4478         13767        0     -5.568769E+16  +1.849063E+16  +1.328610E+10  +1.000000E+00, +1.000000E+00\n",
      " 1         0             9          4480         13771        0     -9.254591E+16  +3.685823E+16  +9.203889E+09  +1.000000E+00, +1.000000E+00\n",
      " 1         1            10            0           600         0     -4.918336E+16                 +5.388201E-08  +0.000000E+00, +0.000000E+00\n",
      " 1         1            11          4476         13755        0     -1.505351E+15                 +5.980943E+09  +9.999999E-01, +9.999999E-01\n",
      " 1         1            12          4480         13771        0     -9.254591E+16                 +9.203889E+09  +1.000000E+00, +1.000000E+00\n",
      " 1         1            13          4478         13767        0     -5.418730E+16                 +1.634694E+10  +9.999999E-01, +9.999999E-01\n",
      " 1         1            14          4480         13771        0     -9.254591E+16                 +9.203889E+09  +1.000000E+00, +1.000000E+00\n",
      " 1         1            15          4476         13757        0     -4.300528E+16                 +8.869213E+09  +9.999999E-01, +9.999999E-01\n",
      " 1         1            16          4480         13771        0     -9.254591E+16                 +9.203889E+09  +1.000000E+00, +1.000000E+00\n",
      " 1         1            17          4478         13749        0     -3.726734E+16                 +8.877591E+09  +1.000000E+00, +1.000000E+00\n",
      " 1         1            18          4480         13771        0     -9.254591E+16                 +9.203889E+09  +1.000000E+00, +1.000000E+00\n",
      " 1         1            19          4476         13769        0     -7.372143E+16                 +7.178493E+09  +1.000000E+00, +1.000000E+00\n",
      " 1         1            20          4480         13771        0     -9.254591E+16                 +9.203889E+09  +1.000000E+00, +1.000000E+00\n",
      " 1         1            21          4476         13761        0     -7.524827E+13                 +1.584179E+10  +1.000000E+00, +1.000000E+00\n",
      " 1         1            22          4480         13771        0     -9.254591E+16                 +9.203889E+09  +1.000000E+00, +1.000000E+00\n",
      " 1         1            23          4478         13759        0     -2.936130E+16                 +9.203889E+09  +1.000000E+00, +1.000000E+00\n",
      " 1         1            24          4480         13771        0     -9.254591E+16                 +9.203889E+09  +1.000000E+00, +1.000000E+00\n",
      "\n",
      "Optimization completed after 00:00:46.\n",
      "Computing the Hessian and and updating the weighting matrix ...\n",
      "Computed results after 00:00:10.\n",
      "\n",
      "Problem Results Summary:\n",
      "===============================================================================================\n",
      "GMM     Objective      Projected    Reduced Hessian  Reduced Hessian  Clipped  Weighting Matrix\n",
      "Step      Value      Gradient Norm  Min Eigenvalue   Max Eigenvalue   Shares   Condition Number\n",
      "----  -------------  -------------  ---------------  ---------------  -------  ----------------\n",
      " 1    -9.254591E+16  +9.203889E+09   +2.815004E+16    +4.333131E+17      0      +8.124302E+16  \n",
      "===============================================================================================\n",
      "\n",
      "Starting optimization ...\n",
      "\n",
      "GMM   Optimization   Objective   Fixed Point  Contraction  Clipped    Objective      Objective      Projected                                \n",
      "Step   Iterations   Evaluations  Iterations   Evaluations  Shares       Value       Improvement   Gradient Norm             Theta            \n",
      "----  ------------  -----------  -----------  -----------  -------  -------------  -------------  -------------  ----------------------------\n",
      " 2         0             1            0           600         0     +5.587583E-13                 +2.529328E-12  +1.000000E+00, +1.000000E+00\n",
      "\n",
      "Optimization completed after 00:00:01.\n",
      "Computing the Hessian and estimating standard errors ...\n",
      "Computed results after 00:00:07.\n",
      "\n",
      "Problem Results Summary:\n",
      "==================================================================================================================\n",
      "GMM     Objective      Projected    Reduced Hessian  Reduced Hessian  Clipped  Weighting Matrix  Covariance Matrix\n",
      "Step      Value      Gradient Norm  Min Eigenvalue   Max Eigenvalue   Shares   Condition Number  Condition Number \n",
      "----  -------------  -------------  ---------------  ---------------  -------  ----------------  -----------------\n",
      " 2    +5.587583E-13  +2.529328E-12   -2.221919E-13    +1.115538E-11      0      +2.152606E+17      +1.901645E+18  \n",
      "==================================================================================================================\n",
      "\n",
      "Cumulative Statistics:\n",
      "===========================================================================\n",
      "Computation  Optimizer  Optimization   Objective   Fixed Point  Contraction\n",
      "   Time      Converged   Iterations   Evaluations  Iterations   Evaluations\n",
      "-----------  ---------  ------------  -----------  -----------  -----------\n",
      " 00:01:04       Yes          2            27         101665       313954   \n",
      "===========================================================================\n",
      "\n",
      "Nonlinear Coefficient Estimates (Robust SEs in Parentheses):\n",
      "===========================================\n",
      " Sigma:       satellite          wired     \n",
      "---------  ---------------  ---------------\n",
      "satellite   +1.000000E+00                  \n",
      "           (+3.071605E-01)                 \n",
      "                                           \n",
      "  wired     +0.000000E+00    +1.000000E+00 \n",
      "                            (+3.172754E-01)\n",
      "===========================================\n",
      "\n",
      "Beta Estimates (Robust SEs in Parentheses):\n",
      "==================================================================\n",
      "    prices              x            satellite          wired     \n",
      "---------------  ---------------  ---------------  ---------------\n",
      " -1.852408E+00    +9.872258E-01    +3.615042E+00    +3.622520E+00 \n",
      "(+1.867589E-02)  (+4.741592E-02)  (+4.524844E-02)  (+4.691815E-02)\n",
      "==================================================================\n"
     ]
    }
   ],
   "source": [
    "# now we resolve the problem given the optimal instruments\n",
    "demand_problem_results = demand_problem_w_instruments.solve(sigma=np.identity(2),optimization=pyblp.Optimization('l-bfgs-b', {'maxls': 30}))"
   ]
  },
  {
   "cell_type": "markdown",
   "metadata": {},
   "source": [
    "These estimates are not bad."
   ]
  },
  {
   "cell_type": "markdown",
   "metadata": {},
   "source": [
    "## 5.a: Demand and Supply Estimation"
   ]
  },
  {
   "cell_type": "code",
   "execution_count": 32,
   "metadata": {
    "scrolled": true
   },
   "outputs": [
    {
     "name": "stdout",
     "output_type": "stream",
     "text": [
      "Initializing the problem ...\n",
      "Initialized the problem after 00:00:00.\n",
      "\n",
      "Dimensions:\n",
      "===================================================\n",
      " T    N     F     I     K1    K2    K3    MD    MS \n",
      "---  ----  ---  -----  ----  ----  ----  ----  ----\n",
      "600  2400   4   48600   4     2     2     3     2  \n",
      "===================================================\n",
      "\n",
      "Formulations:\n",
      "=================================================================\n",
      "       Column Indices:             0        1        2        3  \n",
      "-----------------------------  ---------  -----  ---------  -----\n",
      " X1: Linear Characteristics     prices      x    satellite  wired\n",
      "X2: Nonlinear Characteristics  satellite  wired                  \n",
      "X3: Log Cost Characteristics       1        w                    \n",
      "=================================================================\n"
     ]
    }
   ],
   "source": [
    "full_problem = pyblp.Problem(\n",
    "    [\n",
    "        pyblp.Formulation(\"0 + prices + x + satellite + wired\"),\n",
    "        pyblp.Formulation(\"0 + satellite + wired\"),\n",
    "        pyblp.Formulation(\"1 + w\")\n",
    "    ],\n",
    "    product_data = observed_data,\n",
    "    integration=pyblp.Integration('product', size=9),\n",
    "    costs_type=\"log\"\n",
    ")"
   ]
  },
  {
   "cell_type": "code",
   "execution_count": 33,
   "metadata": {},
   "outputs": [
    {
     "name": "stdout",
     "output_type": "stream",
     "text": [
      "Solving the problem ...\n",
      "\n",
      "Nonlinear Coefficient Initial Values:\n",
      "=======================================\n",
      " Sigma:      satellite        wired    \n",
      "---------  -------------  -------------\n",
      "satellite  +1.000000E+00               \n",
      "  wired    +0.000000E+00  +1.000000E+00\n",
      "=======================================\n",
      "\n",
      "Beta Initial Values:\n",
      "==========================================================\n",
      "   prices            x          satellite        wired    \n",
      "-------------  -------------  -------------  -------------\n",
      "-1.000000E+00       NAN            NAN            NAN     \n",
      "==========================================================\n",
      "\n",
      "Nonlinear Coefficient Lower Bounds:\n",
      "=======================================\n",
      " Sigma:      satellite        wired    \n",
      "---------  -------------  -------------\n",
      "satellite  +0.000000E+00               \n",
      "  wired    +0.000000E+00  +0.000000E+00\n",
      "=======================================\n",
      "\n",
      "Beta Lower Bounds:\n",
      "==========================================================\n",
      "   prices            x          satellite        wired    \n",
      "-------------  -------------  -------------  -------------\n",
      "    -INF           -INF           -INF           -INF     \n",
      "==========================================================\n",
      "\n",
      "Nonlinear Coefficient Upper Bounds:\n",
      "=======================================\n",
      " Sigma:      satellite        wired    \n",
      "---------  -------------  -------------\n",
      "satellite      +INF                    \n",
      "  wired    +0.000000E+00      +INF     \n",
      "=======================================\n",
      "\n",
      "Beta Upper Bounds:\n",
      "==========================================================\n",
      "   prices            x          satellite        wired    \n",
      "-------------  -------------  -------------  -------------\n",
      "    +INF           +INF           +INF           +INF     \n",
      "==========================================================\n",
      "\n",
      "Starting optimization ...\n",
      "\n",
      "GMM   Optimization   Objective   Fixed Point  Contraction  Clipped    Objective      Objective      Projected                                               \n",
      "Step   Iterations   Evaluations  Iterations   Evaluations  Shares       Value       Improvement   Gradient Norm                     Theta                   \n",
      "----  ------------  -----------  -----------  -----------  -------  -------------  -------------  -------------  -------------------------------------------\n",
      " 1         0             1          4478         13776        0     +1.420645E-26                 +2.916005E-11  +1.000000E+00, +1.000000E+00, -1.000000E+00\n",
      "\n",
      "Optimization completed after 00:00:03.\n",
      "Computing the Hessian and and updating the weighting matrix ...\n",
      "Computed results after 00:00:24.\n",
      "\n",
      "Problem Results Summary:\n",
      "===============================================================================================\n",
      "GMM     Objective      Projected    Reduced Hessian  Reduced Hessian  Clipped  Weighting Matrix\n",
      "Step      Value      Gradient Norm  Min Eigenvalue   Max Eigenvalue   Shares   Condition Number\n",
      "----  -------------  -------------  ---------------  ---------------  -------  ----------------\n",
      " 1    +1.420645E-26  +2.916005E-11   -5.950660E-04    +7.196896E-04      0      +1.338489E+01  \n",
      "===============================================================================================\n",
      "\n",
      "Starting optimization ...\n",
      "\n",
      "GMM   Optimization   Objective   Fixed Point  Contraction  Clipped    Objective      Objective      Projected                                               \n",
      "Step   Iterations   Evaluations  Iterations   Evaluations  Shares       Value       Improvement   Gradient Norm                     Theta                   \n",
      "----  ------------  -----------  -----------  -----------  -------  -------------  -------------  -------------  -------------------------------------------\n",
      " 2         0             1            0           600         0     +1.213500E-25                 +1.303812E-11  +1.000000E+00, +1.000000E+00, -1.000000E+00\n",
      "\n",
      "Optimization completed after 00:00:02.\n",
      "Computing the Hessian and estimating standard errors ...\n",
      "Computed results after 00:00:18.\n",
      "\n",
      "Problem Results Summary:\n",
      "==================================================================================================================\n",
      "GMM     Objective      Projected    Reduced Hessian  Reduced Hessian  Clipped  Weighting Matrix  Covariance Matrix\n",
      "Step      Value      Gradient Norm  Min Eigenvalue   Max Eigenvalue   Shares   Condition Number  Condition Number \n",
      "----  -------------  -------------  ---------------  ---------------  -------  ----------------  -----------------\n",
      " 2    +1.213500E-25  +1.303812E-11   -6.052454E-03    +5.830682E-04      0      +7.176547E+01      +1.366273E+18  \n",
      "==================================================================================================================\n",
      "\n",
      "Cumulative Statistics:\n",
      "===========================================================================\n",
      "Computation  Optimizer  Optimization   Objective   Fixed Point  Contraction\n",
      "   Time      Converged   Iterations   Evaluations  Iterations   Evaluations\n",
      "-----------  ---------  ------------  -----------  -----------  -----------\n",
      " 00:00:48       Yes          0             4          4478         14376   \n",
      "===========================================================================\n",
      "\n",
      "Nonlinear Coefficient Estimates (Robust SEs in Parentheses):\n",
      "===========================================\n",
      " Sigma:       satellite          wired     \n",
      "---------  ---------------  ---------------\n",
      "satellite   +1.000000E+00                  \n",
      "           (+4.250962E-03)                 \n",
      "                                           \n",
      "  wired     +0.000000E+00    +1.000000E+00 \n",
      "                            (+4.192555E-03)\n",
      "===========================================\n",
      "\n",
      "Beta Estimates (Robust SEs in Parentheses):\n",
      "==================================================================\n",
      "    prices              x            satellite          wired     \n",
      "---------------  ---------------  ---------------  ---------------\n",
      " -1.000000E+00    +9.090737E-01    +1.357618E+00    +1.341006E+00 \n",
      "(+8.317201E-03)  (+3.059498E-02)  (+2.117336E-02)  (+2.108796E-02)\n",
      "==================================================================\n",
      "\n",
      "Gamma Estimates (Robust SEs in Parentheses):\n",
      "================================\n",
      "       1                w       \n",
      "---------------  ---------------\n",
      " -1.406974E-01    +4.680814E-01 \n",
      "(+1.955098E-02)  (+1.085774E-02)\n",
      "================================\n",
      "Computing optimal instruments for theta ...\n",
      "Computed optimal instruments after 00:00:04.\n",
      "\n",
      "Optimal Instrument Results Summary:\n",
      "=================================================\n",
      "Computation  Error Term  Fixed Point  Contraction\n",
      "   Time        Draws     Iterations   Evaluations\n",
      "-----------  ----------  -----------  -----------\n",
      " 00:00:04        1          9494         9494    \n",
      "=================================================\n",
      "Re-creating the problem ...\n",
      "Re-created the problem after 00:00:00.\n",
      "\n",
      "Dimensions:\n",
      "===================================================\n",
      " T    N     F     I     K1    K2    K3    MD    MS \n",
      "---  ----  ---  -----  ----  ----  ----  ----  ----\n",
      "600  2400   4   48600   4     2     2     7     8  \n",
      "===================================================\n",
      "\n",
      "Formulations:\n",
      "=================================================================\n",
      "       Column Indices:             0        1        2        3  \n",
      "-----------------------------  ---------  -----  ---------  -----\n",
      " X1: Linear Characteristics     prices      x    satellite  wired\n",
      "X2: Nonlinear Characteristics  satellite  wired                  \n",
      "X3: Log Cost Characteristics       1        w                    \n",
      "=================================================================\n"
     ]
    }
   ],
   "source": [
    "# once again, we construct optimal instruments\n",
    "full_problem_w_instruments = full_problem.solve(sigma=np.identity(2),beta=[-1,None,None,None]).compute_optimal_instruments().to_problem()"
   ]
  },
  {
   "cell_type": "code",
   "execution_count": 34,
   "metadata": {},
   "outputs": [
    {
     "name": "stdout",
     "output_type": "stream",
     "text": [
      "Solving the problem ...\n",
      "\n",
      "Nonlinear Coefficient Initial Values:\n",
      "=======================================\n",
      " Sigma:      satellite        wired    \n",
      "---------  -------------  -------------\n",
      "satellite  +9.000000E-01               \n",
      "  wired    +0.000000E+00  +9.000000E-01\n",
      "=======================================\n",
      "\n",
      "Beta Initial Values:\n",
      "==========================================================\n",
      "   prices            x          satellite        wired    \n",
      "-------------  -------------  -------------  -------------\n",
      "-1.000000E+00       NAN            NAN            NAN     \n",
      "==========================================================\n",
      "\n",
      "Nonlinear Coefficient Lower Bounds:\n",
      "=======================================\n",
      " Sigma:      satellite        wired    \n",
      "---------  -------------  -------------\n",
      "satellite  +0.000000E+00               \n",
      "  wired    +0.000000E+00  +0.000000E+00\n",
      "=======================================\n",
      "\n",
      "Beta Lower Bounds:\n",
      "==========================================================\n",
      "   prices            x          satellite        wired    \n",
      "-------------  -------------  -------------  -------------\n",
      "    -INF           -INF           -INF           -INF     \n",
      "==========================================================\n",
      "\n",
      "Nonlinear Coefficient Upper Bounds:\n",
      "=======================================\n",
      " Sigma:      satellite        wired    \n",
      "---------  -------------  -------------\n",
      "satellite      +INF                    \n",
      "  wired    +0.000000E+00      +INF     \n",
      "=======================================\n",
      "\n",
      "Beta Upper Bounds:\n",
      "==========================================================\n",
      "   prices            x          satellite        wired    \n",
      "-------------  -------------  -------------  -------------\n",
      "    +INF           +INF           +INF           +INF     \n",
      "==========================================================\n",
      "\n",
      "Starting optimization ...\n",
      "\n",
      "GMM   Optimization   Objective   Fixed Point  Contraction  Clipped    Objective      Objective      Projected                                               \n",
      "Step   Iterations   Evaluations  Iterations   Evaluations  Shares       Value       Improvement   Gradient Norm                     Theta                   \n",
      "----  ------------  -----------  -----------  -----------  -------  -------------  -------------  -------------  -------------------------------------------\n",
      " 1         0             1          4336         13321        0     -2.855162E+02                 +9.659102E+02  +9.000000E-01, +9.000000E-01, -1.000000E+00\n",
      " 1         0             2          4336         13295        0     -4.184583E+03  +3.899067E+03  +1.464040E+03  +8.888484E-01, +8.888484E-01, -1.999876E+00\n",
      " 1         0             3          4274         13119        0     +2.238252E+03                 +9.920075E+02  +8.442422E-01, +8.442422E-01, -5.999378E+00\n",
      " 1         0             4          4329         13295        0     +1.038995E+04                 +1.309991E+03  +8.834613E-01, +8.834613E-01, -2.482895E+00\n",
      " 1         0             5          4337         13292        0     -8.407922E+02                 +3.796392E+02  +8.888062E-01, +8.888062E-01, -2.003663E+00\n",
      " 1         0             6          4336         13295        0     -4.184583E+03                 +1.464040E+03  +8.888484E-01, +8.888484E-01, -1.999876E+00\n",
      " 1         1             7            0           600         0     +4.393448E+08                 +6.001273E+05  +0.000000E+00, +0.000000E+00, -1.466040E+03\n",
      " 1         1             8          4329         13284        0     +1.010082E+04                 +1.417132E+03  +8.867007E-01, +8.867007E-01, -5.537365E+00\n",
      " 1         1             9          4333         13295        0     -4.623683E+03  +4.390999E+02  +1.030407E+03  +8.887269E-01, +8.887269E-01, -2.200115E+00\n",
      " 1         2            10          4442         13663        0     -7.730336E+02                 +1.507782E+03  +8.786028E-01, +1.025720E+00, -2.753598E+00\n",
      " 1         2            11          4341         13317        0     +6.407188E+03                 +2.506296E+03  +8.885155E-01, +8.915872E-01, -2.211671E+00\n",
      " 1         2            12          4335         13305        0     -1.187810E+04  +7.254420E+03  +3.797859E+02  +8.887268E-01, +8.887274E-01, -2.200117E+00\n",
      " 1         3            13          4353         13380        0     -4.620186E+03                 +1.877459E+03  +8.881199E-01, +8.972040E-01, -2.203337E+00\n",
      " 1         3            14          4334         13303        0     -4.355088E+03                 +2.911085E+03  +8.887268E-01, +8.887278E-01, -2.200117E+00\n",
      " 1         3            15          4336         13303        0     -4.623684E+03                 +1.970713E+03  +8.887268E-01, +8.887274E-01, -2.200117E+00\n",
      " 1         3            16          4335         13305        0     -1.187810E+04                 +3.797859E+02  +8.887268E-01, +8.887274E-01, -2.200117E+00\n",
      "\n",
      "Optimization completed after 00:00:52.\n",
      "Computing the Hessian and and updating the weighting matrix ...\n",
      "Computed results after 00:00:22.\n",
      "\n",
      "Problem Results Summary:\n",
      "===============================================================================================\n",
      "GMM     Objective      Projected    Reduced Hessian  Reduced Hessian  Clipped  Weighting Matrix\n",
      "Step      Value      Gradient Norm  Min Eigenvalue   Max Eigenvalue   Shares   Condition Number\n",
      "----  -------------  -------------  ---------------  ---------------  -------  ----------------\n",
      " 1    -1.187810E+04  +3.797859E+02   -2.719718E+10    +6.320185E+10      0      +5.553615E+18  \n",
      "===============================================================================================\n",
      "\n",
      "Starting optimization ...\n",
      "\n",
      "GMM   Optimization   Objective   Fixed Point  Contraction  Clipped    Objective      Objective      Projected                                               \n",
      "Step   Iterations   Evaluations  Iterations   Evaluations  Shares       Value       Improvement   Gradient Norm                     Theta                   \n",
      "----  ------------  -----------  -----------  -----------  -------  -------------  -------------  -------------  -------------------------------------------\n",
      " 2         0             1            0           600         0     +1.431873E+01                 +8.875149E+01  +8.887268E-01, +8.887274E-01, -2.200117E+00\n",
      " 2         0             2          4353         13332        0     +1.171137E+02                 +3.017598E+02  +1.046625E+00, +1.056654E+00, -1.227045E+00\n",
      " 2         0             3          4043         12373        0     +3.504647E+00  +1.081408E+01  +5.494750E+00  +9.263405E-01, +9.287298E-01, -1.968317E+00\n",
      " 2         1             4          4073         12481        0     +3.367158E+00  +1.374895E-01  +5.270739E+00  +9.381365E-01, +9.431001E-01, -1.972367E+00\n",
      " 2         1             5          4196         12890        0     +2.884910E+00  +4.822481E-01  +4.273512E+00  +9.853204E-01, +1.000581E+00, -1.988567E+00\n",
      " 2         2             6          4645         14209        0     +2.171413E+00  +7.134969E-01  +1.836328E+00  +1.207614E+00, +1.230418E+00, -2.037731E+00\n",
      " 2         3             7          4546         13907        0     +2.115084E+00  +5.632834E-02  +4.114676E-01  +1.166972E+00, +1.170077E+00, -2.030503E+00\n",
      " 2         4             8          4599         14044        0     +2.113129E+00  +1.955256E-03  +3.568824E-02  +1.169502E+00, +1.179589E+00, -2.031245E+00\n",
      " 2         5             9          4605         14059        0     +2.113105E+00  +2.412179E-05  +7.455956E-03  +1.168982E+00, +1.180300E+00, -2.031264E+00\n",
      " 2         6            10          4601         14058        0     +2.113104E+00  +6.821551E-07  +1.822522E-04  +1.168790E+00, +1.180292E+00, -2.031252E+00\n",
      " 2         7            11          4605         14056        0     +2.113104E+00  +4.416867E-11  +6.161568E-06  +1.168790E+00, +1.180292E+00, -2.031252E+00\n",
      " 2         8            12          4602         14057        0     +2.113104E+00  +1.625367E-13  +1.954205E-08  +1.168790E+00, +1.180292E+00, -2.031252E+00\n",
      " 2         9            13          4602         14056        0     +2.113104E+00  +5.240253E-14  +2.852862E-09  +1.168790E+00, +1.180292E+00, -2.031252E+00\n",
      "\n",
      "Optimization completed after 00:00:44.\n",
      "Computing the Hessian and estimating standard errors ...\n",
      "Computed results after 00:00:23.\n",
      "\n",
      "Problem Results Summary:\n",
      "==================================================================================================================\n",
      "GMM     Objective      Projected    Reduced Hessian  Reduced Hessian  Clipped  Weighting Matrix  Covariance Matrix\n",
      "Step      Value      Gradient Norm  Min Eigenvalue   Max Eigenvalue   Shares   Condition Number  Condition Number \n",
      "----  -------------  -------------  ---------------  ---------------  -------  ----------------  -----------------\n",
      " 2    +2.113104E+00  +2.852862E-09   +2.453329E+01    +3.924354E+02      0      +2.591693E+17      +2.872436E+04  \n",
      "==================================================================================================================\n",
      "\n",
      "Cumulative Statistics:\n",
      "===========================================================================\n",
      "Computation  Optimizer  Optimization   Objective   Fixed Point  Contraction\n",
      "   Time      Converged   Iterations   Evaluations  Iterations   Evaluations\n",
      "-----------  ---------  ------------  -----------  -----------  -----------\n",
      " 00:02:21       Yes          14           31         118556       364494   \n",
      "===========================================================================\n",
      "\n",
      "Nonlinear Coefficient Estimates (Robust SEs in Parentheses):\n",
      "===========================================\n",
      " Sigma:       satellite          wired     \n",
      "---------  ---------------  ---------------\n",
      "satellite   +1.168790E+00                  \n",
      "           (+2.422035E-01)                 \n",
      "                                           \n",
      "  wired     +0.000000E+00    +1.180292E+00 \n",
      "                            (+2.322707E-01)\n",
      "===========================================\n",
      "\n",
      "Beta Estimates (Robust SEs in Parentheses):\n",
      "==================================================================\n",
      "    prices              x            satellite          wired     \n",
      "---------------  ---------------  ---------------  ---------------\n",
      " -2.031252E+00    +1.051940E+00    +4.030990E+00    +4.036894E+00 \n",
      "(+8.741266E-02)  (+4.717634E-02)  (+2.140120E-01)  (+2.153075E-01)\n",
      "==================================================================\n",
      "\n",
      "Gamma Estimates (Robust SEs in Parentheses):\n",
      "================================\n",
      "       1                w       \n",
      "---------------  ---------------\n",
      " +4.862138E-01    +2.634093E-01 \n",
      "(+1.981867E-02)  (+1.109183E-02)\n",
      "================================\n"
     ]
    }
   ],
   "source": [
    "# and here are the estimation results\n",
    "full_problem_results = full_problem_w_instruments.solve(sigma=0.9*np.identity(2),beta=[-1,None,None,None], check_optimality=\"both\")"
   ]
  },
  {
   "cell_type": "markdown",
   "metadata": {},
   "source": [
    "These estimates are even better than the previous section. We'll use these in the coming sections."
   ]
  },
  {
   "cell_type": "markdown",
   "metadata": {},
   "source": [
    "## 5.b Own-price Elasticities, Diversion Ratios"
   ]
  },
  {
   "cell_type": "code",
   "execution_count": 35,
   "metadata": {},
   "outputs": [
    {
     "name": "stdout",
     "output_type": "stream",
     "text": [
      "Computing elasticities with respect to prices ...\n",
      "Finished after 00:00:01.\n",
      "\n"
     ]
    }
   ],
   "source": [
    "estimated_price_elasticities = full_problem_results.compute_elasticities()"
   ]
  },
  {
   "cell_type": "code",
   "execution_count": 36,
   "metadata": {},
   "outputs": [
    {
     "name": "stdout",
     "output_type": "stream",
     "text": [
      "Computing diversion ratios with respect to prices ...\n",
      "Finished after 00:00:01.\n",
      "\n"
     ]
    }
   ],
   "source": [
    "estimated_diversion_ratios = full_problem_results.compute_diversion_ratios()"
   ]
  },
  {
   "cell_type": "code",
   "execution_count": 37,
   "metadata": {},
   "outputs": [],
   "source": [
    "estimated_own_price_elasticities = estimated_price_elasticities.reshape(T,J,J).mean(axis=0)"
   ]
  },
  {
   "cell_type": "code",
   "execution_count": 38,
   "metadata": {},
   "outputs": [
    {
     "data": {
      "text/plain": [
       "(array([[-4.06535006,  1.38543391,  0.80172334,  0.7895892 ],\n",
       "        [ 1.27934133, -4.16553436,  0.71112989,  0.71512854],\n",
       "        [ 0.73928313,  0.74163481, -4.17726162,  1.3416553 ],\n",
       "        [ 0.72070405,  0.7189693 ,  1.30923805, -4.18978309]]),\n",
       " array([[-4.05026563,  1.36210624,  0.70040876,  0.66790244],\n",
       "        [ 1.50046032, -4.1558555 ,  0.70040876,  0.66790244],\n",
       "        [ 0.7378061 ,  0.65818679, -4.16101852,  1.38817984],\n",
       "        [ 0.7378061 ,  0.65818679,  1.4468293 , -4.17569613]]))"
      ]
     },
     "execution_count": 38,
     "metadata": {},
     "output_type": "execute_result"
    }
   ],
   "source": [
    "true_price_elasticities.mean(axis=2), estimated_own_price_elasticities"
   ]
  },
  {
   "cell_type": "markdown",
   "metadata": {},
   "source": [
    "The estimates are pretty close to the true values"
   ]
  },
  {
   "cell_type": "code",
   "execution_count": 39,
   "metadata": {},
   "outputs": [
    {
     "data": {
      "text/plain": [
       "array([[0.32909482, 0.32544548, 0.17501464, 0.17044505],\n",
       "       [0.3455732 , 0.3188287 , 0.17046779, 0.16513031],\n",
       "       [0.18282689, 0.16629782, 0.3246221 , 0.32625318],\n",
       "       [0.18145558, 0.16389933, 0.33358963, 0.32105546]])"
      ]
     },
     "execution_count": 39,
     "metadata": {},
     "output_type": "execute_result"
    }
   ],
   "source": [
    "estimated_diversion_ratios.reshape((T,J,J)).mean(axis=0)"
   ]
  },
  {
   "cell_type": "code",
   "execution_count": 40,
   "metadata": {},
   "outputs": [
    {
     "data": {
      "text/plain": [
       "array([[0.33115087, 0.30335128, 0.18522023, 0.18027762],\n",
       "       [0.32317153, 0.32122579, 0.18063565, 0.17496703],\n",
       "       [0.19329289, 0.17575241, 0.32765373, 0.30330097],\n",
       "       [0.19192008, 0.17341037, 0.31037504, 0.32429451]])"
      ]
     },
     "execution_count": 40,
     "metadata": {},
     "output_type": "execute_result"
    }
   ],
   "source": [
    "true_diversion_ratios.mean(axis=2)"
   ]
  },
  {
   "cell_type": "markdown",
   "metadata": {},
   "source": [
    "These look reasonably close as well."
   ]
  },
  {
   "cell_type": "markdown",
   "metadata": {},
   "source": [
    "# Part 6"
   ]
  },
  {
   "cell_type": "code",
   "execution_count": 41,
   "metadata": {},
   "outputs": [],
   "source": [
    "# merge firms 1 and 2\n",
    "observed_data['merger_1_ids'] = observed_data['firm_ids'].replace(2, 1)\n",
    "\n",
    "# merge firms 1 and 3\n",
    "observed_data['merger_2_ids'] = observed_data['firm_ids'].replace(3, 1)"
   ]
  },
  {
   "cell_type": "code",
   "execution_count": 42,
   "metadata": {},
   "outputs": [
    {
     "name": "stdout",
     "output_type": "stream",
     "text": [
      "Computing marginal costs ...\n",
      "Finished after 00:00:01.\n",
      "\n",
      "Solving for equilibrium prices ...\n",
      "Finished after 00:00:03.\n",
      "\n",
      "Solving for equilibrium prices ...\n",
      "Finished after 00:00:03.\n",
      "\n"
     ]
    }
   ],
   "source": [
    "marginal_costs = full_problem_results.compute_costs()\n",
    "\n",
    "merger_1_prices = full_problem_results.compute_prices(\n",
    "    firm_ids=observed_data['merger_1_ids'],\n",
    "    costs=marginal_costs\n",
    ")\n",
    "\n",
    "merger_2_prices = full_problem_results.compute_prices(\n",
    "    firm_ids=observed_data['merger_2_ids'],\n",
    "    costs=marginal_costs\n",
    ")"
   ]
  },
  {
   "cell_type": "code",
   "execution_count": 43,
   "metadata": {},
   "outputs": [
    {
     "data": {
      "text/plain": [
       "array([2.73266213, 2.71653207, 2.76078363, 2.73913598])"
      ]
     },
     "execution_count": 43,
     "metadata": {},
     "output_type": "execute_result"
    }
   ],
   "source": [
    "np.mean(eq_prices, axis=1)"
   ]
  },
  {
   "cell_type": "code",
   "execution_count": 44,
   "metadata": {},
   "outputs": [
    {
     "data": {
      "text/plain": [
       "array([2.97945002, 2.99353235, 2.77124927, 2.74875349])"
      ]
     },
     "execution_count": 44,
     "metadata": {},
     "output_type": "execute_result"
    }
   ],
   "source": [
    "# relative price changes, merging 1 and 2\n",
    "np.mean(merger_1_prices.reshape((T,J)),axis=0)  "
   ]
  },
  {
   "cell_type": "code",
   "execution_count": 45,
   "metadata": {},
   "outputs": [
    {
     "data": {
      "text/plain": [
       "array([2.84694606, 2.72847439, 2.8831668 , 2.75133819])"
      ]
     },
     "execution_count": 45,
     "metadata": {},
     "output_type": "execute_result"
    }
   ],
   "source": [
    "# relative price changes, merging 1 and 3\n",
    "np.mean(merger_2_prices.reshape((T,J)),axis=0)"
   ]
  },
  {
   "cell_type": "code",
   "execution_count": 46,
   "metadata": {},
   "outputs": [
    {
     "name": "stdout",
     "output_type": "stream",
     "text": [
      "Solving for equilibrium prices ...\n",
      "Finished after 00:00:03.\n",
      "\n"
     ]
    }
   ],
   "source": [
    "reduction_factors = np.concatenate([0.85*np.ones([T,2]),np.ones([T,2])],axis=1).reshape((T*J,1))\n",
    "reduced_costs = marginal_costs * reduction_factors\n",
    "\n",
    "\n",
    "merger_1_prices_w_cost_reduction = full_problem_results.compute_prices(\n",
    "    firm_ids=observed_data['merger_1_ids'],\n",
    "    costs=reduced_costs\n",
    ")\n"
   ]
  },
  {
   "cell_type": "code",
   "execution_count": 47,
   "metadata": {},
   "outputs": [
    {
     "data": {
      "text/plain": [
       "array([2.78201464, 2.79398463, 2.76110894, 2.73900857])"
      ]
     },
     "execution_count": 47,
     "metadata": {},
     "output_type": "execute_result"
    }
   ],
   "source": [
    "# post-merger relative price changes, 1 and 2 with marginal cost reduction\n",
    "np.mean(merger_1_prices_w_cost_reduction.reshape((T,J)),axis=0)"
   ]
  },
  {
   "cell_type": "code",
   "execution_count": 48,
   "metadata": {},
   "outputs": [
    {
     "name": "stdout",
     "output_type": "stream",
     "text": [
      "Computing consumer surpluses with the equation that assumes away nonlinear income effects ...\n",
      "Finished after 00:00:01.\n",
      "\n",
      "Computing consumer surpluses with the equation that assumes away nonlinear income effects ...\n",
      "Finished after 00:00:01.\n",
      "\n"
     ]
    }
   ],
   "source": [
    "pre_merger_surpluses = full_problem_results.compute_consumer_surpluses()\n",
    "post_merger_surpluses = full_problem_results.compute_consumer_surpluses(prices=merger_1_prices_w_cost_reduction)"
   ]
  },
  {
   "cell_type": "code",
   "execution_count": 49,
   "metadata": {},
   "outputs": [
    {
     "data": {
      "text/plain": [
       "-6.5718246112984176"
      ]
     },
     "execution_count": 49,
     "metadata": {},
     "output_type": "execute_result"
    }
   ],
   "source": [
    "# assuming measure of consumers in each market is 1, the net surpluses are just the sums\n",
    "# this is the net effect on consumer welfare\n",
    "np.sum(post_merger_surpluses - pre_merger_surpluses)"
   ]
  },
  {
   "cell_type": "code",
   "execution_count": 50,
   "metadata": {},
   "outputs": [
    {
     "name": "stdout",
     "output_type": "stream",
     "text": [
      "Computing shares ...\n",
      "Finished after 00:00:01.\n",
      "\n",
      "Computing profits ...\n",
      "Finished after 00:00:01.\n",
      "\n",
      "Computing profits ...\n",
      "Finished after 00:00:00.\n",
      "\n"
     ]
    }
   ],
   "source": [
    "post_merger_shares = full_problem_results.compute_shares(merger_1_prices_w_cost_reduction)\n",
    "pre_merger_profits = full_problem_results.compute_profits()\n",
    "post_merger_profits = full_problem_results.compute_profits(merger_1_prices_w_cost_reduction, post_merger_shares, reduced_costs)"
   ]
  },
  {
   "cell_type": "code",
   "execution_count": 51,
   "metadata": {},
   "outputs": [
    {
     "data": {
      "text/plain": [
       "69.19100664228262"
      ]
     },
     "execution_count": 51,
     "metadata": {},
     "output_type": "execute_result"
    }
   ],
   "source": [
    "# once again assuming measure 1 of consumers in each market\n",
    "# net change in profits\n",
    "np.sum(post_merger_profits - pre_merger_profits) "
   ]
  },
  {
   "cell_type": "code",
   "execution_count": 52,
   "metadata": {},
   "outputs": [
    {
     "data": {
      "text/plain": [
       "62.6191820309842"
      ]
     },
     "execution_count": 52,
     "metadata": {},
     "output_type": "execute_result"
    }
   ],
   "source": [
    "# welfare change\n",
    "np.sum(post_merger_surpluses - pre_merger_surpluses) + np.sum(post_merger_profits - pre_merger_profits) "
   ]
  },
  {
   "cell_type": "code",
   "execution_count": null,
   "metadata": {},
   "outputs": [],
   "source": []
  },
  {
   "cell_type": "code",
   "execution_count": null,
   "metadata": {},
   "outputs": [],
   "source": []
  }
 ],
 "metadata": {
  "kernelspec": {
   "display_name": "Python 3",
   "language": "python",
   "name": "python3"
  },
  "language_info": {
   "codemirror_mode": {
    "name": "ipython",
    "version": 3
   },
   "file_extension": ".py",
   "mimetype": "text/x-python",
   "name": "python",
   "nbconvert_exporter": "python",
   "pygments_lexer": "ipython3",
   "version": "3.7.4"
  }
 },
 "nbformat": 4,
 "nbformat_minor": 2
}
