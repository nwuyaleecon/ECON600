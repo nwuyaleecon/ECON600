{
 "cells": [
  {
   "cell_type": "code",
   "execution_count": 1,
   "metadata": {},
   "outputs": [],
   "source": [
    "import numpy as np\n",
    "from scipy.optimize import fsolve"
   ]
  },
  {
   "cell_type": "code",
   "execution_count": 5,
   "metadata": {},
   "outputs": [],
   "source": [
    "# fixed parameter definitions\n",
    "\n",
    "beta1 = 1\n",
    "alpha = -2\n",
    "gamma0 = 1/2\n",
    "gamma1 = 1/4\n",
    "beta2_bar = 4\n",
    "beta3_bar = 4\n",
    "sigma2 = 1\n",
    "sigma3 = 1\n",
    "\n",
    "# markets and goods\n",
    "T = 600\n",
    "J = 4"
   ]
  },
  {
   "cell_type": "code",
   "execution_count": 6,
   "metadata": {},
   "outputs": [],
   "source": [
    "# 3.1\n",
    "\n",
    "# x_jt, w_jt are absolute value of iid standard normal variables\n",
    "x = np.absolute(np.random.standard_normal(size=(J,T)))\n",
    "w = np.absolute(np.random.standard_normal(size=(J,T)))\n",
    "\n",
    "unobservable_mean = [0,0]\n",
    "unobservable_cov = [[1,0.25],[0.25,1]]\n",
    "unobservables = np.random.multivariate_normal(unobservable_mean, unobservable_cov, size=(J,T))\n",
    "xi = unobservables[:,:,0]\n",
    "omega = unobservables[:,:,1]"
   ]
  },
  {
   "cell_type": "code",
   "execution_count": 4,
   "metadata": {},
   "outputs": [],
   "source": [
    "# 3.2a\n"
   ]
  },
  {
   "cell_type": "code",
   "execution_count": null,
   "metadata": {},
   "outputs": [],
   "source": []
  }
 ],
 "metadata": {
  "kernelspec": {
   "display_name": "Python 3",
   "language": "python",
   "name": "python3"
  },
  "language_info": {
   "codemirror_mode": {
    "name": "ipython",
    "version": 3
   },
   "file_extension": ".py",
   "mimetype": "text/x-python",
   "name": "python",
   "nbconvert_exporter": "python",
   "pygments_lexer": "ipython3",
   "version": "3.7.4"
  }
 },
 "nbformat": 4,
 "nbformat_minor": 2
}
