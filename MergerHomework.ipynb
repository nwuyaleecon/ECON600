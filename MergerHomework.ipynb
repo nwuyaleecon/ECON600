{
 "cells": [
  {
   "cell_type": "code",
   "execution_count": 1,
   "metadata": {},
   "outputs": [],
   "source": [
    "import numpy as np\n",
    "from scipy.optimize import fsolve\n",
    "from matplotlib import pyplot as plt"
   ]
  },
  {
   "cell_type": "code",
   "execution_count": 2,
   "metadata": {},
   "outputs": [],
   "source": [
    "# fixed parameter definitions\n",
    "\n",
    "beta1 = 1\n",
    "alpha = -2\n",
    "gamma0 = 1/2\n",
    "gamma1 = 1/4\n",
    "beta2_bar = 4\n",
    "beta3_bar = 4\n",
    "sigma2 = 1\n",
    "sigma3 = 1\n",
    "\n",
    "# markets and goods\n",
    "T = 600\n",
    "J = 4"
   ]
  },
  {
   "cell_type": "code",
   "execution_count": 3,
   "metadata": {},
   "outputs": [],
   "source": [
    "# 3.1\n",
    "\n",
    "# x_jt, w_jt are absolute value of iid standard normal variables\n",
    "x = np.absolute(np.random.standard_normal(size=(J,T)))\n",
    "w = np.absolute(np.random.standard_normal(size=(J,T)))\n",
    "\n",
    "unobservable_mean = [0,0]\n",
    "unobservable_cov = [[1,0.25],[0.25,1]]\n",
    "unobservables = np.random.multivariate_normal(unobservable_mean, unobservable_cov, size=(J,T))\n",
    "xi = unobservables[:,:,0]\n",
    "omega = unobservables[:,:,1]"
   ]
  },
  {
   "cell_type": "code",
   "execution_count": 4,
   "metadata": {},
   "outputs": [],
   "source": [
    "# 3.2a\n",
    "# defining the market share\n",
    "\n",
    "def own_mkt_share_derivative(t, p, beta2, beta3): \n",
    "    # p should be a length J vector\n",
    "    # betas should be num_sims\n",
    "    \n",
    "    u_t = np.tile(x[:,t] + xi[:,t] + alpha*p, (len(beta2), 1)) # num_sims x J \n",
    "    for j in range(J):\n",
    "        if j < 2:\n",
    "            u_t[:,j] = u_t[:,j] + beta2\n",
    "        else:\n",
    "            u_t[:,j] = u_t[:,j] + beta3\n",
    "            \n",
    "    Z = np.tile( 1 + np.sum(np.exp(u_t),axis=-1), (J,1)).T\n",
    "    numerator = alpha*np.exp(u_t)*Z - alpha*np.square(np.exp(u_t)) # num_sims x J\n",
    "    denominator = np.square(Z)\n",
    "    \n",
    "    return np.mean(numerator / denominator, axis=0)\n",
    "\n",
    "    \n",
    "    \n",
    "def full_mkt_share_derivative(t, p, beta2, beta3):\n",
    "    # p should be a length J vector\n",
    "    # betas should be num_sims\n",
    "    \n",
    "    u_t = np.tile(x[:,t] + xi[:,t] + alpha*p, (len(beta2), 1)) # num_sims x J \n",
    "    for j in range(J):\n",
    "        if j < 2:\n",
    "            u_t[:,j] = u_t[:,j] + beta2\n",
    "        else:\n",
    "            u_t[:,j] = u_t[:,j] + beta3\n",
    "            \n",
    "    Z = np.tile( 1 + np.sum(np.exp(u_t),axis=-1), (J,1)).T # num_sims x J\n",
    "    \n",
    "    derivatives = np.zeros((J,J))\n",
    "    \n",
    "    own_numerator = alpha*np.exp(u_t)*Z - alpha*np.square(np.exp(u_t)) # num_sims x J\n",
    "    denominator = np.square(Z)\n",
    "    \n",
    "    for j in range(J):\n",
    "        derivatives[j,j] = np.mean(own_numerator / denominator, axis=0)[j]\n",
    "        \n",
    "    for j in range(J):\n",
    "        for k in range(J):\n",
    "            if not (j == k):\n",
    "                derivatives[j,k] = np.mean(-1*alpha*np.exp(u_t)[:,k]*np.exp(u_t)[:,j] / np.square(1 + np.sum(np.exp(u_t),axis=-1)))\n",
    "    \n",
    "    return derivatives"
   ]
  },
  {
   "cell_type": "code",
   "execution_count": 5,
   "metadata": {},
   "outputs": [],
   "source": [
    "# s_jt(p) \n",
    "def mkt_share(t, p, beta2, beta3):\n",
    "    # p should be a length J vector\n",
    "    # betas should be num_sims\n",
    "    \n",
    "    u_t = np.tile(x[:,t] + xi[:,t] + alpha*p, (len(beta2), 1)) # num_sims x J \n",
    "    for j in range(J):\n",
    "        if j < 2:\n",
    "            u_t[:,j] = u_t[:,j] + beta2\n",
    "        else:\n",
    "            u_t[:,j] = u_t[:,j] + beta3\n",
    "            \n",
    "    numerator = np.exp(u_t) \n",
    "    denominator = 1 + np.sum(np.exp(u_t),axis=-1) # num_sims\n",
    "    \n",
    "    return np.mean(numerator / (np.tile(denominator, (J, 1)).T), axis=0) \n"
   ]
  },
  {
   "cell_type": "code",
   "execution_count": 6,
   "metadata": {},
   "outputs": [
    {
     "data": {
      "text/plain": [
       "(array([0.10762807, 0.1483604 , 0.07428918, 0.65887591]),\n",
       " array([0.00625792, 0.00862626, 0.00151823, 0.01346532]),\n",
       " array([[-0.3085335 ,  0.0796095 ,  0.13506776,  0.08560505],\n",
       "        [ 0.0796095 , -0.18877944,  0.0644115 ,  0.04082358],\n",
       "        [ 0.13506776,  0.0644115 , -0.4297744 ,  0.21854148],\n",
       "        [ 0.08560505,  0.04082358,  0.21854148, -0.3524195 ]]),\n",
       " array([[0.01095348, 0.00637071, 0.00397916, 0.00252197],\n",
       "        [0.00637071, 0.00817461, 0.0018976 , 0.00120268],\n",
       "        [0.00397916, 0.0018976 , 0.00679929, 0.00961901],\n",
       "        [0.00252197, 0.00120268, 0.00961901, 0.00743091]]))"
      ]
     },
     "execution_count": 6,
     "metadata": {},
     "output_type": "execute_result"
    }
   ],
   "source": [
    "# 3.2a(iv)\n",
    "# draw beta coefficients for N individuals S times, observe variation in market share derivatives\n",
    "\n",
    "S = 100\n",
    "\n",
    "all_derivatives = np.zeros((J,J,S))\n",
    "all_shares = np.zeros((J,S))\n",
    "\n",
    "N = 200\n",
    "\n",
    "price = np.array([1,1,1,1])\n",
    "\n",
    "for s in range(S):\n",
    "    beta2 = np.random.normal(beta2_bar, sigma2, N)\n",
    "    beta3 = np.random.normal(beta3_bar, sigma3, N)\n",
    "    all_derivatives[:,:,s] = full_mkt_share_derivative(0, price, beta2, beta3)\n",
    "    all_shares[:,s] = mkt_share(1, price, beta2, beta3)\n",
    "(np.mean(all_shares,axis=1), np.std(all_shares,axis=1), np.mean(all_derivatives, axis=2), np.std(all_derivatives, axis=2))"
   ]
  },
  {
   "cell_type": "code",
   "execution_count": 7,
   "metadata": {},
   "outputs": [],
   "source": [
    "mc = np.exp( gamma0 + gamma1*w + omega/8)"
   ]
  },
  {
   "cell_type": "code",
   "execution_count": 16,
   "metadata": {},
   "outputs": [],
   "source": [
    "# define function to solve\n",
    "\n",
    "def get_function_to_solve(t, beta2, beta3):\n",
    "    def F(p):\n",
    "        # p is a \n",
    "        ds_dp = own_mkt_share_derivative(t, p, beta2, beta3)\n",
    "        shares = mkt_share(t, p, beta2, beta3)\n",
    "        return p - mc[:,t] + np.reciprocal(ds_dp)*shares\n",
    "        \n",
    "    return F"
   ]
  },
  {
   "cell_type": "code",
   "execution_count": 17,
   "metadata": {},
   "outputs": [
    {
     "data": {
      "text/plain": [
       "True"
      ]
     },
     "execution_count": 17,
     "metadata": {},
     "output_type": "execute_result"
    }
   ],
   "source": [
    "# draw betas, now compute equilibrium prices and shares\n",
    "\n",
    "# 3.2 and 3.3: compute equilibrium shares, prices\n",
    "\n",
    "beta2 = np.random.normal(beta2_bar, sigma2, N)\n",
    "beta3 = np.random.normal(beta3_bar, sigma3, N)\n",
    "\n",
    "# these two variables are the prices and shares\n",
    "eq_prices = np.zeros((J, T))\n",
    "eq_shares = np.zeros((J, T))\n",
    "\n",
    "flag_total = 0\n",
    "\n",
    "for t in range(T):\n",
    "    fn = get_function_to_solve(t, beta2, beta3)\n",
    "    mkt_eq_prices, _ , flag, _ = fsolve(fn, np.array([1,1,1,1]), full_output=True)\n",
    "    flag_total += flag\n",
    "    eq_prices[:,t] = mkt_eq_prices\n",
    "    eq_shares[:, t] = mkt_share(t, mkt_eq_prices, beta2, beta3)\n",
    "    \n",
    "# this should be True iff all of the fsolves converge\n",
    "flag_total == T"
   ]
  },
  {
   "cell_type": "code",
   "execution_count": 21,
   "metadata": {},
   "outputs": [
    {
     "data": {
      "text/plain": [
       "(array([0.2580929 , 0.41805876, 0.10362801, 0.05481309]),\n",
       " array([1.1733439 , 1.33296936, 1.04494269, 0.54750783]),\n",
       " array([1.80080365, 1.89341199, 1.69392408, 2.02867883]))"
      ]
     },
     "execution_count": 21,
     "metadata": {},
     "output_type": "execute_result"
    }
   ],
   "source": [
    "t = 6\n",
    "eq_shares[:,t], x[:,t], mc[:,t]"
   ]
  },
  {
   "cell_type": "code",
   "execution_count": 11,
   "metadata": {},
   "outputs": [
    {
     "data": {
      "text/plain": [
       "(4, 600)"
      ]
     },
     "execution_count": 11,
     "metadata": {},
     "output_type": "execute_result"
    }
   ],
   "source": [
    "x.shape"
   ]
  }
 ],
 "metadata": {
  "kernelspec": {
   "display_name": "Python 3",
   "language": "python",
   "name": "python3"
  },
  "language_info": {
   "codemirror_mode": {
    "name": "ipython",
    "version": 3
   },
   "file_extension": ".py",
   "mimetype": "text/x-python",
   "name": "python",
   "nbconvert_exporter": "python",
   "pygments_lexer": "ipython3",
   "version": "3.7.4"
  }
 },
 "nbformat": 4,
 "nbformat_minor": 2
}
